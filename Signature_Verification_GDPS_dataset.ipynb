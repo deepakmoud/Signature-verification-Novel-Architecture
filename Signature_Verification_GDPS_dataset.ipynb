{
 "cells": [
  {
   "cell_type": "code",
   "execution_count": 1,
   "metadata": {
    "id": "_Sf8lLdMYsCh"
   },
   "outputs": [
    {
     "name": "stderr",
     "output_type": "stream",
     "text": [
      "2022-02-14 12:23:41.502784: I tensorflow/stream_executor/platform/default/dso_loader.cc:49] Successfully opened dynamic library libcudart.so.10.1\n"
     ]
    }
   ],
   "source": [
    "# Importing the Keras libraries and packages\n",
    "\n",
    "import tensorflow as tf\n",
    "from tensorflow.keras import datasets, layers, models\n",
    "import matplotlib.pyplot as plt\n",
    "import numpy as np\n",
    "\n",
    "from tensorflow.keras.models import Sequential\n",
    "from tensorflow.keras.layers import Conv2D\n",
    "from tensorflow.keras.layers import MaxPooling2D,MaxPool2D\n",
    "from tensorflow.keras.layers import Flatten\n",
    "from tensorflow.keras.layers import Dense\n",
    "image_shape=(224,224,3)\n"
   ]
  },
  {
   "cell_type": "code",
   "execution_count": null,
   "metadata": {
    "colab": {
     "base_uri": "https://localhost:8080/"
    },
    "id": "90n6dcKIY3by",
    "outputId": "cedf7dca-b104-48ee-a80f-c7e41f8596c5"
   },
   "outputs": [],
   "source": [
    "#Load the pretrained Network\n",
    "#vgg16_model = VGG16(include_top=False, weights='imagenet', input_tensor=None, input_shape=(img_height,img_width,3), pooling=None, classes=1000)\n",
    "\n",
    "vgg16_model=tf.keras.applications.VGG16(input_shape=image_shape,\n",
    "                                               include_top=False,\n",
    "                                             weights='imagenet')\n",
    "print(\"pretrained Network is loaded\")"
   ]
  },
  {
   "cell_type": "code",
   "execution_count": null,
   "metadata": {
    "colab": {
     "base_uri": "https://localhost:8080/"
    },
    "id": "yed6-8x8Y6bM",
    "outputId": "97745381-791e-4a8a-afcb-c1663f2aec22"
   },
   "outputs": [],
   "source": [
    "# Freeze the layers\n",
    "for layer in vgg16_model.layers:\n",
    "    layer.trainable = False\n",
    "print(\"Pretrained layers are freezed\")"
   ]
  },
  {
   "cell_type": "code",
   "execution_count": 2,
   "metadata": {},
   "outputs": [
    {
     "name": "stderr",
     "output_type": "stream",
     "text": [
      "2022-02-14 12:23:52.550038: I tensorflow/compiler/jit/xla_cpu_device.cc:41] Not creating XLA devices, tf_xla_enable_xla_devices not set\n",
      "2022-02-14 12:23:52.551944: I tensorflow/stream_executor/platform/default/dso_loader.cc:49] Successfully opened dynamic library libcuda.so.1\n",
      "2022-02-14 12:23:52.635955: I tensorflow/core/common_runtime/gpu/gpu_device.cc:1720] Found device 0 with properties: \n",
      "pciBusID: 0000:18:00.0 name: Quadro RTX 8000 computeCapability: 7.5\n",
      "coreClock: 1.77GHz coreCount: 72 deviceMemorySize: 47.45GiB deviceMemoryBandwidth: 625.94GiB/s\n",
      "2022-02-14 12:23:52.636030: I tensorflow/stream_executor/platform/default/dso_loader.cc:49] Successfully opened dynamic library libcudart.so.10.1\n",
      "2022-02-14 12:23:52.657470: I tensorflow/stream_executor/platform/default/dso_loader.cc:49] Successfully opened dynamic library libcublas.so.10\n",
      "2022-02-14 12:23:52.657589: I tensorflow/stream_executor/platform/default/dso_loader.cc:49] Successfully opened dynamic library libcublasLt.so.10\n",
      "2022-02-14 12:23:52.670567: I tensorflow/stream_executor/platform/default/dso_loader.cc:49] Successfully opened dynamic library libcufft.so.10\n",
      "2022-02-14 12:23:52.673523: I tensorflow/stream_executor/platform/default/dso_loader.cc:49] Successfully opened dynamic library libcurand.so.10\n",
      "2022-02-14 12:23:52.695326: I tensorflow/stream_executor/platform/default/dso_loader.cc:49] Successfully opened dynamic library libcusolver.so.10\n",
      "2022-02-14 12:23:52.699929: I tensorflow/stream_executor/platform/default/dso_loader.cc:49] Successfully opened dynamic library libcusparse.so.10\n",
      "2022-02-14 12:23:52.739118: I tensorflow/stream_executor/platform/default/dso_loader.cc:49] Successfully opened dynamic library libcudnn.so.7\n",
      "2022-02-14 12:23:52.740058: I tensorflow/core/common_runtime/gpu/gpu_device.cc:1862] Adding visible gpu devices: 0\n",
      "2022-02-14 12:23:52.740806: I tensorflow/core/platform/cpu_feature_guard.cc:142] This TensorFlow binary is optimized with oneAPI Deep Neural Network Library (oneDNN) to use the following CPU instructions in performance-critical operations:  SSE4.1 SSE4.2 AVX AVX2 AVX512F FMA\n",
      "To enable them in other operations, rebuild TensorFlow with the appropriate compiler flags.\n",
      "2022-02-14 12:23:52.745995: I tensorflow/core/common_runtime/gpu/gpu_device.cc:1720] Found device 0 with properties: \n",
      "pciBusID: 0000:18:00.0 name: Quadro RTX 8000 computeCapability: 7.5\n",
      "coreClock: 1.77GHz coreCount: 72 deviceMemorySize: 47.45GiB deviceMemoryBandwidth: 625.94GiB/s\n",
      "2022-02-14 12:23:52.746045: I tensorflow/stream_executor/platform/default/dso_loader.cc:49] Successfully opened dynamic library libcudart.so.10.1\n",
      "2022-02-14 12:23:52.746085: I tensorflow/stream_executor/platform/default/dso_loader.cc:49] Successfully opened dynamic library libcublas.so.10\n",
      "2022-02-14 12:23:52.746111: I tensorflow/stream_executor/platform/default/dso_loader.cc:49] Successfully opened dynamic library libcublasLt.so.10\n",
      "2022-02-14 12:23:52.746136: I tensorflow/stream_executor/platform/default/dso_loader.cc:49] Successfully opened dynamic library libcufft.so.10\n",
      "2022-02-14 12:23:52.746160: I tensorflow/stream_executor/platform/default/dso_loader.cc:49] Successfully opened dynamic library libcurand.so.10\n",
      "2022-02-14 12:23:52.746186: I tensorflow/stream_executor/platform/default/dso_loader.cc:49] Successfully opened dynamic library libcusolver.so.10\n",
      "2022-02-14 12:23:52.746228: I tensorflow/stream_executor/platform/default/dso_loader.cc:49] Successfully opened dynamic library libcusparse.so.10\n",
      "2022-02-14 12:23:52.746254: I tensorflow/stream_executor/platform/default/dso_loader.cc:49] Successfully opened dynamic library libcudnn.so.7\n",
      "2022-02-14 12:23:52.747004: I tensorflow/core/common_runtime/gpu/gpu_device.cc:1862] Adding visible gpu devices: 0\n",
      "2022-02-14 12:23:52.747297: I tensorflow/stream_executor/platform/default/dso_loader.cc:49] Successfully opened dynamic library libcudart.so.10.1\n",
      "2022-02-14 12:23:53.626598: I tensorflow/core/common_runtime/gpu/gpu_device.cc:1261] Device interconnect StreamExecutor with strength 1 edge matrix:\n",
      "2022-02-14 12:23:53.626640: I tensorflow/core/common_runtime/gpu/gpu_device.cc:1267]      0 \n",
      "2022-02-14 12:23:53.626651: I tensorflow/core/common_runtime/gpu/gpu_device.cc:1280] 0:   N \n",
      "2022-02-14 12:23:53.627792: I tensorflow/core/common_runtime/gpu/gpu_device.cc:1406] Created TensorFlow device (/job:localhost/replica:0/task:0/device:GPU:0 with 45320 MB memory) -> physical GPU (device: 0, name: Quadro RTX 8000, pci bus id: 0000:18:00.0, compute capability: 7.5)\n",
      "2022-02-14 12:23:53.628825: I tensorflow/compiler/jit/xla_gpu_device.cc:99] Not creating XLA devices, tf_xla_enable_xla_devices not set\n"
     ]
    }
   ],
   "source": [
    "from tensorflow.keras.models import Sequential\n",
    "model=Sequential()"
   ]
  },
  {
   "cell_type": "code",
   "execution_count": 3,
   "metadata": {},
   "outputs": [
    {
     "name": "stdout",
     "output_type": "stream",
     "text": [
      "All layers top of pretrained layers are developed\n"
     ]
    }
   ],
   "source": [
    "model.add(Conv2D(input_shape=(224,224,3),filters=64,kernel_size=(3,3),padding=\"same\", activation=\"relu\"))\n",
    "model.add(Conv2D(filters=64,kernel_size=(3,3),padding=\"same\", activation=\"relu\"))\n",
    "model.add(MaxPool2D(pool_size=(2,2),strides=(2,2)))\n",
    "model.add(Conv2D(filters=128, kernel_size=(3,3), padding=\"same\", activation=\"relu\"))\n",
    "model.add(Conv2D(filters=128, kernel_size=(3,3), padding=\"same\", activation=\"relu\"))\n",
    "model.add(MaxPool2D(pool_size=(2,2),strides=(2,2)))\n",
    "model.add(Conv2D(filters=256, kernel_size=(3,3), padding=\"same\", activation=\"relu\"))\n",
    "model.add(Conv2D(filters=256, kernel_size=(3,3), padding=\"same\", activation=\"relu\"))\n",
    "model.add(Conv2D(filters=256, kernel_size=(3,3), padding=\"same\", activation=\"relu\"))\n",
    "model.add(MaxPool2D(pool_size=(2,2),strides=(2,2)))\n",
    "model.add(Conv2D(filters=512, kernel_size=(3,3), padding=\"same\", activation=\"relu\"))\n",
    "model.add(Conv2D(filters=512, kernel_size=(3,3), padding=\"same\", activation=\"relu\"))\n",
    "model.add(Conv2D(filters=512, kernel_size=(3,3), padding=\"same\", activation=\"relu\"))\n",
    "model.add(MaxPool2D(pool_size=(2,2),strides=(2,2)))\n",
    "model.add(Conv2D(filters=512, kernel_size=(3,3), padding=\"same\", activation=\"relu\"))\n",
    "model.add(Conv2D(filters=512, kernel_size=(3,3), padding=\"same\", activation=\"relu\"))\n",
    "model.add(Conv2D(filters=512, kernel_size=(3,3), padding=\"same\", activation=\"relu\"))\n",
    "model.add(MaxPool2D(pool_size=(2,2),strides=(2,2)))\n",
    "model.add(Flatten())\n",
    "model.add(Dense(4096, activation= 'relu'))\n",
    "model.add(Dense(4096, activation= 'relu'))\n",
    "model.add(Dense(1000, activation= 'relu'))\n",
    "hidden_layer=model.add(Dense(128, activation='relu', name='hidden_layer'))\n",
    "classification_layer=model.add(Dense(64, activation='relu', name='classification_layer'))\n",
    "output_layer=model.add(Dense(1, activation='sigmoid', name='output_layer')) \n",
    "print(\"All layers top of pretrained layers are developed\")"
   ]
  },
  {
   "cell_type": "markdown",
   "metadata": {
    "id": "xCoKydhAn-6L"
   },
   "source": [
    "https://www.kaggle.com/blurredmachine/alexnet-architecture-a-complete-guide"
   ]
  },
  {
   "cell_type": "code",
   "execution_count": 4,
   "metadata": {
    "colab": {
     "base_uri": "https://localhost:8080/"
    },
    "id": "TJJplrQeZDKx",
    "outputId": "838d3874-9eaf-4083-c6c9-effb76f3d3dd"
   },
   "outputs": [
    {
     "name": "stdout",
     "output_type": "stream",
     "text": [
      "Input parameters are assigned\n"
     ]
    }
   ],
   "source": [
    "# Input parameter\n",
    "#train_data_dir ='/content/drive/My Drive/Colab Notebooks/Dataset GDPS/train_dir'\n",
    "train_data_dir='/home/poornima/Data/GDPS/train_dir/'\n",
    "val_data_dir ='/home/poornima/Data/GDPS/val_dir/'\n",
    "model_weights_file = '/home/poornima/Data/GDPS/model_vgg16_weights.hdf5'\n",
    "nb_epochs = 50\n",
    "print(\"Input parameters are assigned\")"
   ]
  },
  {
   "cell_type": "code",
   "execution_count": null,
   "metadata": {},
   "outputs": [],
   "source": [
    "model.add(Conv2D(96, kernel_size=(11,11), strides= 1, padding= 'valid', \n",
    "                 activation= 'relu', input_shape=(224,224,3), kernel_initializer= 'he_normal')) \n",
    "model.add(MaxPooling2D(pool_size=(3,3), strides= (2,2), padding= 'valid', data_format= None))\n",
    "model.add(Conv2D(256, kernel_size=(5,5), strides= 1,\n",
    "                    padding= 'same', activation= 'relu',\n",
    "                    kernel_initializer= 'he_normal'))\n",
    "model.add(MaxPooling2D(pool_size=(3,3), strides= (2,2),\n",
    "                          padding= 'valid', data_format= None)) \n",
    "model.add(Conv2D(384, kernel_size=(3,3), strides= 1,\n",
    "                    padding= 'same', activation= 'relu',\n",
    "                    kernel_initializer= 'he_normal'))\n",
    "\n",
    "model.add(Conv2D(384, kernel_size=(3,3), strides= 1,\n",
    "                    padding= 'same', activation= 'relu',\n",
    "                    kernel_initializer= 'he_normal'))\n",
    "\n",
    "model.add(Conv2D(256, kernel_size=(3,3), strides= 1,\n",
    "                    padding= 'same', activation= 'relu',\n",
    "                    kernel_initializer= 'he_normal'))\n",
    "\n",
    "model.add(MaxPooling2D(pool_size=(3,3), strides= (2,2),\n",
    "                          padding= 'valid', data_format= None))\n",
    "\n",
    "\n",
    "model.add(Flatten())\n",
    "model.add(Dense(4096, activation= 'relu'))\n",
    "model.add(Dense(4096, activation= 'relu'))\n",
    "model.add(Dense(1000, activation= 'relu'))\n",
    "hidden_layer=model.add(Dense(128, activation='relu', name='hidden_layer'))\n",
    "classification_layer=model.add(Dense(64, activation='relu', name='classification_layer'))\n",
    "output_layer=model.add(Dense(1, activation='sigmoid', name='output_layer')) \n",
    "print(\"All layers top of pretrained layers are developed\")\n",
    "    "
   ]
  },
  {
   "cell_type": "code",
   "execution_count": 5,
   "metadata": {
    "colab": {
     "base_uri": "https://localhost:8080/"
    },
    "id": "13L22j2RZHrq",
    "outputId": "eeb66893-0e2c-42e5-fee2-412689d4ebe3"
   },
   "outputs": [
    {
     "name": "stdout",
     "output_type": "stream",
     "text": [
      "Model is Complied\n"
     ]
    }
   ],
   "source": [
    "model.compile(loss='binary_crossentropy', optimizer='adam', metrics=['accuracy'])\n",
    "print(\"Model is Complied\")"
   ]
  },
  {
   "cell_type": "code",
   "execution_count": null,
   "metadata": {
    "colab": {
     "base_uri": "https://localhost:8080/"
    },
    "id": "48tUhIKiZMvm",
    "outputId": "d0128913-1b64-4aeb-8539-52b18c0c9faf"
   },
   "outputs": [],
   "source": [
    "from google.colab import drive\n",
    "drive.mount('/content/drive')"
   ]
  },
  {
   "cell_type": "code",
   "execution_count": 6,
   "metadata": {
    "colab": {
     "base_uri": "https://localhost:8080/"
    },
    "id": "lNuqzITRZPn8",
    "outputId": "ff47b9e1-ba3b-4d4e-c9fd-beaa4e7fb8b1"
   },
   "outputs": [
    {
     "name": "stdout",
     "output_type": "stream",
     "text": [
      "Found 172800 images belonging to 2 classes.\n",
      "Found 43200 images belonging to 2 classes.\n"
     ]
    }
   ],
   "source": [
    "# image data generation\n",
    "\n",
    "from tensorflow.keras.preprocessing.image import ImageDataGenerator\n",
    "img_width, img_height = 224, 224\n",
    "train_datagen = ImageDataGenerator(rescale=1./255, shear_range=0.2, zoom_range=0.2, horizontal_flip=True)\n",
    "test_datagen = ImageDataGenerator(rescale=1./255)\n",
    "\n",
    "train_generator = train_datagen.flow_from_directory(train_data_dir, target_size=(img_width, img_height), \n",
    "                                                    batch_size=16,shuffle=False, class_mode='binary')\n",
    "validation_generator = test_datagen.flow_from_directory(val_data_dir, target_size=(img_width, img_height), \n",
    "                                                    batch_size=16,shuffle=False,class_mode='binary')"
   ]
  },
  {
   "cell_type": "code",
   "execution_count": 11,
   "metadata": {},
   "outputs": [],
   "source": [
    "from tensorflow.keras.callbacks import Callback, ModelCheckpoint, EarlyStopping\n",
    "filepath = \"/home/poornima/Data/GDPS/saved-model-{epoch:02d}-{val_accuracy:.2f}.h5\"\n",
    "checkpoint = ModelCheckpoint(filepath, monitor='val_accuracy', verbose=1, save_best_only=True, save_weights_only=False, mode='max')\n",
    "early = EarlyStopping(monitor='val_accuracy', min_delta=0, patience=40, verbose=1, mode='auto')"
   ]
  },
  {
   "cell_type": "code",
   "execution_count": 12,
   "metadata": {
    "colab": {
     "base_uri": "https://localhost:8080/"
    },
    "id": "9A93j5hMZVg_",
    "outputId": "2d0bad13-1476-485a-da35-77c3648057ed"
   },
   "outputs": [
    {
     "name": "stdout",
     "output_type": "stream",
     "text": [
      "Epoch 1/50\n",
      "10800/10800 [==============================] - 2069s 192ms/step - loss: 0.6877 - accuracy: 0.5556 - val_loss: 0.6871 - val_accuracy: 0.5556\n",
      "\n",
      "Epoch 00001: val_accuracy improved from -inf to 0.55556, saving model to /home/poornima/Data/GDPS/saved-model-01-0.56.h5\n",
      "Epoch 2/50\n",
      "10800/10800 [==============================] - 2068s 191ms/step - loss: 0.6873 - accuracy: 0.5556 - val_loss: 0.6870 - val_accuracy: 0.5556\n",
      "\n",
      "Epoch 00002: val_accuracy did not improve from 0.55556\n",
      "Epoch 3/50\n",
      "10800/10800 [==============================] - 2062s 191ms/step - loss: 0.6874 - accuracy: 0.5556 - val_loss: 0.6873 - val_accuracy: 0.5556\n",
      "\n",
      "Epoch 00003: val_accuracy did not improve from 0.55556\n",
      "Epoch 4/50\n",
      "10800/10800 [==============================] - 2063s 191ms/step - loss: 0.6870 - accuracy: 0.5556 - val_loss: 0.6875 - val_accuracy: 0.5556\n",
      "\n",
      "Epoch 00004: val_accuracy did not improve from 0.55556\n",
      "Epoch 5/50\n",
      "10800/10800 [==============================] - 2065s 191ms/step - loss: 0.6874 - accuracy: 0.5556 - val_loss: 0.6870 - val_accuracy: 0.5556\n",
      "\n",
      "Epoch 00005: val_accuracy did not improve from 0.55556\n",
      "Epoch 6/50\n",
      "10800/10800 [==============================] - 2063s 191ms/step - loss: 0.6870 - accuracy: 0.5556 - val_loss: 0.6870 - val_accuracy: 0.5556\n",
      "\n",
      "Epoch 00006: val_accuracy did not improve from 0.55556\n",
      "Epoch 7/50\n",
      "10800/10800 [==============================] - 2076s 192ms/step - loss: 0.6872 - accuracy: 0.5556 - val_loss: 0.6870 - val_accuracy: 0.5556\n",
      "\n",
      "Epoch 00007: val_accuracy did not improve from 0.55556\n",
      "Epoch 8/50\n",
      "10800/10800 [==============================] - 2062s 191ms/step - loss: 0.6872 - accuracy: 0.5556 - val_loss: 0.6871 - val_accuracy: 0.5556\n",
      "\n",
      "Epoch 00008: val_accuracy did not improve from 0.55556\n",
      "Epoch 9/50\n",
      "10800/10800 [==============================] - 2072s 192ms/step - loss: 0.6872 - accuracy: 0.5556 - val_loss: 0.6871 - val_accuracy: 0.5556\n",
      "\n",
      "Epoch 00009: val_accuracy did not improve from 0.55556\n",
      "Epoch 10/50\n",
      "10800/10800 [==============================] - 2060s 191ms/step - loss: 0.6871 - accuracy: 0.5556 - val_loss: 0.6871 - val_accuracy: 0.5556\n",
      "\n",
      "Epoch 00010: val_accuracy did not improve from 0.55556\n",
      "Epoch 11/50\n",
      "10800/10800 [==============================] - 2061s 191ms/step - loss: 0.6872 - accuracy: 0.5556 - val_loss: 0.6871 - val_accuracy: 0.5556\n",
      "\n",
      "Epoch 00011: val_accuracy did not improve from 0.55556\n",
      "Epoch 12/50\n",
      "10800/10800 [==============================] - 2066s 191ms/step - loss: 0.6872 - accuracy: 0.5556 - val_loss: 0.6870 - val_accuracy: 0.5556\n",
      "\n",
      "Epoch 00012: val_accuracy did not improve from 0.55556\n",
      "Epoch 13/50\n",
      "10800/10800 [==============================] - 2064s 191ms/step - loss: 0.6870 - accuracy: 0.5556 - val_loss: 0.6874 - val_accuracy: 0.5556\n",
      "\n",
      "Epoch 00013: val_accuracy did not improve from 0.55556\n",
      "Epoch 14/50\n",
      "10800/10800 [==============================] - 2064s 191ms/step - loss: 0.6872 - accuracy: 0.5556 - val_loss: 0.6870 - val_accuracy: 0.5556\n",
      "\n",
      "Epoch 00014: val_accuracy did not improve from 0.55556\n",
      "Epoch 15/50\n",
      "10800/10800 [==============================] - 2054s 190ms/step - loss: 0.6872 - accuracy: 0.5556 - val_loss: 0.6870 - val_accuracy: 0.5556\n",
      "\n",
      "Epoch 00015: val_accuracy did not improve from 0.55556\n",
      "Epoch 16/50\n",
      "10800/10800 [==============================] - 2063s 191ms/step - loss: 0.6872 - accuracy: 0.5556 - val_loss: 0.6870 - val_accuracy: 0.5556\n",
      "\n",
      "Epoch 00016: val_accuracy did not improve from 0.55556\n",
      "Epoch 17/50\n",
      "10800/10800 [==============================] - 2070s 192ms/step - loss: 0.6871 - accuracy: 0.5556 - val_loss: 0.6870 - val_accuracy: 0.5556\n",
      "\n",
      "Epoch 00017: val_accuracy did not improve from 0.55556\n",
      "Epoch 18/50\n",
      "10800/10800 [==============================] - 2068s 191ms/step - loss: 0.6870 - accuracy: 0.5556 - val_loss: 0.6871 - val_accuracy: 0.5556\n",
      "\n",
      "Epoch 00018: val_accuracy did not improve from 0.55556\n",
      "Epoch 19/50\n",
      "10800/10800 [==============================] - 2064s 191ms/step - loss: 0.6872 - accuracy: 0.5556 - val_loss: 0.6870 - val_accuracy: 0.5556\n",
      "\n",
      "Epoch 00019: val_accuracy did not improve from 0.55556\n",
      "Epoch 20/50\n",
      "10800/10800 [==============================] - 2058s 191ms/step - loss: 0.6871 - accuracy: 0.5556 - val_loss: 0.6870 - val_accuracy: 0.5556\n",
      "\n",
      "Epoch 00020: val_accuracy did not improve from 0.55556\n",
      "Epoch 21/50\n",
      "10800/10800 [==============================] - 2077s 192ms/step - loss: 0.6871 - accuracy: 0.5556 - val_loss: 0.6871 - val_accuracy: 0.5556\n",
      "\n",
      "Epoch 00021: val_accuracy did not improve from 0.55556\n",
      "Epoch 22/50\n",
      "10800/10800 [==============================] - 2070s 192ms/step - loss: 0.6872 - accuracy: 0.5556 - val_loss: 0.6871 - val_accuracy: 0.5556\n",
      "\n",
      "Epoch 00022: val_accuracy did not improve from 0.55556\n",
      "Epoch 23/50\n",
      "10800/10800 [==============================] - 2071s 192ms/step - loss: 0.6871 - accuracy: 0.5556 - val_loss: 0.6870 - val_accuracy: 0.5556\n",
      "\n",
      "Epoch 00023: val_accuracy did not improve from 0.55556\n",
      "Epoch 24/50\n",
      "10800/10800 [==============================] - 2067s 191ms/step - loss: 0.6871 - accuracy: 0.5556 - val_loss: 0.6871 - val_accuracy: 0.5556\n",
      "\n",
      "Epoch 00024: val_accuracy did not improve from 0.55556\n",
      "Epoch 25/50\n",
      "10800/10800 [==============================] - 2055s 190ms/step - loss: 0.6870 - accuracy: 0.5556 - val_loss: 0.6870 - val_accuracy: 0.5556\n",
      "\n",
      "Epoch 00025: val_accuracy did not improve from 0.55556\n",
      "Epoch 26/50\n",
      "10800/10800 [==============================] - 2065s 191ms/step - loss: 0.6872 - accuracy: 0.5556 - val_loss: 0.6870 - val_accuracy: 0.5556\n",
      "\n",
      "Epoch 00026: val_accuracy did not improve from 0.55556\n",
      "Epoch 27/50\n",
      "10800/10800 [==============================] - 2063s 191ms/step - loss: 0.6871 - accuracy: 0.5556 - val_loss: 0.6870 - val_accuracy: 0.5556\n",
      "\n",
      "Epoch 00027: val_accuracy did not improve from 0.55556\n",
      "Epoch 28/50\n",
      "10800/10800 [==============================] - 2060s 191ms/step - loss: 0.6872 - accuracy: 0.5556 - val_loss: 0.6870 - val_accuracy: 0.5556\n",
      "\n",
      "Epoch 00028: val_accuracy did not improve from 0.55556\n",
      "Epoch 29/50\n",
      "10800/10800 [==============================] - 2070s 192ms/step - loss: 0.6871 - accuracy: 0.5556 - val_loss: 0.6871 - val_accuracy: 0.5556\n",
      "\n",
      "Epoch 00029: val_accuracy did not improve from 0.55556\n",
      "Epoch 30/50\n",
      "10800/10800 [==============================] - 2072s 192ms/step - loss: 0.6872 - accuracy: 0.5556 - val_loss: 0.6870 - val_accuracy: 0.5556\n",
      "\n",
      "Epoch 00030: val_accuracy did not improve from 0.55556\n",
      "Epoch 31/50\n",
      "10800/10800 [==============================] - 2075s 192ms/step - loss: 0.6872 - accuracy: 0.5556 - val_loss: 0.6870 - val_accuracy: 0.5556\n",
      "\n",
      "Epoch 00031: val_accuracy did not improve from 0.55556\n",
      "Epoch 32/50\n",
      "10800/10800 [==============================] - 2074s 192ms/step - loss: 0.6872 - accuracy: 0.5556 - val_loss: 0.6870 - val_accuracy: 0.5556\n",
      "\n",
      "Epoch 00032: val_accuracy did not improve from 0.55556\n",
      "Epoch 33/50\n",
      "10800/10800 [==============================] - 2072s 192ms/step - loss: 0.6871 - accuracy: 0.5556 - val_loss: 0.6873 - val_accuracy: 0.5556\n",
      "\n",
      "Epoch 00033: val_accuracy did not improve from 0.55556\n",
      "Epoch 34/50\n",
      "10800/10800 [==============================] - 2070s 192ms/step - loss: 0.6870 - accuracy: 0.5556 - val_loss: 0.6871 - val_accuracy: 0.5556\n",
      "\n",
      "Epoch 00034: val_accuracy did not improve from 0.55556\n",
      "Epoch 35/50\n",
      "10800/10800 [==============================] - 2068s 191ms/step - loss: 0.6871 - accuracy: 0.5556 - val_loss: 0.6870 - val_accuracy: 0.5556\n",
      "\n",
      "Epoch 00035: val_accuracy did not improve from 0.55556\n",
      "Epoch 36/50\n",
      "10800/10800 [==============================] - 2070s 192ms/step - loss: 0.6871 - accuracy: 0.5556 - val_loss: 0.6870 - val_accuracy: 0.5556\n",
      "\n",
      "Epoch 00036: val_accuracy did not improve from 0.55556\n",
      "Epoch 37/50\n",
      "10800/10800 [==============================] - 2070s 192ms/step - loss: 0.6872 - accuracy: 0.5556 - val_loss: 0.6870 - val_accuracy: 0.5556\n",
      "\n",
      "Epoch 00037: val_accuracy did not improve from 0.55556\n",
      "Epoch 38/50\n",
      "10800/10800 [==============================] - 2072s 192ms/step - loss: 0.6872 - accuracy: 0.5556 - val_loss: 0.6870 - val_accuracy: 0.5556\n",
      "\n",
      "Epoch 00038: val_accuracy did not improve from 0.55556\n",
      "Epoch 39/50\n",
      "10800/10800 [==============================] - 2073s 192ms/step - loss: 0.6870 - accuracy: 0.5556 - val_loss: 0.6874 - val_accuracy: 0.5556\n",
      "\n",
      "Epoch 00039: val_accuracy did not improve from 0.55556\n",
      "Epoch 40/50\n"
     ]
    },
    {
     "name": "stdout",
     "output_type": "stream",
     "text": [
      "10800/10800 [==============================] - 2065s 191ms/step - loss: 0.6871 - accuracy: 0.5556 - val_loss: 0.6872 - val_accuracy: 0.5556\n",
      "\n",
      "Epoch 00040: val_accuracy did not improve from 0.55556\n",
      "Epoch 41/50\n",
      "10800/10800 [==============================] - 2073s 192ms/step - loss: 0.6872 - accuracy: 0.5556 - val_loss: 0.6870 - val_accuracy: 0.5556\n",
      "\n",
      "Epoch 00041: val_accuracy did not improve from 0.55556\n",
      "Epoch 00041: early stopping\n",
      "Training Completed!\n"
     ]
    }
   ],
   "source": [
    "#callbacks = [ModelCheckpoint(model_weights_file, monitor='val_acc', save_best_only=True)]\n",
    "\n",
    "history = model.fit(train_generator, epochs=nb_epochs, validation_data=validation_generator, callbacks=[checkpoint,early])\n",
    "\n",
    "print('Training Completed!')"
   ]
  },
  {
   "cell_type": "code",
   "execution_count": 33,
   "metadata": {},
   "outputs": [
    {
     "name": "stdout",
     "output_type": "stream",
     "text": [
      "dict_keys(['loss', 'accuracy', 'val_loss', 'val_accuracy'])\n"
     ]
    },
    {
     "data": {
      "image/png": "[encoded data removed]",
      "text/plain": [
       "<Figure size 432x288 with 1 Axes>"
      ]
     },
     "metadata": {
      "needs_background": "light"
     },
     "output_type": "display_data"
    },
    {
     "data": {
      "image/png": "[encoded data removed]",
      "text/plain": [
       "<Figure size 432x288 with 1 Axes>"
      ]
     },
     "metadata": {
      "needs_background": "light"
     },
     "output_type": "display_data"
    }
   ],
   "source": [
    "import matplotlib.pyplot as plt\n",
    "# list all data in history\n",
    "print(history.history.keys())\n",
    "# summarize history for accuracy\n",
    "plt.plot(history.history['accuracy'])\n",
    "plt.title('model accuracy')\n",
    "plt.ylabel('accuracy')\n",
    "plt.xlabel('epoch')\n",
    "plt.legend(['train', 'test'], loc='upper left')\n",
    "plt.show()\n",
    "# summarize history for loss\n",
    "plt.plot(history.history['loss'])\n",
    "plt.title('model loss')\n",
    "plt.ylabel('loss')\n",
    "plt.xlabel('epoch')\n",
    "plt.legend(['train', 'test'], loc='upper left')\n",
    "plt.show()"
   ]
  },
  {
   "cell_type": "code",
   "execution_count": 13,
   "metadata": {
    "colab": {
     "base_uri": "https://localhost:8080/",
     "height": 340
    },
    "id": "66v0MvyvZZDW",
    "outputId": "98984b6d-74fe-43a7-a011-6145b6ef1c31"
   },
   "outputs": [
    {
     "name": "stdout",
     "output_type": "stream",
     "text": [
      "Model: \"sequential\"\n",
      "_________________________________________________________________\n",
      "Layer (type)                 Output Shape              Param #   \n",
      "=================================================================\n",
      "conv2d (Conv2D)              (None, 224, 224, 64)      1792      \n",
      "_________________________________________________________________\n",
      "conv2d_1 (Conv2D)            (None, 224, 224, 64)      36928     \n",
      "_________________________________________________________________\n",
      "max_pooling2d (MaxPooling2D) (None, 112, 112, 64)      0         \n",
      "_________________________________________________________________\n",
      "conv2d_2 (Conv2D)            (None, 112, 112, 128)     73856     \n",
      "_________________________________________________________________\n",
      "conv2d_3 (Conv2D)            (None, 112, 112, 128)     147584    \n",
      "_________________________________________________________________\n",
      "max_pooling2d_1 (MaxPooling2 (None, 56, 56, 128)       0         \n",
      "_________________________________________________________________\n",
      "conv2d_4 (Conv2D)            (None, 56, 56, 256)       295168    \n",
      "_________________________________________________________________\n",
      "conv2d_5 (Conv2D)            (None, 56, 56, 256)       590080    \n",
      "_________________________________________________________________\n",
      "conv2d_6 (Conv2D)            (None, 56, 56, 256)       590080    \n",
      "_________________________________________________________________\n",
      "max_pooling2d_2 (MaxPooling2 (None, 28, 28, 256)       0         \n",
      "_________________________________________________________________\n",
      "conv2d_7 (Conv2D)            (None, 28, 28, 512)       1180160   \n",
      "_________________________________________________________________\n",
      "conv2d_8 (Conv2D)            (None, 28, 28, 512)       2359808   \n",
      "_________________________________________________________________\n",
      "conv2d_9 (Conv2D)            (None, 28, 28, 512)       2359808   \n",
      "_________________________________________________________________\n",
      "max_pooling2d_3 (MaxPooling2 (None, 14, 14, 512)       0         \n",
      "_________________________________________________________________\n",
      "conv2d_10 (Conv2D)           (None, 14, 14, 512)       2359808   \n",
      "_________________________________________________________________\n",
      "conv2d_11 (Conv2D)           (None, 14, 14, 512)       2359808   \n",
      "_________________________________________________________________\n",
      "conv2d_12 (Conv2D)           (None, 14, 14, 512)       2359808   \n",
      "_________________________________________________________________\n",
      "max_pooling2d_4 (MaxPooling2 (None, 7, 7, 512)         0         \n",
      "_________________________________________________________________\n",
      "flatten (Flatten)            (None, 25088)             0         \n",
      "_________________________________________________________________\n",
      "dense (Dense)                (None, 4096)              102764544 \n",
      "_________________________________________________________________\n",
      "dense_1 (Dense)              (None, 4096)              16781312  \n",
      "_________________________________________________________________\n",
      "dense_2 (Dense)              (None, 1000)              4097000   \n",
      "_________________________________________________________________\n",
      "hidden_layer (Dense)         (None, 128)               128128    \n",
      "_________________________________________________________________\n",
      "classification_layer (Dense) (None, 64)                8256      \n",
      "_________________________________________________________________\n",
      "output_layer (Dense)         (None, 1)                 65        \n",
      "=================================================================\n",
      "Total params: 138,493,993\n",
      "Trainable params: 138,493,993\n",
      "Non-trainable params: 0\n",
      "_________________________________________________________________\n",
      "Saved model to disk\n"
     ]
    }
   ],
   "source": [
    " # save model and architecture to single file\n",
    "model.save('/home/poornima/Data/GDPS/novel_model_verification_GDPS.h5')\n",
    "model.summary()\n",
    "\n",
    "print(\"Saved model to disk\")"
   ]
  },
  {
   "cell_type": "code",
   "execution_count": 14,
   "metadata": {
    "colab": {
     "base_uri": "https://localhost:8080/",
     "height": 34
    },
    "id": "YFq0H2-BZcjS",
    "outputId": "d34179f6-9cc1-4d4f-8779-a91bf775d909"
   },
   "outputs": [
    {
     "name": "stdout",
     "output_type": "stream",
     "text": [
      "Weights saved in local  Drive\n"
     ]
    }
   ],
   "source": [
    "# save weights to single file\n",
    "model.save_weights('/home/poornima/Data/GDPS/novel_model_verification_weights_GDPS.h5')\n",
    "print(\"Weights saved in local  Drive\")"
   ]
  },
  {
   "cell_type": "code",
   "execution_count": 34,
   "metadata": {
    "colab": {
     "base_uri": "https://localhost:8080/",
     "height": 340
    },
    "id": "WZAi-ofxZgR8",
    "outputId": "c719fec6-0ed3-458f-a837-db040ccb9875"
   },
   "outputs": [
    {
     "name": "stdout",
     "output_type": "stream",
     "text": [
      "Model is Loaded\n",
      "Model: \"sequential\"\n",
      "_________________________________________________________________\n",
      "Layer (type)                 Output Shape              Param #   \n",
      "=================================================================\n",
      "conv2d (Conv2D)              (None, 224, 224, 64)      1792      \n",
      "_________________________________________________________________\n",
      "conv2d_1 (Conv2D)            (None, 224, 224, 64)      36928     \n",
      "_________________________________________________________________\n",
      "max_pooling2d (MaxPooling2D) (None, 112, 112, 64)      0         \n",
      "_________________________________________________________________\n",
      "conv2d_2 (Conv2D)            (None, 112, 112, 128)     73856     \n",
      "_________________________________________________________________\n",
      "conv2d_3 (Conv2D)            (None, 112, 112, 128)     147584    \n",
      "_________________________________________________________________\n",
      "max_pooling2d_1 (MaxPooling2 (None, 56, 56, 128)       0         \n",
      "_________________________________________________________________\n",
      "conv2d_4 (Conv2D)            (None, 56, 56, 256)       295168    \n",
      "_________________________________________________________________\n",
      "conv2d_5 (Conv2D)            (None, 56, 56, 256)       590080    \n",
      "_________________________________________________________________\n",
      "conv2d_6 (Conv2D)            (None, 56, 56, 256)       590080    \n",
      "_________________________________________________________________\n",
      "max_pooling2d_2 (MaxPooling2 (None, 28, 28, 256)       0         \n",
      "_________________________________________________________________\n",
      "conv2d_7 (Conv2D)            (None, 28, 28, 512)       1180160   \n",
      "_________________________________________________________________\n",
      "conv2d_8 (Conv2D)            (None, 28, 28, 512)       2359808   \n",
      "_________________________________________________________________\n",
      "conv2d_9 (Conv2D)            (None, 28, 28, 512)       2359808   \n",
      "_________________________________________________________________\n",
      "max_pooling2d_3 (MaxPooling2 (None, 14, 14, 512)       0         \n",
      "_________________________________________________________________\n",
      "conv2d_10 (Conv2D)           (None, 14, 14, 512)       2359808   \n",
      "_________________________________________________________________\n",
      "conv2d_11 (Conv2D)           (None, 14, 14, 512)       2359808   \n",
      "_________________________________________________________________\n",
      "conv2d_12 (Conv2D)           (None, 14, 14, 512)       2359808   \n",
      "_________________________________________________________________\n",
      "max_pooling2d_4 (MaxPooling2 (None, 7, 7, 512)         0         \n",
      "_________________________________________________________________\n",
      "flatten (Flatten)            (None, 25088)             0         \n",
      "_________________________________________________________________\n",
      "dense (Dense)                (None, 4096)              102764544 \n",
      "_________________________________________________________________\n",
      "dense_1 (Dense)              (None, 4096)              16781312  \n",
      "_________________________________________________________________\n",
      "dense_2 (Dense)              (None, 1000)              4097000   \n",
      "_________________________________________________________________\n",
      "hidden_layer (Dense)         (None, 128)               128128    \n",
      "_________________________________________________________________\n",
      "classification_layer (Dense) (None, 64)                8256      \n",
      "_________________________________________________________________\n",
      "output_layer (Dense)         (None, 1)                 65        \n",
      "=================================================================\n",
      "Total params: 138,493,993\n",
      "Trainable params: 138,493,993\n",
      "Non-trainable params: 0\n",
      "_________________________________________________________________\n"
     ]
    }
   ],
   "source": [
    "# Loading saved model from Drive.\n",
    "from tensorflow.keras.models import load_model\n",
    "model = load_model('/home/poornima/Data/GDPS/novel_model_verification_GDPS.h5')\n",
    "print(\"Model is Loaded\")\n",
    "model.summary()"
   ]
  },
  {
   "cell_type": "code",
   "execution_count": 35,
   "metadata": {
    "colab": {
     "base_uri": "https://localhost:8080/",
     "height": 34
    },
    "id": "ycbMLOcjZnmk",
    "outputId": "b8692643-72dd-420a-a35a-60675678fdab"
   },
   "outputs": [
    {
     "name": "stdout",
     "output_type": "stream",
     "text": [
      "Imtermediate model is constructed\n"
     ]
    }
   ],
   "source": [
    "# Extracting Features from classification Layer\n",
    "from tensorflow.keras.models import Model\n",
    "layer_name= 'classification_layer'\n",
    "intermediate_layer_model = Model(inputs=model.input,\n",
    "                                 outputs=model.get_layer(layer_name).output)\n",
    "print(\"Imtermediate model is constructed\")\n"
   ]
  },
  {
   "cell_type": "code",
   "execution_count": 36,
   "metadata": {
    "colab": {
     "base_uri": "https://localhost:8080/",
     "height": 34
    },
    "id": "nb3rfV35Z0nr",
    "outputId": "e945cc01-064d-4ed8-b25e-bc857247f94a"
   },
   "outputs": [
    {
     "name": "stdout",
     "output_type": "stream",
     "text": [
      "Model is Complied\n"
     ]
    }
   ],
   "source": [
    "# Compilation of intermediate model\n",
    "intermediate_layer_model.compile(loss='binary_crossentropy', optimizer='adam', metrics=['accuracy'])\n",
    "print(\"Model is Complied\")"
   ]
  },
  {
   "cell_type": "code",
   "execution_count": 38,
   "metadata": {
    "colab": {
     "base_uri": "https://localhost:8080/",
     "height": 340
    },
    "id": "mjU09Es5Z4Fp",
    "outputId": "3ac70a4d-938b-42d4-dcbf-bc51aac2dc5a"
   },
   "outputs": [
    {
     "name": "stdout",
     "output_type": "stream",
     "text": [
      "Model: \"model_1\"\n",
      "_________________________________________________________________\n",
      "Layer (type)                 Output Shape              Param #   \n",
      "=================================================================\n",
      "conv2d_input (InputLayer)    [(None, 224, 224, 3)]     0         \n",
      "_________________________________________________________________\n",
      "conv2d (Conv2D)              (None, 224, 224, 64)      1792      \n",
      "_________________________________________________________________\n",
      "conv2d_1 (Conv2D)            (None, 224, 224, 64)      36928     \n",
      "_________________________________________________________________\n",
      "max_pooling2d (MaxPooling2D) (None, 112, 112, 64)      0         \n",
      "_________________________________________________________________\n",
      "conv2d_2 (Conv2D)            (None, 112, 112, 128)     73856     \n",
      "_________________________________________________________________\n",
      "conv2d_3 (Conv2D)            (None, 112, 112, 128)     147584    \n",
      "_________________________________________________________________\n",
      "max_pooling2d_1 (MaxPooling2 (None, 56, 56, 128)       0         \n",
      "_________________________________________________________________\n",
      "conv2d_4 (Conv2D)            (None, 56, 56, 256)       295168    \n",
      "_________________________________________________________________\n",
      "conv2d_5 (Conv2D)            (None, 56, 56, 256)       590080    \n",
      "_________________________________________________________________\n",
      "conv2d_6 (Conv2D)            (None, 56, 56, 256)       590080    \n",
      "_________________________________________________________________\n",
      "max_pooling2d_2 (MaxPooling2 (None, 28, 28, 256)       0         \n",
      "_________________________________________________________________\n",
      "conv2d_7 (Conv2D)            (None, 28, 28, 512)       1180160   \n",
      "_________________________________________________________________\n",
      "conv2d_8 (Conv2D)            (None, 28, 28, 512)       2359808   \n",
      "_________________________________________________________________\n",
      "conv2d_9 (Conv2D)            (None, 28, 28, 512)       2359808   \n",
      "_________________________________________________________________\n",
      "max_pooling2d_3 (MaxPooling2 (None, 14, 14, 512)       0         \n",
      "_________________________________________________________________\n",
      "conv2d_10 (Conv2D)           (None, 14, 14, 512)       2359808   \n",
      "_________________________________________________________________\n",
      "conv2d_11 (Conv2D)           (None, 14, 14, 512)       2359808   \n",
      "_________________________________________________________________\n",
      "conv2d_12 (Conv2D)           (None, 14, 14, 512)       2359808   \n",
      "_________________________________________________________________\n",
      "max_pooling2d_4 (MaxPooling2 (None, 7, 7, 512)         0         \n",
      "_________________________________________________________________\n",
      "flatten (Flatten)            (None, 25088)             0         \n",
      "_________________________________________________________________\n",
      "dense (Dense)                (None, 4096)              102764544 \n",
      "_________________________________________________________________\n",
      "dense_1 (Dense)              (None, 4096)              16781312  \n",
      "_________________________________________________________________\n",
      "dense_2 (Dense)              (None, 1000)              4097000   \n",
      "_________________________________________________________________\n",
      "hidden_layer (Dense)         (None, 128)               128128    \n",
      "_________________________________________________________________\n",
      "classification_layer (Dense) (None, 64)                8256      \n",
      "=================================================================\n",
      "Total params: 138,493,928\n",
      "Trainable params: 138,493,928\n",
      "Non-trainable params: 0\n",
      "_________________________________________________________________\n",
      "Saved Intermediate model to disk\n"
     ]
    }
   ],
   "source": [
    "# Saving intermediate model\n",
    "intermediate_layer_model.save('/home/poornima/Data/GDPS/intermediate_model_vgg16_GDPS.h5')\n",
    "intermediate_layer_model.summary()\n",
    "\n",
    "print(\"Saved Intermediate model to disk\")"
   ]
  },
  {
   "cell_type": "code",
   "execution_count": 39,
   "metadata": {
    "colab": {
     "base_uri": "https://localhost:8080/",
     "height": 34
    },
    "id": "_TqY_4BnZ8PX",
    "outputId": "bd8dc019-bf2d-46db-cb68-c3ca6aa97faa"
   },
   "outputs": [
    {
     "name": "stdout",
     "output_type": "stream",
     "text": [
      "Intermediate model is loaded\n"
     ]
    }
   ],
   "source": [
    "# Loading Intermediate Model\n",
    "from tensorflow.keras.models import load_model\n",
    "\n",
    "model = load_model('/home/poornima/Data/GDPS/intermediate_model_vgg16_GDPS.h5')\n",
    "print(\"Intermediate model is loaded\")"
   ]
  },
  {
   "cell_type": "code",
   "execution_count": 43,
   "metadata": {
    "colab": {
     "base_uri": "https://localhost:8080/",
     "height": 34
    },
    "id": "-L31_WFZaB1L",
    "outputId": "add94d2d-b95e-4f7d-db42-bb9550b4cafa"
   },
   "outputs": [
    {
     "name": "stdout",
     "output_type": "stream",
     "text": [
      "(172800,)\n"
     ]
    }
   ],
   "source": [
    "# Training Label feature identification(y_train)\n",
    "\n",
    "batch_size=16\n",
    "sample_count=172800\n",
    "features = np.zeros(shape=(172800, 64))  # Must be equal to the output of the convolutional base\n",
    "labels = np.zeros(shape=(172800))\n",
    "i = 0\n",
    "for inputs_batch, labels_batch in train_generator:\n",
    "   features_batch = model.predict(inputs_batch)\n",
    "   features[i * batch_size: (i + 1) * batch_size] = features_batch\n",
    "   labels[i * batch_size: (i + 1) * batch_size] = labels_batch\n",
    "   i += 1\n",
    "   if i*batch_size  >= sample_count:\n",
    "     break\n",
    "print(labels.shape)"
   ]
  },
  {
   "cell_type": "code",
   "execution_count": 44,
   "metadata": {
    "colab": {
     "base_uri": "https://localhost:8080/",
     "height": 289
    },
    "id": "uTKFifVGaH-D",
    "outputId": "e1dc350a-53d6-4e57-a08f-d70706a24ec8"
   },
   "outputs": [
    {
     "name": "stdout",
     "output_type": "stream",
     "text": [
      "(172800, 64)\n",
      "(172800, 1)\n",
      "[[0.]\n",
      " [0.]\n",
      " [0.]\n",
      " ...\n",
      " [0.]\n",
      " [0.]\n",
      " [0.]]\n",
      "[[0. 0. 0. ... 0. 0. 0.]\n",
      " [0. 0. 0. ... 0. 0. 0.]\n",
      " [0. 0. 0. ... 0. 0. 0.]\n",
      " ...\n",
      " [0. 0. 0. ... 0. 0. 0.]\n",
      " [0. 0. 0. ... 0. 0. 0.]\n",
      " [0. 0. 0. ... 0. 0. 0.]]\n"
     ]
    }
   ],
   "source": [
    "#identification of training Labels\n",
    "features_train=features\n",
    "print(features_train.shape)\n",
    "labels_train=np.expand_dims(labels, axis=1)\n",
    "print(labels_train.shape)\n",
    "print(labels_train)\n",
    "print(features_train)"
   ]
  },
  {
   "cell_type": "code",
   "execution_count": 45,
   "metadata": {
    "colab": {
     "base_uri": "https://localhost:8080/",
     "height": 68
    },
    "id": "zuqyZ1VjaLMJ",
    "outputId": "f5e00603-cdc1-47d9-b305-1e34e60f532c"
   },
   "outputs": [
    {
     "name": "stdout",
     "output_type": "stream",
     "text": [
      "(43200,)\n",
      "(43200, 64)\n",
      "[0. 0. 0. ... 0. 0. 0.]\n"
     ]
    }
   ],
   "source": [
    "# identification of test labels\n",
    "import numpy as np\n",
    "batch_size=16\n",
    "sample_count=43200\n",
    "features_test = np.zeros(shape=(43200, 64))  # Must be equal to the output of the convolutional base\n",
    "labels_test = np.zeros(shape=(43200))\n",
    "i = 0\n",
    "for inputs_batch, labels_batch in validation_generator:\n",
    "   features_batch = model.predict(inputs_batch)\n",
    "   features_test[i * batch_size: (i + 1) * batch_size] = features_batch\n",
    "   labels_test[i * batch_size: (i + 1) * batch_size] = labels_batch\n",
    "   i += 1\n",
    "   if i*batch_size  >= sample_count:\n",
    "     break\n",
    "print(labels_test.shape)\n",
    "print(features_test.shape)\n",
    "print(labels_test)"
   ]
  },
  {
   "cell_type": "code",
   "execution_count": 46,
   "metadata": {
    "colab": {
     "base_uri": "https://localhost:8080/",
     "height": 170
    },
    "id": "3sxB-SqcaPTV",
    "outputId": "0e7e7f5e-25d8-4acf-e720-752fd3d072df"
   },
   "outputs": [
    {
     "name": "stdout",
     "output_type": "stream",
     "text": [
      "(43200, 64)\n",
      "(43200, 1)\n",
      "[[0. 0. 0. ... 0. 0. 0.]\n",
      " [0. 0. 0. ... 0. 0. 0.]\n",
      " [0. 0. 0. ... 0. 0. 0.]\n",
      " ...\n",
      " [0. 0. 0. ... 0. 0. 0.]\n",
      " [0. 0. 0. ... 0. 0. 0.]\n",
      " [0. 0. 0. ... 0. 0. 0.]]\n"
     ]
    }
   ],
   "source": [
    "# #identification of testing Labels\n",
    "print(features_test.shape)\n",
    "labels_test=np.expand_dims(labels_test, axis=1)\n",
    "print(labels_test.shape)\n",
    "print(features_test)"
   ]
  },
  {
   "cell_type": "code",
   "execution_count": 47,
   "metadata": {
    "colab": {
     "base_uri": "https://localhost:8080/",
     "height": 136
    },
    "id": "cXPaTjNEaTDO",
    "outputId": "38295c87-9bc9-4fc0-a4b5-4bbd80e022ed"
   },
   "outputs": [
    {
     "name": "stdout",
     "output_type": "stream",
     "text": [
      "Confusion matrix: \n",
      "[[24000     0]\n",
      " [19200     0]]\n",
      "Accuracy: 55.556\n",
      "Precision: 0.000\n",
      "Recall: 0.000\n",
      "F-Measure: 0.000\n"
     ]
    },
    {
     "name": "stderr",
     "output_type": "stream",
     "text": [
      "/home/poornima/anaconda3/envs/keras/lib/python3.9/site-packages/sklearn/metrics/_classification.py:1318: UndefinedMetricWarning: Precision is ill-defined and being set to 0.0 due to no predicted samples. Use `zero_division` parameter to control this behavior.\n",
      "  _warn_prf(average, modifier, msg_start, len(result))\n"
     ]
    }
   ],
   "source": [
    "# SVM\n",
    "# Feature Scaling\n",
    "from sklearn.preprocessing import StandardScaler\n",
    "sc = StandardScaler()\n",
    "X_train = sc.fit_transform(features_train)\n",
    "X_test = sc.transform(features_test)\n",
    "\n",
    "# Fitting SVM to the Training set\n",
    "from sklearn.svm import SVC\n",
    "classifier = SVC(kernel = 'linear', random_state = 0)\n",
    "classifier.fit(X_train,labels_train.ravel())\n",
    "\n",
    "# Predicting the Test set results\n",
    "y_pred = classifier.predict(X_test)\n",
    "\n",
    "# Making the Confusion Matrix\n",
    "from sklearn.metrics import confusion_matrix\n",
    "cm = confusion_matrix(labels_test, y_pred)\n",
    "print('Confusion matrix: ')\n",
    "print(cm)\n",
    "# calculate Accuracy\n",
    "from sklearn.metrics import accuracy_score\n",
    "print('Accuracy: %.3f' % (accuracy_score(labels_test, y_pred)*100))\n",
    "from sklearn.metrics import precision_score\n",
    "from sklearn.metrics import recall_score\n",
    "from sklearn.metrics import f1_score\n",
    "# calculate precision\n",
    "# Precision = TruePositives / (TruePositives + FalsePositives)\n",
    "precision = precision_score(labels_test, y_pred, average='binary')\n",
    "print('Precision: %.3f' % (precision*100))\n",
    "# calculate recall\n",
    "# Recall = TruePositives / (TruePositives + FalseNegatives)\n",
    "recall = recall_score(labels_test, y_pred, average='binary')\n",
    "print('Recall: %.3f' % (recall*100))\n",
    "# F-Measure = (2 * Precision * Recall) / (Precision + Recall)\n",
    "# calculate score\n",
    "score = f1_score(labels_test, y_pred, average='binary')\n",
    "print('F-Measure: %.3f' % (score*100))"
   ]
  },
  {
   "cell_type": "code",
   "execution_count": 28,
   "metadata": {
    "colab": {
     "base_uri": "https://localhost:8080/",
     "height": 136
    },
    "id": "tK7WfMXhaWy5",
    "outputId": "7a1e7f87-2353-4c21-c73c-6453a7ff3849"
   },
   "outputs": [
    {
     "ename": "ValueError",
     "evalue": "The number of classes has to be greater than one; got 1 class",
     "output_type": "error",
     "traceback": [
      "\u001b[0;31m---------------------------------------------------------------------------\u001b[0m",
      "\u001b[0;31mValueError\u001b[0m                                Traceback (most recent call last)",
      "\u001b[0;32m/tmp/ipykernel_8918/1093036499.py\u001b[0m in \u001b[0;36m<module>\u001b[0;34m\u001b[0m\n\u001b[1;32m      9\u001b[0m \u001b[0;32mfrom\u001b[0m \u001b[0msklearn\u001b[0m\u001b[0;34m.\u001b[0m\u001b[0msvm\u001b[0m \u001b[0;32mimport\u001b[0m \u001b[0mSVC\u001b[0m\u001b[0;34m\u001b[0m\u001b[0;34m\u001b[0m\u001b[0m\n\u001b[1;32m     10\u001b[0m \u001b[0mclassifier\u001b[0m \u001b[0;34m=\u001b[0m \u001b[0mSVC\u001b[0m\u001b[0;34m(\u001b[0m\u001b[0mkernel\u001b[0m \u001b[0;34m=\u001b[0m \u001b[0;34m'rbf'\u001b[0m\u001b[0;34m,\u001b[0m \u001b[0mrandom_state\u001b[0m \u001b[0;34m=\u001b[0m \u001b[0;36m0\u001b[0m\u001b[0;34m)\u001b[0m\u001b[0;34m\u001b[0m\u001b[0;34m\u001b[0m\u001b[0m\n\u001b[0;32m---> 11\u001b[0;31m \u001b[0mclassifier\u001b[0m\u001b[0;34m.\u001b[0m\u001b[0mfit\u001b[0m\u001b[0;34m(\u001b[0m\u001b[0mX_train\u001b[0m\u001b[0;34m,\u001b[0m \u001b[0mlabels_train\u001b[0m\u001b[0;34m.\u001b[0m\u001b[0mravel\u001b[0m\u001b[0;34m(\u001b[0m\u001b[0;34m)\u001b[0m\u001b[0;34m)\u001b[0m\u001b[0;34m\u001b[0m\u001b[0;34m\u001b[0m\u001b[0m\n\u001b[0m\u001b[1;32m     12\u001b[0m \u001b[0;34m\u001b[0m\u001b[0m\n\u001b[1;32m     13\u001b[0m \u001b[0;31m# Predicting the Test set results\u001b[0m\u001b[0;34m\u001b[0m\u001b[0;34m\u001b[0m\u001b[0m\n",
      "\u001b[0;32m~/anaconda3/envs/keras/lib/python3.9/site-packages/sklearn/svm/_base.py\u001b[0m in \u001b[0;36mfit\u001b[0;34m(self, X, y, sample_weight)\u001b[0m\n\u001b[1;32m    197\u001b[0m             )\n\u001b[1;32m    198\u001b[0m \u001b[0;34m\u001b[0m\u001b[0m\n\u001b[0;32m--> 199\u001b[0;31m         \u001b[0my\u001b[0m \u001b[0;34m=\u001b[0m \u001b[0mself\u001b[0m\u001b[0;34m.\u001b[0m\u001b[0m_validate_targets\u001b[0m\u001b[0;34m(\u001b[0m\u001b[0my\u001b[0m\u001b[0;34m)\u001b[0m\u001b[0;34m\u001b[0m\u001b[0;34m\u001b[0m\u001b[0m\n\u001b[0m\u001b[1;32m    200\u001b[0m \u001b[0;34m\u001b[0m\u001b[0m\n\u001b[1;32m    201\u001b[0m         sample_weight = np.asarray(\n",
      "\u001b[0;32m~/anaconda3/envs/keras/lib/python3.9/site-packages/sklearn/svm/_base.py\u001b[0m in \u001b[0;36m_validate_targets\u001b[0;34m(self, y)\u001b[0m\n\u001b[1;32m    718\u001b[0m         \u001b[0mself\u001b[0m\u001b[0;34m.\u001b[0m\u001b[0mclass_weight_\u001b[0m \u001b[0;34m=\u001b[0m \u001b[0mcompute_class_weight\u001b[0m\u001b[0;34m(\u001b[0m\u001b[0mself\u001b[0m\u001b[0;34m.\u001b[0m\u001b[0mclass_weight\u001b[0m\u001b[0;34m,\u001b[0m \u001b[0mclasses\u001b[0m\u001b[0;34m=\u001b[0m\u001b[0mcls\u001b[0m\u001b[0;34m,\u001b[0m \u001b[0my\u001b[0m\u001b[0;34m=\u001b[0m\u001b[0my_\u001b[0m\u001b[0;34m)\u001b[0m\u001b[0;34m\u001b[0m\u001b[0;34m\u001b[0m\u001b[0m\n\u001b[1;32m    719\u001b[0m         \u001b[0;32mif\u001b[0m \u001b[0mlen\u001b[0m\u001b[0;34m(\u001b[0m\u001b[0mcls\u001b[0m\u001b[0;34m)\u001b[0m \u001b[0;34m<\u001b[0m \u001b[0;36m2\u001b[0m\u001b[0;34m:\u001b[0m\u001b[0;34m\u001b[0m\u001b[0;34m\u001b[0m\u001b[0m\n\u001b[0;32m--> 720\u001b[0;31m             raise ValueError(\n\u001b[0m\u001b[1;32m    721\u001b[0m                 \u001b[0;34m\"The number of classes has to be greater than one; got %d class\"\u001b[0m\u001b[0;34m\u001b[0m\u001b[0;34m\u001b[0m\u001b[0m\n\u001b[1;32m    722\u001b[0m                 \u001b[0;34m%\u001b[0m \u001b[0mlen\u001b[0m\u001b[0;34m(\u001b[0m\u001b[0mcls\u001b[0m\u001b[0;34m)\u001b[0m\u001b[0;34m\u001b[0m\u001b[0;34m\u001b[0m\u001b[0m\n",
      "\u001b[0;31mValueError\u001b[0m: The number of classes has to be greater than one; got 1 class"
     ]
    }
   ],
   "source": [
    "# Kernel SVM\n",
    "# Feature Scaling\n",
    "from sklearn.preprocessing import StandardScaler\n",
    "sc = StandardScaler()\n",
    "X_train = sc.fit_transform(features_train)\n",
    "X_test = sc.transform(features_test)\n",
    "\n",
    "# Fitting KernelSVM to the Training set\n",
    "from sklearn.svm import SVC\n",
    "classifier = SVC(kernel = 'rbf', random_state = 0)\n",
    "classifier.fit(X_train, labels_train.ravel())\n",
    "\n",
    "# Predicting the Test set results\n",
    "y_pred = classifier.predict(X_test)\n",
    "\n",
    "# Making the Confusion Matrix\n",
    "from sklearn.metrics import confusion_matrix\n",
    "cm = confusion_matrix(labels_test, y_pred)\n",
    "print('Confusion matrix: ')\n",
    "print(cm)\n",
    "# calculate Accuracy\n",
    "from sklearn.metrics import accuracy_score\n",
    "print('Accuracy: %.3f' % (accuracy_score(labels_test, y_pred)*100))\n",
    "from sklearn.metrics import precision_score\n",
    "from sklearn.metrics import recall_score\n",
    "from sklearn.metrics import f1_score\n",
    "# calculate precision\n",
    "# Precision = TruePositives / (TruePositives + FalsePositives)\n",
    "precision = precision_score(labels_test, y_pred, average='binary')\n",
    "print('Precision: %.3f' % (precision*100))\n",
    "# calculate recall\n",
    "# Recall = TruePositives / (TruePositives + FalseNegatives)\n",
    "recall = recall_score(labels_test, y_pred, average='binary')\n",
    "print('Recall: %.3f' % (recall*100))\n",
    "# F-Measure = (2 * Precision * Recall) / (Precision + Recall)\n",
    "# calculate score\n",
    "score = f1_score(labels_test, y_pred, average='binary')\n",
    "print('F-Measure: %.3f' % (score*100))"
   ]
  },
  {
   "cell_type": "code",
   "execution_count": 48,
   "metadata": {
    "colab": {
     "base_uri": "https://localhost:8080/",
     "height": 136
    },
    "id": "lRNFNMveaah7",
    "outputId": "f088fe27-7e58-4bab-fe4e-07fc044ae0c4"
   },
   "outputs": [
    {
     "name": "stdout",
     "output_type": "stream",
     "text": [
      "Confusion matrix: \n",
      "[[24000     0]\n",
      " [19200     0]]\n",
      "Accuracy: 55.556\n",
      "Precision: 0.000\n",
      "Recall: 0.000\n",
      "F-Measure: 0.000\n"
     ]
    },
    {
     "name": "stderr",
     "output_type": "stream",
     "text": [
      "/home/poornima/anaconda3/envs/keras/lib/python3.9/site-packages/sklearn/metrics/_classification.py:1318: UndefinedMetricWarning: Precision is ill-defined and being set to 0.0 due to no predicted samples. Use `zero_division` parameter to control this behavior.\n",
      "  _warn_prf(average, modifier, msg_start, len(result))\n"
     ]
    }
   ],
   "source": [
    "# Random Forest\n",
    "# Feature Scaling\n",
    "from sklearn.preprocessing import StandardScaler\n",
    "sc = StandardScaler()\n",
    "X_train = sc.fit_transform(features_train)\n",
    "X_test = sc.transform(features_test)\n",
    "\n",
    "# Fitting KernelSVM to the Training set\n",
    "from sklearn.ensemble import RandomForestClassifier\n",
    "classifier = RandomForestClassifier(n_estimators = 10, criterion = 'entropy', random_state = 0)\n",
    "classifier.fit(X_train, labels_train.ravel())\n",
    "\n",
    "# Predicting the Test set results\n",
    "y_pred = classifier.predict(X_test)\n",
    "\n",
    "# Making the Confusion Matrix\n",
    "from sklearn.metrics import confusion_matrix\n",
    "cm = confusion_matrix(labels_test, y_pred)\n",
    "print('Confusion matrix: ')\n",
    "print(cm)\n",
    "# calculate Accuracy\n",
    "from sklearn.metrics import accuracy_score\n",
    "print('Accuracy: %.3f' % (accuracy_score(labels_test, y_pred)*100))\n",
    "from sklearn.metrics import precision_score\n",
    "from sklearn.metrics import recall_score\n",
    "from sklearn.metrics import f1_score\n",
    "# calculate precision\n",
    "# Precision = TruePositives / (TruePositives + FalsePositives)\n",
    "precision = precision_score(labels_test, y_pred, average='binary')\n",
    "print('Precision: %.3f' % (precision*100))\n",
    "# calculate recall\n",
    "# Recall = TruePositives / (TruePositives + FalseNegatives)\n",
    "recall = recall_score(labels_test, y_pred, average='binary')\n",
    "print('Recall: %.3f' % (recall*100))\n",
    "# F-Measure = (2 * Precision * Recall) / (Precision + Recall)\n",
    "# calculate score\n",
    "score = f1_score(labels_test, y_pred, average='binary')\n",
    "print('F-Measure: %.3f' % (score*100))"
   ]
  },
  {
   "cell_type": "code",
   "execution_count": null,
   "metadata": {
    "colab": {
     "base_uri": "https://localhost:8080/",
     "height": 136
    },
    "id": "yv2jInXOakFa",
    "outputId": "db39c23e-c34d-4282-a9fb-5bcf37c68f5f"
   },
   "outputs": [],
   "source": [
    "# Random Forest\n",
    "# Feature Scaling\n",
    "from sklearn.preprocessing import StandardScaler\n",
    "sc = StandardScaler()\n",
    "X_train = sc.fit_transform(features_train)\n",
    "X_test = sc.transform(features_test)\n",
    "\n",
    "# Fitting KernelSVM to the Training set\n",
    "from sklearn.ensemble import RandomForestClassifier\n",
    "classifier = RandomForestClassifier(n_estimators = 10, criterion = 'entropy', random_state = 0)\n",
    "classifier.fit(X_train, labels_train.ravel())\n",
    "\n",
    "# Predicting the Test set results\n",
    "y_pred = classifier.predict(X_test)\n",
    "\n",
    "# Making the Confusion Matrix\n",
    "from sklearn.metrics import confusion_matrix\n",
    "cm = confusion_matrix(labels_test, y_pred)\n",
    "print('Confusion matrix: ')\n",
    "print(cm)\n",
    "# calculate Accuracy\n",
    "from sklearn.metrics import accuracy_score\n",
    "print('Accuracy: %.3f' % (accuracy_score(labels_test, y_pred)*100))\n",
    "from sklearn.metrics import precision_score\n",
    "from sklearn.metrics import recall_score\n",
    "from sklearn.metrics import f1_score\n",
    "# calculate precision\n",
    "# Precision = TruePositives / (TruePositives + FalsePositives)\n",
    "precision = precision_score(labels_test, y_pred, average='binary')\n",
    "print('Precision: %.3f' % (precision*100))\n",
    "# calculate recall\n",
    "# Recall = TruePositives / (TruePositives + FalseNegatives)\n",
    "recall = recall_score(labels_test, y_pred, average='binary')\n",
    "print('Recall: %.3f' % (recall*100))\n",
    "# F-Measure = (2 * Precision * Recall) / (Precision + Recall)\n",
    "# calculate score\n",
    "score = f1_score(labels_test, y_pred, average='binary')\n",
    "print('F-Measure: %.3f' % (score*100))"
   ]
  },
  {
   "cell_type": "code",
   "execution_count": 49,
   "metadata": {
    "colab": {
     "base_uri": "https://localhost:8080/",
     "height": 136
    },
    "id": "bu_p4Ux7apAA",
    "outputId": "e7604cbe-2444-4215-b4da-a387a73f32cf"
   },
   "outputs": [
    {
     "name": "stdout",
     "output_type": "stream",
     "text": [
      "Confusion matrix: \n",
      "[[24000     0]\n",
      " [19200     0]]\n",
      "Accuracy: 55.556\n",
      "Precision: 0.000\n",
      "Recall: 0.000\n",
      "F-Measure: 0.000\n"
     ]
    },
    {
     "name": "stderr",
     "output_type": "stream",
     "text": [
      "/home/poornima/anaconda3/envs/keras/lib/python3.9/site-packages/sklearn/naive_bayes.py:489: RuntimeWarning: divide by zero encountered in log\n",
      "  n_ij = -0.5 * np.sum(np.log(2.0 * np.pi * self.var_[i, :]))\n",
      "/home/poornima/anaconda3/envs/keras/lib/python3.9/site-packages/sklearn/naive_bayes.py:490: RuntimeWarning: invalid value encountered in true_divide\n",
      "  n_ij -= 0.5 * np.sum(((X - self.theta_[i, :]) ** 2) / (self.var_[i, :]), 1)\n",
      "/home/poornima/anaconda3/envs/keras/lib/python3.9/site-packages/sklearn/metrics/_classification.py:1318: UndefinedMetricWarning: Precision is ill-defined and being set to 0.0 due to no predicted samples. Use `zero_division` parameter to control this behavior.\n",
      "  _warn_prf(average, modifier, msg_start, len(result))\n"
     ]
    }
   ],
   "source": [
    "# Naive Bayes\n",
    "# Feature Scaling\n",
    "from sklearn.preprocessing import StandardScaler\n",
    "sc = StandardScaler()\n",
    "X_train = sc.fit_transform(features_train)\n",
    "X_test = sc.transform(features_test)\n",
    "\n",
    "# Fitting KernelSVM to the Training set\n",
    "from sklearn.naive_bayes import GaussianNB\n",
    "classifier = GaussianNB()\n",
    "classifier.fit(X_train, labels_train.ravel())\n",
    "\n",
    "# Predicting the Test set results\n",
    "y_pred = classifier.predict(X_test)\n",
    "\n",
    "# Making the Confusion Matrix\n",
    "from sklearn.metrics import confusion_matrix\n",
    "cm = confusion_matrix(labels_test, y_pred)\n",
    "print('Confusion matrix: ')\n",
    "print(cm)\n",
    "# calculate Accuracy\n",
    "from sklearn.metrics import accuracy_score\n",
    "print('Accuracy: %.3f' % (accuracy_score(labels_test, y_pred)*100))\n",
    "from sklearn.metrics import precision_score\n",
    "from sklearn.metrics import recall_score\n",
    "from sklearn.metrics import f1_score\n",
    "# calculate precision\n",
    "# Precision = TruePositives / (TruePositives + FalsePositives)\n",
    "precision = precision_score(labels_test, y_pred, average='binary')\n",
    "print('Precision: %.3f' % (precision*100))\n",
    "# calculate recall\n",
    "# Recall = TruePositives / (TruePositives + FalseNegatives)\n",
    "recall = recall_score(labels_test, y_pred, average='binary')\n",
    "print('Recall: %.3f' % (recall*100))\n",
    "# F-Measure = (2 * Precision * Recall) / (Precision + Recall)\n",
    "# calculate score\n",
    "score = f1_score(labels_test, y_pred, average='binary')\n",
    "print('F-Measure: %.3f' % (score*100))"
   ]
  },
  {
   "cell_type": "code",
   "execution_count": null,
   "metadata": {
    "colab": {
     "base_uri": "https://localhost:8080/",
     "height": 136
    },
    "id": "YnfeZ4eVavhm",
    "outputId": "2829fe02-479b-4aee-a9e8-b480a44fd5a4"
   },
   "outputs": [],
   "source": [
    "# Feature Scaling\n",
    "from sklearn.preprocessing import StandardScaler\n",
    "sc = StandardScaler()\n",
    "X_train = sc.fit_transform(features_train)\n",
    "X_test = sc.transform(features_test)\n",
    "\n",
    "# Fitting KernelSVM to the Training set\n",
    "from sklearn.neighbors import KNeighborsClassifier\n",
    "classifier =  KNeighborsClassifier(n_neighbors = 5, metric = 'minkowski', p = 2)\n",
    "classifier.fit(X_train, labels_train.ravel())\n",
    "\n",
    "# Predicting the Test set results\n",
    "y_pred = classifier.predict(X_test)\n",
    "\n",
    "# Making the Confusion Matrix\n",
    "from sklearn.metrics import confusion_matrix\n",
    "cm = confusion_matrix(labels_test, y_pred)\n",
    "print('Confusion matrix: ')\n",
    "print(cm)\n",
    "# calculate Accuracy\n",
    "from sklearn.metrics import accuracy_score\n",
    "print('Accuracy: %.3f' % (accuracy_score(labels_test, y_pred)*100))\n",
    "from sklearn.metrics import precision_score\n",
    "from sklearn.metrics import recall_score\n",
    "from sklearn.metrics import f1_score\n",
    "# calculate precision\n",
    "# Precision = TruePositives / (TruePositives + FalsePositives)\n",
    "precision = precision_score(labels_test, y_pred, average='binary')\n",
    "print('Precision: %.3f' % (precision*100))\n",
    "# calculate recall\n",
    "# Recall = TruePositives / (TruePositives + FalseNegatives)\n",
    "recall = recall_score(labels_test, y_pred, average='binary')\n",
    "print('Recall: %.3f' % (recall*100))\n",
    "# F-Measure = (2 * Precision * Recall) / (Precision + Recall)\n",
    "# calculate score\n",
    "score = f1_score(labels_test, y_pred, average='binary')\n",
    "print('F-Measure: %.3f' % (score*100))"
   ]
  },
  {
   "cell_type": "code",
   "execution_count": 50,
   "metadata": {
    "colab": {
     "base_uri": "https://localhost:8080/",
     "height": 136
    },
    "id": "qsHQZapTazre",
    "outputId": "20415cfc-f5a5-46f0-a640-df64f0626191"
   },
   "outputs": [
    {
     "name": "stdout",
     "output_type": "stream",
     "text": [
      "Confusion matrix: \n",
      "[[24000     0]\n",
      " [19200     0]]\n",
      "Accuracy: 55.556\n",
      "Precision: 0.000\n",
      "Recall: 0.000\n",
      "F-Measure: 0.000\n"
     ]
    },
    {
     "name": "stderr",
     "output_type": "stream",
     "text": [
      "/home/poornima/anaconda3/envs/keras/lib/python3.9/site-packages/sklearn/metrics/_classification.py:1318: UndefinedMetricWarning: Precision is ill-defined and being set to 0.0 due to no predicted samples. Use `zero_division` parameter to control this behavior.\n",
      "  _warn_prf(average, modifier, msg_start, len(result))\n"
     ]
    }
   ],
   "source": [
    "from sklearn.linear_model import LogisticRegression\n",
    "\n",
    "classifier = LogisticRegression(random_state = 0)\n",
    "# Feature Scaling\n",
    "from sklearn.preprocessing import StandardScaler\n",
    "sc = StandardScaler()\n",
    "X_train = sc.fit_transform(features_train)\n",
    "X_test = sc.transform(features_test)\n",
    "\n",
    "from sklearn.linear_model import LogisticRegression\n",
    "classifier = LogisticRegression(random_state = 0)\n",
    "classifier.fit(X_train, labels_train.ravel())\n",
    "\n",
    "# Predicting the Test set results\n",
    "y_pred = classifier.predict(X_test)\n",
    "\n",
    "# Making the Confusion Matrix\n",
    "from sklearn.metrics import confusion_matrix\n",
    "cm = confusion_matrix(labels_test, y_pred)\n",
    "print('Confusion matrix: ')\n",
    "print(cm)\n",
    "# calculate Accuracy\n",
    "from sklearn.metrics import accuracy_score\n",
    "print('Accuracy: %.3f' % (accuracy_score(labels_test, y_pred)*100))\n",
    "from sklearn.metrics import precision_score\n",
    "from sklearn.metrics import recall_score\n",
    "from sklearn.metrics import f1_score\n",
    "# calculate precision\n",
    "# Precision = TruePositives / (TruePositives + FalsePositives)\n",
    "precision = precision_score(labels_test, y_pred, average='binary')\n",
    "print('Precision: %.3f' % (precision*100))\n",
    "# calculate recall\n",
    "# Recall = TruePositives / (TruePositives + FalseNegatives)\n",
    "recall = recall_score(labels_test, y_pred, average='binary')\n",
    "print('Recall: %.3f' % (recall*100))\n",
    "# F-Measure = (2 * Precision * Recall) / (Precision + Recall)\n",
    "# calculate score\n",
    "score = f1_score(labels_test, y_pred, average='binary')\n",
    "print('F-Measure: %.3f' % (score*100))"
   ]
  },
  {
   "cell_type": "code",
   "execution_count": null,
   "metadata": {
    "colab": {
     "base_uri": "https://localhost:8080/",
     "height": 85
    },
    "id": "f7EDeFata22V",
    "outputId": "d128b41e-4efa-4322-fc24-ec9160e7099e"
   },
   "outputs": [],
   "source": [
    "from tensorflow.keras.models import load_model\n",
    "\n",
    "model = load_model('/home/poornima/Data/Dataset GDPS-20220127T080751Z-001/Dataset GDPS/model_vgg16_GDPS.h5')\n",
    "# Evaluate the model on the test data using `evaluate`\n",
    "print('\\n# Evaluate on test data')\n",
    "results = model.evaluate(validation_generator)\n",
    "print('test loss, test acc:', results)"
   ]
  },
  {
   "cell_type": "code",
   "execution_count": null,
   "metadata": {
    "colab": {
     "base_uri": "https://localhost:8080/",
     "height": 83,
     "referenced_widgets": [
      "3bb62a57242e42c5a1d64b5a22be1aa0",
      "05a69fe882d447d094157958ab8e9bc9",
      "6f251c500d4048e2a33b2fdd5b1f9e3b",
      "ae39a7caa10e4b0ca753de0771874d07",
      "46c90d206d3f4d29b64a59db3e6f979f"
     ]
    },
    "id": "JLQ8BYGedcbk",
    "outputId": "c288c170-589c-4cb3-bc75-c56b1d70a5b8"
   },
   "outputs": [],
   "source": [
    "from tensorflow.keras.preprocessing import image\n",
    "from tensorflow.keras.applications.vgg16 import preprocess_input\n",
    "from tensorflow.keras.models import Model\n",
    "import numpy as np\n",
    "from tensorflow.keras.models import load_model\n",
    "import ipywidgets as widgets\n",
    "from IPython.display import display\n",
    "button = widgets.Button(description=\"Click to know category of Image\",  )\n",
    "output = widgets.Output()\n",
    "\n",
    "model = load_model('/content/drive/My Drive/Colab Notebooks/Signature Verification vgg16 model GDPS/model_vgg16_GDPS.h5')\n",
    "img_path = '/content/drive/My Drive/Colab Notebooks/Dataset GDPS/train_dir/forged/cf-001-01.jpg'\n",
    "img = image.load_img(img_path, target_size=(224, 224))\n",
    "x = image.img_to_array(img)\n",
    "x = np.expand_dims(x, axis=0)\n",
    "x = preprocess_input(x)\n",
    "\n",
    "block4_pool_features = model.predict(x)\n",
    "print(block4_pool_features)\n",
    "if(block4_pool_features> 0.5):\n",
    "  a= 'Genuine'\n",
    "elif(block4_pool_features< 0.5):\n",
    "  a='forged'\n",
    "def on_button_clicked(b):\n",
    "  # Display the message within the output widget.\n",
    "  with output:\n",
    "    print(\"Image is  \"  + a)\n",
    "\n",
    "button.on_click(on_button_clicked)\n",
    "display(button, output)"
   ]
  },
  {
   "cell_type": "code",
   "execution_count": null,
   "metadata": {
    "colab": {
     "base_uri": "https://localhost:8080/",
     "height": 66,
     "referenced_widgets": [
      "d51a8019e74344f088a8f7ef974eb613",
      "a52c0dab35c8411f8a1e83686d210415",
      "153a6e590daf47bf92200b4baeb536fc",
      "bed5f74780ae4f8d87800bd1e244be5e",
      "642c7e2437e84b21b937880c574192ea"
     ]
    },
    "id": "ZjRNvlFcI8HY",
    "outputId": "118fba02-fbbf-4d8f-8ded-c081e89ca63d"
   },
   "outputs": [],
   "source": [
    "import ipywidgets as widgets\n",
    "from IPython.display import display\n",
    "button = widgets.Button(description=\"Click Me!\")\n",
    "output = widgets.Output()\n",
    "\n",
    "def on_button_clicked(b):\n",
    "  # Display the message within the output widget.\n",
    "  with output:\n",
    "    print(\"Button clicked.\")\n",
    "\n",
    "button.on_click(on_button_clicked)\n",
    "display(button, output)"
   ]
  }
 ],
 "metadata": {
  "accelerator": "GPU",
  "colab": {
   "collapsed_sections": [],
   "name": "Signature Verification  GDPS dataset.ipynb",
   "provenance": []
  },
  "kernelspec": {
   "display_name": "Python 3 (ipykernel)",
   "language": "python",
   "name": "python3"
  },
  "language_info": {
   "codemirror_mode": {
    "name": "ipython",
    "version": 3
   },
   "file_extension": ".py",
   "mimetype": "text/x-python",
   "name": "python",
   "nbconvert_exporter": "python",
   "pygments_lexer": "ipython3",
   "version": "3.9.7"
  },
  "widgets": {
   "application/vnd.jupyter.widget-state+json": {
    "05a69fe882d447d094157958ab8e9bc9": {
     "model_module": "@jupyter-widgets/base",
     "model_module_version": "1.2.0",
     "model_name": "LayoutModel",
     "state": {
      "_model_module": "@jupyter-widgets/base",
      "_model_module_version": "1.2.0",
      "_model_name": "LayoutModel",
      "_view_count": null,
      "_view_module": "@jupyter-widgets/base",
      "_view_module_version": "1.2.0",
      "_view_name": "LayoutView",
      "align_content": null,
      "align_items": null,
      "align_self": null,
      "border": null,
      "bottom": null,
      "display": null,
      "flex": null,
      "flex_flow": null,
      "grid_area": null,
      "grid_auto_columns": null,
      "grid_auto_flow": null,
      "grid_auto_rows": null,
      "grid_column": null,
      "grid_gap": null,
      "grid_row": null,
      "grid_template_areas": null,
      "grid_template_columns": null,
      "grid_template_rows": null,
      "height": null,
      "justify_content": null,
      "justify_items": null,
      "left": null,
      "margin": null,
      "max_height": null,
      "max_width": null,
      "min_height": null,
      "min_width": null,
      "object_fit": null,
      "object_position": null,
      "order": null,
      "overflow": null,
      "overflow_x": null,
      "overflow_y": null,
      "padding": null,
      "right": null,
      "top": null,
      "visibility": null,
      "width": null
     }
    },
    "153a6e590daf47bf92200b4baeb536fc": {
     "model_module": "@jupyter-widgets/controls",
     "model_module_version": "1.5.0",
     "model_name": "ButtonStyleModel",
     "state": {
      "_model_module": "@jupyter-widgets/controls",
      "_model_module_version": "1.5.0",
      "_model_name": "ButtonStyleModel",
      "_view_count": null,
      "_view_module": "@jupyter-widgets/base",
      "_view_module_version": "1.2.0",
      "_view_name": "StyleView",
      "button_color": null,
      "font_weight": ""
     }
    },
    "3bb62a57242e42c5a1d64b5a22be1aa0": {
     "model_module": "@jupyter-widgets/controls",
     "model_module_version": "1.5.0",
     "model_name": "ButtonModel",
     "state": {
      "_dom_classes": [],
      "_model_module": "@jupyter-widgets/controls",
      "_model_module_version": "1.5.0",
      "_model_name": "ButtonModel",
      "_view_count": null,
      "_view_module": "@jupyter-widgets/controls",
      "_view_module_version": "1.5.0",
      "_view_name": "ButtonView",
      "button_style": "",
      "description": "Click to know category of Image",
      "disabled": false,
      "icon": "",
      "layout": "IPY_MODEL_05a69fe882d447d094157958ab8e9bc9",
      "style": "IPY_MODEL_6f251c500d4048e2a33b2fdd5b1f9e3b",
      "tooltip": ""
     }
    },
    "46c90d206d3f4d29b64a59db3e6f979f": {
     "model_module": "@jupyter-widgets/base",
     "model_module_version": "1.2.0",
     "model_name": "LayoutModel",
     "state": {
      "_model_module": "@jupyter-widgets/base",
      "_model_module_version": "1.2.0",
      "_model_name": "LayoutModel",
      "_view_count": null,
      "_view_module": "@jupyter-widgets/base",
      "_view_module_version": "1.2.0",
      "_view_name": "LayoutView",
      "align_content": null,
      "align_items": null,
      "align_self": null,
      "border": null,
      "bottom": null,
      "display": null,
      "flex": null,
      "flex_flow": null,
      "grid_area": null,
      "grid_auto_columns": null,
      "grid_auto_flow": null,
      "grid_auto_rows": null,
      "grid_column": null,
      "grid_gap": null,
      "grid_row": null,
      "grid_template_areas": null,
      "grid_template_columns": null,
      "grid_template_rows": null,
      "height": null,
      "justify_content": null,
      "justify_items": null,
      "left": null,
      "margin": null,
      "max_height": null,
      "max_width": null,
      "min_height": null,
      "min_width": null,
      "object_fit": null,
      "object_position": null,
      "order": null,
      "overflow": null,
      "overflow_x": null,
      "overflow_y": null,
      "padding": null,
      "right": null,
      "top": null,
      "visibility": null,
      "width": null
     }
    },
    "642c7e2437e84b21b937880c574192ea": {
     "model_module": "@jupyter-widgets/base",
     "model_module_version": "1.2.0",
     "model_name": "LayoutModel",
     "state": {
      "_model_module": "@jupyter-widgets/base",
      "_model_module_version": "1.2.0",
      "_model_name": "LayoutModel",
      "_view_count": null,
      "_view_module": "@jupyter-widgets/base",
      "_view_module_version": "1.2.0",
      "_view_name": "LayoutView",
      "align_content": null,
      "align_items": null,
      "align_self": null,
      "border": null,
      "bottom": null,
      "display": null,
      "flex": null,
      "flex_flow": null,
      "grid_area": null,
      "grid_auto_columns": null,
      "grid_auto_flow": null,
      "grid_auto_rows": null,
      "grid_column": null,
      "grid_gap": null,
      "grid_row": null,
      "grid_template_areas": null,
      "grid_template_columns": null,
      "grid_template_rows": null,
      "height": null,
      "justify_content": null,
      "justify_items": null,
      "left": null,
      "margin": null,
      "max_height": null,
      "max_width": null,
      "min_height": null,
      "min_width": null,
      "object_fit": null,
      "object_position": null,
      "order": null,
      "overflow": null,
      "overflow_x": null,
      "overflow_y": null,
      "padding": null,
      "right": null,
      "top": null,
      "visibility": null,
      "width": null
     }
    },
    "6f251c500d4048e2a33b2fdd5b1f9e3b": {
     "model_module": "@jupyter-widgets/controls",
     "model_module_version": "1.5.0",
     "model_name": "ButtonStyleModel",
     "state": {
      "_model_module": "@jupyter-widgets/controls",
      "_model_module_version": "1.5.0",
      "_model_name": "ButtonStyleModel",
      "_view_count": null,
      "_view_module": "@jupyter-widgets/base",
      "_view_module_version": "1.2.0",
      "_view_name": "StyleView",
      "button_color": null,
      "font_weight": ""
     }
    },
    "a52c0dab35c8411f8a1e83686d210415": {
     "model_module": "@jupyter-widgets/base",
     "model_module_version": "1.2.0",
     "model_name": "LayoutModel",
     "state": {
      "_model_module": "@jupyter-widgets/base",
      "_model_module_version": "1.2.0",
      "_model_name": "LayoutModel",
      "_view_count": null,
      "_view_module": "@jupyter-widgets/base",
      "_view_module_version": "1.2.0",
      "_view_name": "LayoutView",
      "align_content": null,
      "align_items": null,
      "align_self": null,
      "border": null,
      "bottom": null,
      "display": null,
      "flex": null,
      "flex_flow": null,
      "grid_area": null,
      "grid_auto_columns": null,
      "grid_auto_flow": null,
      "grid_auto_rows": null,
      "grid_column": null,
      "grid_gap": null,
      "grid_row": null,
      "grid_template_areas": null,
      "grid_template_columns": null,
      "grid_template_rows": null,
      "height": null,
      "justify_content": null,
      "justify_items": null,
      "left": null,
      "margin": null,
      "max_height": null,
      "max_width": null,
      "min_height": null,
      "min_width": null,
      "object_fit": null,
      "object_position": null,
      "order": null,
      "overflow": null,
      "overflow_x": null,
      "overflow_y": null,
      "padding": null,
      "right": null,
      "top": null,
      "visibility": null,
      "width": null
     }
    },
    "ae39a7caa10e4b0ca753de0771874d07": {
     "model_module": "@jupyter-widgets/output",
     "model_module_version": "1.0.0",
     "model_name": "OutputModel",
     "state": {
      "_dom_classes": [],
      "_model_module": "@jupyter-widgets/output",
      "_model_module_version": "1.0.0",
      "_model_name": "OutputModel",
      "_view_count": null,
      "_view_module": "@jupyter-widgets/output",
      "_view_module_version": "1.0.0",
      "_view_name": "OutputView",
      "layout": "IPY_MODEL_46c90d206d3f4d29b64a59db3e6f979f",
      "msg_id": "",
      "outputs": [
       {
        "metadata": {
         "tags": []
        },
        "output_type": "stream",
        "stream": "stdout",
        "text": "Image is  forged\n"
       }
      ]
     }
    },
    "bed5f74780ae4f8d87800bd1e244be5e": {
     "model_module": "@jupyter-widgets/output",
     "model_module_version": "1.0.0",
     "model_name": "OutputModel",
     "state": {
      "_dom_classes": [],
      "_model_module": "@jupyter-widgets/output",
      "_model_module_version": "1.0.0",
      "_model_name": "OutputModel",
      "_view_count": null,
      "_view_module": "@jupyter-widgets/output",
      "_view_module_version": "1.0.0",
      "_view_name": "OutputView",
      "layout": "IPY_MODEL_642c7e2437e84b21b937880c574192ea",
      "msg_id": "",
      "outputs": [
       {
        "metadata": {
         "tags": []
        },
        "output_type": "stream",
        "stream": "stdout",
        "text": "Button clicked.\n"
       }
      ]
     }
    },
    "d51a8019e74344f088a8f7ef974eb613": {
     "model_module": "@jupyter-widgets/controls",
     "model_module_version": "1.5.0",
     "model_name": "ButtonModel",
     "state": {
      "_dom_classes": [],
      "_model_module": "@jupyter-widgets/controls",
      "_model_module_version": "1.5.0",
      "_model_name": "ButtonModel",
      "_view_count": null,
      "_view_module": "@jupyter-widgets/controls",
      "_view_module_version": "1.5.0",
      "_view_name": "ButtonView",
      "button_style": "",
      "description": "Click Me!",
      "disabled": false,
      "icon": "",
      "layout": "IPY_MODEL_a52c0dab35c8411f8a1e83686d210415",
      "style": "IPY_MODEL_153a6e590daf47bf92200b4baeb536fc",
      "tooltip": ""
     }
    }
   }
  }
 },
 "nbformat": 4,
 "nbformat_minor": 1
}
