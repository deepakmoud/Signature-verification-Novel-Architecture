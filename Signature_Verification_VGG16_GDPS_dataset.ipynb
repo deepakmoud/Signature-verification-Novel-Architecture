{
 "cells": [
  {
   "cell_type": "code",
   "execution_count": 7,
   "metadata": {
    "id": "_Sf8lLdMYsCh"
   },
   "outputs": [],
   "source": [
    "# Importing the Keras libraries and packages\n",
    "\n",
    "import tensorflow as tf\n",
    "from tensorflow.keras import datasets, layers, models\n",
    "import matplotlib.pyplot as plt\n",
    "import numpy as np\n",
    "\n",
    "from tensorflow.keras.models import Sequential\n",
    "from tensorflow.keras.layers import Conv2D\n",
    "from tensorflow.keras.layers import MaxPooling2D,MaxPool2D\n",
    "from tensorflow.keras.layers import Flatten\n",
    "from tensorflow.keras.layers import Dense\n",
    "image_shape=(224,224,3)\n"
   ]
  },
  {
   "cell_type": "code",
   "execution_count": 2,
   "metadata": {
    "colab": {
     "base_uri": "https://localhost:8080/"
    },
    "id": "90n6dcKIY3by",
    "outputId": "cedf7dca-b104-48ee-a80f-c7e41f8596c5"
   },
   "outputs": [
    {
     "name": "stderr",
     "output_type": "stream",
     "text": [
      "2022-02-19 16:41:57.742682: I tensorflow/compiler/jit/xla_cpu_device.cc:41] Not creating XLA devices, tf_xla_enable_xla_devices not set\n",
      "2022-02-19 16:41:57.743953: I tensorflow/stream_executor/platform/default/dso_loader.cc:49] Successfully opened dynamic library libcuda.so.1\n",
      "2022-02-19 16:41:57.843299: I tensorflow/core/common_runtime/gpu/gpu_device.cc:1720] Found device 0 with properties: \n",
      "pciBusID: 0000:18:00.0 name: Quadro RTX 8000 computeCapability: 7.5\n",
      "coreClock: 1.77GHz coreCount: 72 deviceMemorySize: 47.45GiB deviceMemoryBandwidth: 625.94GiB/s\n",
      "2022-02-19 16:41:57.843362: I tensorflow/stream_executor/platform/default/dso_loader.cc:49] Successfully opened dynamic library libcudart.so.10.1\n",
      "2022-02-19 16:41:57.847249: I tensorflow/stream_executor/platform/default/dso_loader.cc:49] Successfully opened dynamic library libcublas.so.10\n",
      "2022-02-19 16:41:57.847365: I tensorflow/stream_executor/platform/default/dso_loader.cc:49] Successfully opened dynamic library libcublasLt.so.10\n",
      "2022-02-19 16:41:57.850681: I tensorflow/stream_executor/platform/default/dso_loader.cc:49] Successfully opened dynamic library libcufft.so.10\n",
      "2022-02-19 16:41:57.851263: I tensorflow/stream_executor/platform/default/dso_loader.cc:49] Successfully opened dynamic library libcurand.so.10\n",
      "2022-02-19 16:41:57.854520: I tensorflow/stream_executor/platform/default/dso_loader.cc:49] Successfully opened dynamic library libcusolver.so.10\n",
      "2022-02-19 16:41:57.856184: I tensorflow/stream_executor/platform/default/dso_loader.cc:49] Successfully opened dynamic library libcusparse.so.10\n",
      "2022-02-19 16:41:57.862482: I tensorflow/stream_executor/platform/default/dso_loader.cc:49] Successfully opened dynamic library libcudnn.so.7\n",
      "2022-02-19 16:41:57.863154: I tensorflow/core/common_runtime/gpu/gpu_device.cc:1862] Adding visible gpu devices: 0\n",
      "2022-02-19 16:41:57.864027: I tensorflow/core/platform/cpu_feature_guard.cc:142] This TensorFlow binary is optimized with oneAPI Deep Neural Network Library (oneDNN) to use the following CPU instructions in performance-critical operations:  SSE4.1 SSE4.2 AVX AVX2 AVX512F FMA\n",
      "To enable them in other operations, rebuild TensorFlow with the appropriate compiler flags.\n",
      "2022-02-19 16:41:57.867087: I tensorflow/core/common_runtime/gpu/gpu_device.cc:1720] Found device 0 with properties: \n",
      "pciBusID: 0000:18:00.0 name: Quadro RTX 8000 computeCapability: 7.5\n",
      "coreClock: 1.77GHz coreCount: 72 deviceMemorySize: 47.45GiB deviceMemoryBandwidth: 625.94GiB/s\n",
      "2022-02-19 16:41:57.867113: I tensorflow/stream_executor/platform/default/dso_loader.cc:49] Successfully opened dynamic library libcudart.so.10.1\n",
      "2022-02-19 16:41:57.867135: I tensorflow/stream_executor/platform/default/dso_loader.cc:49] Successfully opened dynamic library libcublas.so.10\n",
      "2022-02-19 16:41:57.867146: I tensorflow/stream_executor/platform/default/dso_loader.cc:49] Successfully opened dynamic library libcublasLt.so.10\n",
      "2022-02-19 16:41:57.867157: I tensorflow/stream_executor/platform/default/dso_loader.cc:49] Successfully opened dynamic library libcufft.so.10\n",
      "2022-02-19 16:41:57.867168: I tensorflow/stream_executor/platform/default/dso_loader.cc:49] Successfully opened dynamic library libcurand.so.10\n",
      "2022-02-19 16:41:57.867179: I tensorflow/stream_executor/platform/default/dso_loader.cc:49] Successfully opened dynamic library libcusolver.so.10\n",
      "2022-02-19 16:41:57.867190: I tensorflow/stream_executor/platform/default/dso_loader.cc:49] Successfully opened dynamic library libcusparse.so.10\n",
      "2022-02-19 16:41:57.867201: I tensorflow/stream_executor/platform/default/dso_loader.cc:49] Successfully opened dynamic library libcudnn.so.7\n",
      "2022-02-19 16:41:57.867604: I tensorflow/core/common_runtime/gpu/gpu_device.cc:1862] Adding visible gpu devices: 0\n",
      "2022-02-19 16:41:57.867639: I tensorflow/stream_executor/platform/default/dso_loader.cc:49] Successfully opened dynamic library libcudart.so.10.1\n",
      "2022-02-19 16:41:58.439075: I tensorflow/core/common_runtime/gpu/gpu_device.cc:1261] Device interconnect StreamExecutor with strength 1 edge matrix:\n",
      "2022-02-19 16:41:58.439112: I tensorflow/core/common_runtime/gpu/gpu_device.cc:1267]      0 \n",
      "2022-02-19 16:41:58.439117: I tensorflow/core/common_runtime/gpu/gpu_device.cc:1280] 0:   N \n",
      "2022-02-19 16:41:58.439818: I tensorflow/core/common_runtime/gpu/gpu_device.cc:1406] Created TensorFlow device (/job:localhost/replica:0/task:0/device:GPU:0 with 45320 MB memory) -> physical GPU (device: 0, name: Quadro RTX 8000, pci bus id: 0000:18:00.0, compute capability: 7.5)\n",
      "2022-02-19 16:41:58.440188: I tensorflow/compiler/jit/xla_gpu_device.cc:99] Not creating XLA devices, tf_xla_enable_xla_devices not set\n"
     ]
    },
    {
     "name": "stdout",
     "output_type": "stream",
     "text": [
      "pretrained Network is loaded\n"
     ]
    }
   ],
   "source": [
    "#Load the pretrained Network\n",
    "#vgg16_model = VGG16(include_top=False, weights='imagenet', input_tensor=None, input_shape=(img_height,img_width,3), pooling=None, classes=1000)\n",
    "\n",
    "vgg16_model=tf.keras.applications.VGG16(input_shape=image_shape,\n",
    "                                               include_top=False,\n",
    "                                             weights='imagenet')\n",
    "print(\"pretrained Network is loaded\")"
   ]
  },
  {
   "cell_type": "code",
   "execution_count": 3,
   "metadata": {
    "colab": {
     "base_uri": "https://localhost:8080/"
    },
    "id": "yed6-8x8Y6bM",
    "outputId": "97745381-791e-4a8a-afcb-c1663f2aec22"
   },
   "outputs": [
    {
     "name": "stdout",
     "output_type": "stream",
     "text": [
      "Pretrained layers are freezed\n"
     ]
    }
   ],
   "source": [
    "# Freeze the layers\n",
    "for layer in vgg16_model.layers:\n",
    "    layer.trainable = False\n",
    "print(\"Pretrained layers are freezed\")"
   ]
  },
  {
   "cell_type": "code",
   "execution_count": 4,
   "metadata": {},
   "outputs": [
    {
     "name": "stdout",
     "output_type": "stream",
     "text": [
      "Model is intianiated\n"
     ]
    }
   ],
   "source": [
    "from tensorflow.keras.models import Sequential\n",
    "model=Sequential()\n",
    "print(\"Model is intianiated\")"
   ]
  },
  {
   "cell_type": "code",
   "execution_count": 5,
   "metadata": {},
   "outputs": [
    {
     "name": "stdout",
     "output_type": "stream",
     "text": [
      "All layers top of pretrained layers are developed\n"
     ]
    }
   ],
   "source": [
    "model.add(vgg16_model)\n",
    "#model.add(Conv2D(input_shape=(224,224,3),filters=64,kernel_size=(3,3),padding=\"same\", activation=\"relu\"))\n",
    "#model.add(Conv2D(filters=64,kernel_size=(3,3),padding=\"same\", activation=\"relu\"))\n",
    "#model.add(MaxPool2D(pool_size=(2,2),strides=(2,2)))\n",
    "#model.add(Conv2D(filters=128, kernel_size=(3,3), padding=\"same\", activation=\"relu\"))\n",
    "#model.add(Conv2D(filters=128, kernel_size=(3,3), padding=\"same\", activation=\"relu\"))\n",
    "#model.add(MaxPool2D(pool_size=(2,2),strides=(2,2)))\n",
    "#model.add(Conv2D(filters=256, kernel_size=(3,3), padding=\"same\", activation=\"relu\"))\n",
    "#model.add(Conv2D(filters=256, kernel_size=(3,3), padding=\"same\", activation=\"relu\"))\n",
    "#model.add(Conv2D(filters=256, kernel_size=(3,3), padding=\"same\", activation=\"relu\"))\n",
    "#model.add(MaxPool2D(pool_size=(2,2),strides=(2,2)))\n",
    "#model.add(Conv2D(filters=512, kernel_size=(3,3), padding=\"same\", activation=\"relu\"))\n",
    "#model.add(Conv2D(filters=512, kernel_size=(3,3), padding=\"same\", activation=\"relu\"))\n",
    "#model.add(Conv2D(filters=512, kernel_size=(3,3), padding=\"same\", activation=\"relu\"))\n",
    "#model.add(MaxPool2D(pool_size=(2,2),strides=(2,2)))\n",
    "#model.add(Conv2D(filters=512, kernel_size=(3,3), padding=\"same\", activation=\"relu\"))\n",
    "#model.add(Conv2D(filters=512, kernel_size=(3,3), padding=\"same\", activation=\"relu\"))\n",
    "#model.add(Conv2D(filters=512, kernel_size=(3,3), padding=\"same\", activation=\"relu\"))\n",
    "#model.add(MaxPool2D(pool_size=(2,2),strides=(2,2)))\n",
    "model.add(Flatten())\n",
    "model.add(Dense(4096, activation= 'relu'))\n",
    "model.add(Dense(4096, activation= 'relu'))\n",
    "model.add(Dense(1000, activation= 'relu'))\n",
    "hidden_layer=model.add(Dense(128, activation='relu', name='hidden_layer'))\n",
    "classification_layer=model.add(Dense(64, activation='relu', name='classification_layer'))\n",
    "output_layer=model.add(Dense(1, activation='sigmoid', name='output_layer')) \n",
    "print(\"All layers top of pretrained layers are developed\")"
   ]
  },
  {
   "cell_type": "markdown",
   "metadata": {
    "id": "xCoKydhAn-6L"
   },
   "source": [
    "https://www.kaggle.com/blurredmachine/alexnet-architecture-a-complete-guide"
   ]
  },
  {
   "cell_type": "code",
   "execution_count": 8,
   "metadata": {
    "colab": {
     "base_uri": "https://localhost:8080/"
    },
    "id": "TJJplrQeZDKx",
    "outputId": "838d3874-9eaf-4083-c6c9-effb76f3d3dd"
   },
   "outputs": [
    {
     "name": "stdout",
     "output_type": "stream",
     "text": [
      "Input parameters are assigned\n"
     ]
    }
   ],
   "source": [
    "# Input parameter\n",
    "#train_data_dir ='/content/drive/My Drive/Colab Notebooks/Dataset GDPS/train_dir'\n",
    "train_data_dir='/home/poornima/Data/GDPS/train_dir/'\n",
    "val_data_dir ='/home/poornima/Data/GDPS/val_dir/'\n",
    "model_weights_file = '/home/poornima/Data/GDPS/model_vgg16_weights.hdf5'\n",
    "nb_epochs = 100\n",
    "print(\"Input parameters are assigned\")"
   ]
  },
  {
   "cell_type": "code",
   "execution_count": 7,
   "metadata": {
    "colab": {
     "base_uri": "https://localhost:8080/"
    },
    "id": "13L22j2RZHrq",
    "outputId": "eeb66893-0e2c-42e5-fee2-412689d4ebe3"
   },
   "outputs": [
    {
     "name": "stdout",
     "output_type": "stream",
     "text": [
      "Model is Complied\n"
     ]
    }
   ],
   "source": [
    "model.compile(loss='binary_crossentropy', optimizer='sgd', metrics=['accuracy'])\n",
    "print(\"Model is Complied\")"
   ]
  },
  {
   "cell_type": "code",
   "execution_count": 9,
   "metadata": {
    "colab": {
     "base_uri": "https://localhost:8080/"
    },
    "id": "lNuqzITRZPn8",
    "outputId": "ff47b9e1-ba3b-4d4e-c9fd-beaa4e7fb8b1"
   },
   "outputs": [
    {
     "name": "stdout",
     "output_type": "stream",
     "text": [
      "Found 172800 images belonging to 2 classes.\n",
      "Found 43200 images belonging to 2 classes.\n"
     ]
    }
   ],
   "source": [
    "# image data generation\n",
    "\n",
    "from tensorflow.keras.preprocessing.image import ImageDataGenerator\n",
    "img_width, img_height = 224, 224\n",
    "train_datagen = ImageDataGenerator(rescale=1./255, shear_range=0.2, zoom_range=0.2, horizontal_flip=True)\n",
    "test_datagen = ImageDataGenerator(rescale=1./255)\n",
    "\n",
    "train_generator = train_datagen.flow_from_directory(train_data_dir, target_size=(img_width, img_height), \n",
    "                                                    batch_size=16,shuffle=False, class_mode='binary')\n",
    "validation_generator = test_datagen.flow_from_directory(val_data_dir, target_size=(img_width, img_height), \n",
    "                                                    batch_size=16,shuffle=False,class_mode='binary')"
   ]
  },
  {
   "cell_type": "code",
   "execution_count": 9,
   "metadata": {},
   "outputs": [],
   "source": [
    "from tensorflow.keras.callbacks import Callback, ModelCheckpoint, EarlyStopping\n",
    "filepath = \"/home/poornima/Data/GDPS/VGG16/saved-VGG16-SGD-model-{epoch:02d}-{val_accuracy:.2f}.h5\"\n",
    "checkpoint = ModelCheckpoint(filepath, monitor='val_accuracy', verbose=1, save_best_only=True, save_weights_only=False, mode='max')\n",
    "early = EarlyStopping(monitor='val_accuracy', min_delta=0, patience=40, verbose=1, mode='auto')"
   ]
  },
  {
   "cell_type": "code",
   "execution_count": 10,
   "metadata": {
    "colab": {
     "base_uri": "https://localhost:8080/"
    },
    "id": "9A93j5hMZVg_",
    "outputId": "2d0bad13-1476-485a-da35-77c3648057ed"
   },
   "outputs": [
    {
     "name": "stderr",
     "output_type": "stream",
     "text": [
      "2022-02-19 16:42:48.229139: I tensorflow/compiler/mlir/mlir_graph_optimization_pass.cc:116] None of the MLIR optimization passes are enabled (registered 2)\n",
      "2022-02-19 16:42:48.231202: I tensorflow/core/platform/profile_utils/cpu_utils.cc:112] CPU Frequency: 2200000000 Hz\n"
     ]
    },
    {
     "name": "stdout",
     "output_type": "stream",
     "text": [
      "Epoch 1/100\n"
     ]
    },
    {
     "name": "stderr",
     "output_type": "stream",
     "text": [
      "2022-02-19 16:42:48.790213: I tensorflow/stream_executor/platform/default/dso_loader.cc:49] Successfully opened dynamic library libcublas.so.10\n",
      "2022-02-19 16:42:49.022955: I tensorflow/stream_executor/platform/default/dso_loader.cc:49] Successfully opened dynamic library libcudnn.so.7\n",
      "2022-02-19 16:42:50.144134: W tensorflow/stream_executor/gpu/asm_compiler.cc:63] Running ptxas --version returned 256\n",
      "2022-02-19 16:42:50.233041: W tensorflow/stream_executor/gpu/redzone_allocator.cc:314] Internal: ptxas exited with non-zero error code 256, output: \n",
      "Relying on driver to perform ptx compilation. \n",
      "Modify $PATH to customize ptxas location.\n",
      "This message will be only logged once.\n"
     ]
    },
    {
     "name": "stdout",
     "output_type": "stream",
     "text": [
      "10800/10800 [==============================] - 2081s 191ms/step - loss: 0.6896 - accuracy: 0.5531 - val_loss: 0.6585 - val_accuracy: 0.6223\n",
      "\n",
      "Epoch 00001: val_accuracy improved from -inf to 0.62234, saving model to /home/poornima/Data/GDPS/VGG16/saved-VGG16-SGD-model-01-0.62.h5\n",
      "Epoch 2/100\n",
      "10800/10800 [==============================] - 2049s 190ms/step - loss: 0.6610 - accuracy: 0.6015 - val_loss: 0.6419 - val_accuracy: 0.6289\n",
      "\n",
      "Epoch 00002: val_accuracy improved from 0.62234 to 0.62894, saving model to /home/poornima/Data/GDPS/VGG16/saved-VGG16-SGD-model-02-0.63.h5\n",
      "Epoch 3/100\n",
      "10800/10800 [==============================] - 2052s 190ms/step - loss: 0.6525 - accuracy: 0.6127 - val_loss: 0.6819 - val_accuracy: 0.5689\n",
      "\n",
      "Epoch 00003: val_accuracy did not improve from 0.62894\n",
      "Epoch 4/100\n",
      "10800/10800 [==============================] - 2053s 190ms/step - loss: 0.6460 - accuracy: 0.6204 - val_loss: 0.6314 - val_accuracy: 0.6383\n",
      "\n",
      "Epoch 00004: val_accuracy improved from 0.62894 to 0.63831, saving model to /home/poornima/Data/GDPS/VGG16/saved-VGG16-SGD-model-04-0.64.h5\n",
      "Epoch 5/100\n",
      "10800/10800 [==============================] - 2050s 190ms/step - loss: 0.6444 - accuracy: 0.6232 - val_loss: 0.6473 - val_accuracy: 0.6066\n",
      "\n",
      "Epoch 00005: val_accuracy did not improve from 0.63831\n",
      "Epoch 6/100\n",
      "10800/10800 [==============================] - 2047s 190ms/step - loss: 0.6450 - accuracy: 0.6218 - val_loss: 0.6299 - val_accuracy: 0.6406\n",
      "\n",
      "Epoch 00006: val_accuracy improved from 0.63831 to 0.64056, saving model to /home/poornima/Data/GDPS/VGG16/saved-VGG16-SGD-model-06-0.64.h5\n",
      "Epoch 7/100\n",
      "10800/10800 [==============================] - 2052s 190ms/step - loss: 0.6401 - accuracy: 0.6278 - val_loss: 0.6373 - val_accuracy: 0.6345\n",
      "\n",
      "Epoch 00007: val_accuracy did not improve from 0.64056\n",
      "Epoch 8/100\n",
      "10800/10800 [==============================] - 2050s 190ms/step - loss: 0.6359 - accuracy: 0.6310 - val_loss: 0.6431 - val_accuracy: 0.5983\n",
      "\n",
      "Epoch 00008: val_accuracy did not improve from 0.64056\n",
      "Epoch 9/100\n",
      "10800/10800 [==============================] - 2045s 189ms/step - loss: 0.6399 - accuracy: 0.6248 - val_loss: 0.6313 - val_accuracy: 0.6434\n",
      "\n",
      "Epoch 00009: val_accuracy improved from 0.64056 to 0.64343, saving model to /home/poornima/Data/GDPS/VGG16/saved-VGG16-SGD-model-09-0.64.h5\n",
      "Epoch 10/100\n",
      "10800/10800 [==============================] - 2047s 190ms/step - loss: 0.6346 - accuracy: 0.6325 - val_loss: 0.6247 - val_accuracy: 0.6473\n",
      "\n",
      "Epoch 00010: val_accuracy improved from 0.64343 to 0.64731, saving model to /home/poornima/Data/GDPS/VGG16/saved-VGG16-SGD-model-10-0.65.h5\n",
      "Epoch 11/100\n",
      "10800/10800 [==============================] - 2048s 190ms/step - loss: 0.6352 - accuracy: 0.6343 - val_loss: 0.6222 - val_accuracy: 0.6500\n",
      "\n",
      "Epoch 00011: val_accuracy improved from 0.64731 to 0.64998, saving model to /home/poornima/Data/GDPS/VGG16/saved-VGG16-SGD-model-11-0.65.h5\n",
      "Epoch 12/100\n",
      "10800/10800 [==============================] - 2053s 190ms/step - loss: 0.6301 - accuracy: 0.6387 - val_loss: 0.6183 - val_accuracy: 0.6507\n",
      "\n",
      "Epoch 00012: val_accuracy improved from 0.64998 to 0.65072, saving model to /home/poornima/Data/GDPS/VGG16/saved-VGG16-SGD-model-12-0.65.h5\n",
      "Epoch 13/100\n",
      "10800/10800 [==============================] - 2051s 190ms/step - loss: 0.6294 - accuracy: 0.6408 - val_loss: 0.6382 - val_accuracy: 0.6306\n",
      "\n",
      "Epoch 00013: val_accuracy did not improve from 0.65072\n",
      "Epoch 14/100\n",
      "10800/10800 [==============================] - 2048s 190ms/step - loss: 0.6311 - accuracy: 0.6389 - val_loss: 0.6138 - val_accuracy: 0.6532\n",
      "\n",
      "Epoch 00014: val_accuracy improved from 0.65072 to 0.65322, saving model to /home/poornima/Data/GDPS/VGG16/saved-VGG16-SGD-model-14-0.65.h5\n",
      "Epoch 15/100\n",
      "10800/10800 [==============================] - 2049s 190ms/step - loss: 0.6332 - accuracy: 0.6340 - val_loss: 0.6178 - val_accuracy: 0.6481\n",
      "\n",
      "Epoch 00015: val_accuracy did not improve from 0.65322\n",
      "Epoch 16/100\n",
      "10800/10800 [==============================] - 2047s 190ms/step - loss: 0.6275 - accuracy: 0.6408 - val_loss: 0.6411 - val_accuracy: 0.6234\n",
      "\n",
      "Epoch 00016: val_accuracy did not improve from 0.65322\n",
      "Epoch 17/100\n",
      "10800/10800 [==============================] - 2047s 190ms/step - loss: 0.6279 - accuracy: 0.6407 - val_loss: 0.6149 - val_accuracy: 0.6522\n",
      "\n",
      "Epoch 00017: val_accuracy did not improve from 0.65322\n",
      "Epoch 18/100\n",
      "10800/10800 [==============================] - 2051s 190ms/step - loss: 0.6210 - accuracy: 0.6497 - val_loss: 0.6394 - val_accuracy: 0.6105\n",
      "\n",
      "Epoch 00018: val_accuracy did not improve from 0.65322\n",
      "Epoch 19/100\n",
      "10800/10800 [==============================] - 2049s 190ms/step - loss: 0.6283 - accuracy: 0.6399 - val_loss: 0.6258 - val_accuracy: 0.6386\n",
      "\n",
      "Epoch 00019: val_accuracy did not improve from 0.65322\n",
      "Epoch 20/100\n",
      "10800/10800 [==============================] - 2048s 190ms/step - loss: 0.6240 - accuracy: 0.6484 - val_loss: 0.6112 - val_accuracy: 0.6525\n",
      "\n",
      "Epoch 00020: val_accuracy did not improve from 0.65322\n",
      "Epoch 21/100\n",
      "10800/10800 [==============================] - 2046s 189ms/step - loss: 0.6196 - accuracy: 0.6507 - val_loss: 0.6113 - val_accuracy: 0.6553\n",
      "\n",
      "Epoch 00021: val_accuracy improved from 0.65322 to 0.65535, saving model to /home/poornima/Data/GDPS/VGG16/saved-VGG16-SGD-model-21-0.66.h5\n",
      "Epoch 22/100\n",
      "10800/10800 [==============================] - 2048s 190ms/step - loss: 0.6220 - accuracy: 0.6440 - val_loss: 0.6098 - val_accuracy: 0.6544\n",
      "\n",
      "Epoch 00022: val_accuracy did not improve from 0.65535\n",
      "Epoch 23/100\n",
      "10800/10800 [==============================] - 2049s 190ms/step - loss: 0.6188 - accuracy: 0.6518 - val_loss: 0.6462 - val_accuracy: 0.6377\n",
      "\n",
      "Epoch 00023: val_accuracy did not improve from 0.65535\n",
      "Epoch 24/100\n",
      "10800/10800 [==============================] - 2047s 190ms/step - loss: 0.6170 - accuracy: 0.6521 - val_loss: 0.6142 - val_accuracy: 0.6497\n",
      "\n",
      "Epoch 00024: val_accuracy did not improve from 0.65535\n",
      "Epoch 25/100\n",
      "10800/10800 [==============================] - 2049s 190ms/step - loss: 0.6153 - accuracy: 0.6541 - val_loss: 0.6172 - val_accuracy: 0.6412\n",
      "\n",
      "Epoch 00025: val_accuracy did not improve from 0.65535\n",
      "Epoch 26/100\n",
      "10800/10800 [==============================] - 2048s 190ms/step - loss: 0.6186 - accuracy: 0.6513 - val_loss: 0.6336 - val_accuracy: 0.6438\n",
      "\n",
      "Epoch 00026: val_accuracy did not improve from 0.65535\n",
      "Epoch 27/100\n",
      "10800/10800 [==============================] - 2050s 190ms/step - loss: 0.6117 - accuracy: 0.6602 - val_loss: 0.6249 - val_accuracy: 0.6380\n",
      "\n",
      "Epoch 00027: val_accuracy did not improve from 0.65535\n",
      "Epoch 28/100\n",
      "10800/10800 [==============================] - 2048s 190ms/step - loss: 0.6120 - accuracy: 0.6559 - val_loss: 0.6103 - val_accuracy: 0.6546\n",
      "\n",
      "Epoch 00028: val_accuracy did not improve from 0.65535\n",
      "Epoch 29/100\n",
      "10800/10800 [==============================] - 2049s 190ms/step - loss: 0.6137 - accuracy: 0.6525 - val_loss: 0.6245 - val_accuracy: 0.6554\n",
      "\n",
      "Epoch 00029: val_accuracy improved from 0.65535 to 0.65544, saving model to /home/poornima/Data/GDPS/VGG16/saved-VGG16-SGD-model-29-0.66.h5\n",
      "Epoch 30/100\n",
      "10800/10800 [==============================] - 2053s 190ms/step - loss: 0.6118 - accuracy: 0.6583 - val_loss: 0.6214 - val_accuracy: 0.6364\n",
      "\n",
      "Epoch 00030: val_accuracy did not improve from 0.65544\n",
      "Epoch 31/100\n",
      "10800/10800 [==============================] - 2051s 190ms/step - loss: 0.6130 - accuracy: 0.6541 - val_loss: 0.6122 - val_accuracy: 0.6572\n",
      "\n",
      "Epoch 00031: val_accuracy improved from 0.65544 to 0.65715, saving model to /home/poornima/Data/GDPS/VGG16/saved-VGG16-SGD-model-31-0.66.h5\n",
      "Epoch 32/100\n",
      "10800/10800 [==============================] - 2049s 190ms/step - loss: 0.6090 - accuracy: 0.6613 - val_loss: 0.6284 - val_accuracy: 0.6424\n",
      "\n",
      "Epoch 00032: val_accuracy did not improve from 0.65715\n",
      "Epoch 33/100\n",
      "10800/10800 [==============================] - 2054s 190ms/step - loss: 0.6093 - accuracy: 0.6599 - val_loss: 0.6055 - val_accuracy: 0.6580\n",
      "\n",
      "Epoch 00033: val_accuracy improved from 0.65715 to 0.65799, saving model to /home/poornima/Data/GDPS/VGG16/saved-VGG16-SGD-model-33-0.66.h5\n",
      "Epoch 34/100\n",
      "10800/10800 [==============================] - 2048s 190ms/step - loss: 0.6073 - accuracy: 0.6594 - val_loss: 0.6054 - val_accuracy: 0.6591\n",
      "\n",
      "Epoch 00034: val_accuracy improved from 0.65799 to 0.65910, saving model to /home/poornima/Data/GDPS/VGG16/saved-VGG16-SGD-model-34-0.66.h5\n"
     ]
    },
    {
     "name": "stdout",
     "output_type": "stream",
     "text": [
      "Epoch 35/100\n",
      "10800/10800 [==============================] - 2053s 190ms/step - loss: 0.6066 - accuracy: 0.6614 - val_loss: 0.6072 - val_accuracy: 0.6572\n",
      "\n",
      "Epoch 00035: val_accuracy did not improve from 0.65910\n",
      "Epoch 36/100\n",
      "10800/10800 [==============================] - 2046s 189ms/step - loss: 0.6055 - accuracy: 0.6615 - val_loss: 0.6104 - val_accuracy: 0.6505\n",
      "\n",
      "Epoch 00036: val_accuracy did not improve from 0.65910\n",
      "Epoch 37/100\n",
      "10800/10800 [==============================] - 2053s 190ms/step - loss: 0.6056 - accuracy: 0.6617 - val_loss: 0.6132 - val_accuracy: 0.6537\n",
      "\n",
      "Epoch 00037: val_accuracy did not improve from 0.65910\n",
      "Epoch 38/100\n",
      "10800/10800 [==============================] - 2054s 190ms/step - loss: 0.6019 - accuracy: 0.6669 - val_loss: 0.6055 - val_accuracy: 0.6580\n",
      "\n",
      "Epoch 00038: val_accuracy did not improve from 0.65910\n",
      "Epoch 39/100\n",
      "10800/10800 [==============================] - 2052s 190ms/step - loss: 0.6004 - accuracy: 0.6710 - val_loss: 0.6078 - val_accuracy: 0.6599\n",
      "\n",
      "Epoch 00039: val_accuracy improved from 0.65910 to 0.65986, saving model to /home/poornima/Data/GDPS/VGG16/saved-VGG16-SGD-model-39-0.66.h5\n",
      "Epoch 40/100\n",
      "10800/10800 [==============================] - 2052s 190ms/step - loss: 0.6024 - accuracy: 0.6664 - val_loss: 0.5972 - val_accuracy: 0.6670\n",
      "\n",
      "Epoch 00040: val_accuracy improved from 0.65986 to 0.66701, saving model to /home/poornima/Data/GDPS/VGG16/saved-VGG16-SGD-model-40-0.67.h5\n",
      "Epoch 41/100\n",
      "10800/10800 [==============================] - 2052s 190ms/step - loss: 0.6016 - accuracy: 0.6649 - val_loss: 0.6085 - val_accuracy: 0.6559\n",
      "\n",
      "Epoch 00041: val_accuracy did not improve from 0.66701\n",
      "Epoch 42/100\n",
      "10800/10800 [==============================] - 2049s 190ms/step - loss: 0.6008 - accuracy: 0.6668 - val_loss: 0.6279 - val_accuracy: 0.6528\n",
      "\n",
      "Epoch 00042: val_accuracy did not improve from 0.66701\n",
      "Epoch 43/100\n",
      "10800/10800 [==============================] - 2058s 191ms/step - loss: 0.5983 - accuracy: 0.6682 - val_loss: 0.6062 - val_accuracy: 0.6550\n",
      "\n",
      "Epoch 00043: val_accuracy did not improve from 0.66701\n",
      "Epoch 44/100\n",
      "10800/10800 [==============================] - 2057s 191ms/step - loss: 0.5958 - accuracy: 0.6724 - val_loss: 0.6028 - val_accuracy: 0.6644\n",
      "\n",
      "Epoch 00044: val_accuracy did not improve from 0.66701\n",
      "Epoch 45/100\n",
      "10800/10800 [==============================] - 2047s 190ms/step - loss: 0.5996 - accuracy: 0.6671 - val_loss: 0.5985 - val_accuracy: 0.6687\n",
      "\n",
      "Epoch 00045: val_accuracy improved from 0.66701 to 0.66873, saving model to /home/poornima/Data/GDPS/VGG16/saved-VGG16-SGD-model-45-0.67.h5\n",
      "Epoch 46/100\n",
      "10800/10800 [==============================] - 2051s 190ms/step - loss: 0.5941 - accuracy: 0.6719 - val_loss: 0.6117 - val_accuracy: 0.6518\n",
      "\n",
      "Epoch 00046: val_accuracy did not improve from 0.66873\n",
      "Epoch 47/100\n",
      "10800/10800 [==============================] - 2047s 190ms/step - loss: 0.5954 - accuracy: 0.6714 - val_loss: 0.6059 - val_accuracy: 0.6586\n",
      "\n",
      "Epoch 00047: val_accuracy did not improve from 0.66873\n",
      "Epoch 48/100\n",
      "10800/10800 [==============================] - 2048s 190ms/step - loss: 0.5919 - accuracy: 0.6737 - val_loss: 0.5974 - val_accuracy: 0.6652\n",
      "\n",
      "Epoch 00048: val_accuracy did not improve from 0.66873\n",
      "Epoch 49/100\n",
      "10800/10800 [==============================] - 2043s 189ms/step - loss: 0.5955 - accuracy: 0.6726 - val_loss: 0.6024 - val_accuracy: 0.6602\n",
      "\n",
      "Epoch 00049: val_accuracy did not improve from 0.66873\n",
      "Epoch 50/100\n",
      "10800/10800 [==============================] - 2048s 190ms/step - loss: 0.5925 - accuracy: 0.6716 - val_loss: 0.6075 - val_accuracy: 0.6653\n",
      "\n",
      "Epoch 00050: val_accuracy did not improve from 0.66873\n",
      "Epoch 51/100\n",
      "10800/10800 [==============================] - 2048s 190ms/step - loss: 0.5942 - accuracy: 0.6722 - val_loss: 0.6053 - val_accuracy: 0.6602\n",
      "\n",
      "Epoch 00051: val_accuracy did not improve from 0.66873\n",
      "Epoch 52/100\n",
      "10800/10800 [==============================] - 2048s 190ms/step - loss: 0.5888 - accuracy: 0.6758 - val_loss: 0.6071 - val_accuracy: 0.6548\n",
      "\n",
      "Epoch 00052: val_accuracy did not improve from 0.66873\n",
      "Epoch 53/100\n",
      "10800/10800 [==============================] - 2045s 189ms/step - loss: 0.5889 - accuracy: 0.6784 - val_loss: 0.5983 - val_accuracy: 0.6655\n",
      "\n",
      "Epoch 00053: val_accuracy did not improve from 0.66873\n",
      "Epoch 54/100\n",
      "10800/10800 [==============================] - 2048s 190ms/step - loss: 0.5853 - accuracy: 0.6820 - val_loss: 0.6157 - val_accuracy: 0.6589\n",
      "\n",
      "Epoch 00054: val_accuracy did not improve from 0.66873\n",
      "Epoch 55/100\n",
      "10800/10800 [==============================] - 2046s 189ms/step - loss: 0.5873 - accuracy: 0.6789 - val_loss: 0.6208 - val_accuracy: 0.6487\n",
      "\n",
      "Epoch 00055: val_accuracy did not improve from 0.66873\n",
      "Epoch 56/100\n",
      "10800/10800 [==============================] - 2050s 190ms/step - loss: 0.5894 - accuracy: 0.6752 - val_loss: 0.6058 - val_accuracy: 0.6610\n",
      "\n",
      "Epoch 00056: val_accuracy did not improve from 0.66873\n",
      "Epoch 57/100\n",
      "10800/10800 [==============================] - 2052s 190ms/step - loss: 0.5832 - accuracy: 0.6822 - val_loss: 0.5967 - val_accuracy: 0.6693\n",
      "\n",
      "Epoch 00057: val_accuracy improved from 0.66873 to 0.66928, saving model to /home/poornima/Data/GDPS/VGG16/saved-VGG16-SGD-model-57-0.67.h5\n",
      "Epoch 58/100\n",
      "10800/10800 [==============================] - 2051s 190ms/step - loss: 0.5768 - accuracy: 0.6885 - val_loss: 0.6260 - val_accuracy: 0.6438\n",
      "\n",
      "Epoch 00058: val_accuracy did not improve from 0.66928\n",
      "Epoch 59/100\n",
      "10800/10800 [==============================] - 2051s 190ms/step - loss: 0.5791 - accuracy: 0.6818 - val_loss: 0.5992 - val_accuracy: 0.6692\n",
      "\n",
      "Epoch 00059: val_accuracy did not improve from 0.66928\n",
      "Epoch 60/100\n",
      "10800/10800 [==============================] - 2049s 190ms/step - loss: 0.5826 - accuracy: 0.6816 - val_loss: 0.6011 - val_accuracy: 0.6678\n",
      "\n",
      "Epoch 00060: val_accuracy did not improve from 0.66928\n",
      "Epoch 61/100\n",
      "10800/10800 [==============================] - 2049s 190ms/step - loss: 0.5812 - accuracy: 0.6845 - val_loss: 0.5985 - val_accuracy: 0.6696\n",
      "\n",
      "Epoch 00061: val_accuracy improved from 0.66928 to 0.66956, saving model to /home/poornima/Data/GDPS/VGG16/saved-VGG16-SGD-model-61-0.67.h5\n",
      "Epoch 62/100\n",
      "10800/10800 [==============================] - 2051s 190ms/step - loss: 0.5788 - accuracy: 0.6858 - val_loss: 0.5961 - val_accuracy: 0.6664\n",
      "\n",
      "Epoch 00062: val_accuracy did not improve from 0.66956\n",
      "Epoch 63/100\n",
      "10800/10800 [==============================] - 2052s 190ms/step - loss: 0.5761 - accuracy: 0.6912 - val_loss: 0.6113 - val_accuracy: 0.6627\n",
      "\n",
      "Epoch 00063: val_accuracy did not improve from 0.66956\n",
      "Epoch 64/100\n",
      "10800/10800 [==============================] - 2050s 190ms/step - loss: 0.5766 - accuracy: 0.6878 - val_loss: 0.6046 - val_accuracy: 0.6599\n",
      "\n",
      "Epoch 00064: val_accuracy did not improve from 0.66956\n",
      "Epoch 65/100\n",
      "10800/10800 [==============================] - 2048s 190ms/step - loss: 0.5743 - accuracy: 0.6885 - val_loss: 0.6055 - val_accuracy: 0.6624\n",
      "\n",
      "Epoch 00065: val_accuracy did not improve from 0.66956\n",
      "Epoch 66/100\n",
      "10800/10800 [==============================] - 2047s 190ms/step - loss: 0.5712 - accuracy: 0.6906 - val_loss: 0.6498 - val_accuracy: 0.6508\n",
      "\n",
      "Epoch 00066: val_accuracy did not improve from 0.66956\n",
      "Epoch 67/100\n",
      "10800/10800 [==============================] - 2049s 190ms/step - loss: 0.5737 - accuracy: 0.6909 - val_loss: 0.5965 - val_accuracy: 0.6645\n",
      "\n",
      "Epoch 00067: val_accuracy did not improve from 0.66956\n",
      "Epoch 68/100\n",
      "10800/10800 [==============================] - 2051s 190ms/step - loss: 0.5731 - accuracy: 0.6905 - val_loss: 0.6037 - val_accuracy: 0.6671\n",
      "\n",
      "Epoch 00068: val_accuracy did not improve from 0.66956\n",
      "Epoch 69/100\n",
      "10800/10800 [==============================] - 2047s 190ms/step - loss: 0.5697 - accuracy: 0.6938 - val_loss: 0.6035 - val_accuracy: 0.6594\n",
      "\n",
      "Epoch 00069: val_accuracy did not improve from 0.66956\n",
      "Epoch 70/100\n",
      "10800/10800 [==============================] - 2046s 189ms/step - loss: 0.5689 - accuracy: 0.6949 - val_loss: 0.6009 - val_accuracy: 0.6669\n",
      "\n",
      "Epoch 00070: val_accuracy did not improve from 0.66956\n",
      "Epoch 71/100\n",
      "10800/10800 [==============================] - 2048s 190ms/step - loss: 0.5693 - accuracy: 0.6934 - val_loss: 0.6271 - val_accuracy: 0.6497\n",
      "\n",
      "Epoch 00071: val_accuracy did not improve from 0.66956\n",
      "Epoch 72/100\n"
     ]
    },
    {
     "name": "stdout",
     "output_type": "stream",
     "text": [
      "10800/10800 [==============================] - 2048s 190ms/step - loss: 0.5635 - accuracy: 0.7001 - val_loss: 0.5969 - val_accuracy: 0.6694\n",
      "\n",
      "Epoch 00072: val_accuracy did not improve from 0.66956\n",
      "Epoch 73/100\n",
      "10800/10800 [==============================] - 2051s 190ms/step - loss: 0.5676 - accuracy: 0.6961 - val_loss: 0.6069 - val_accuracy: 0.6694\n",
      "\n",
      "Epoch 00073: val_accuracy did not improve from 0.66956\n",
      "Epoch 74/100\n",
      "10800/10800 [==============================] - 2043s 189ms/step - loss: 0.5596 - accuracy: 0.7017 - val_loss: 0.7187 - val_accuracy: 0.6203\n",
      "\n",
      "Epoch 00074: val_accuracy did not improve from 0.66956\n",
      "Epoch 75/100\n",
      "10800/10800 [==============================] - 2045s 189ms/step - loss: 0.5655 - accuracy: 0.6969 - val_loss: 0.6083 - val_accuracy: 0.6646\n",
      "\n",
      "Epoch 00075: val_accuracy did not improve from 0.66956\n",
      "Epoch 76/100\n",
      "10800/10800 [==============================] - 2048s 190ms/step - loss: 0.5597 - accuracy: 0.7012 - val_loss: 0.6284 - val_accuracy: 0.6596\n",
      "\n",
      "Epoch 00076: val_accuracy did not improve from 0.66956\n",
      "Epoch 77/100\n",
      "10800/10800 [==============================] - 2049s 190ms/step - loss: 0.5599 - accuracy: 0.7015 - val_loss: 0.5999 - val_accuracy: 0.6726\n",
      "\n",
      "Epoch 00077: val_accuracy improved from 0.66956 to 0.67259, saving model to /home/poornima/Data/GDPS/VGG16/saved-VGG16-SGD-model-77-0.67.h5\n",
      "Epoch 78/100\n",
      "10800/10800 [==============================] - 2048s 190ms/step - loss: 0.5612 - accuracy: 0.7015 - val_loss: 0.6020 - val_accuracy: 0.6668\n",
      "\n",
      "Epoch 00078: val_accuracy did not improve from 0.67259\n",
      "Epoch 79/100\n",
      "10800/10800 [==============================] - 2053s 190ms/step - loss: 0.5596 - accuracy: 0.7033 - val_loss: 0.6055 - val_accuracy: 0.6575\n",
      "\n",
      "Epoch 00079: val_accuracy did not improve from 0.67259\n",
      "Epoch 80/100\n",
      "10800/10800 [==============================] - 2051s 190ms/step - loss: 0.5539 - accuracy: 0.7066 - val_loss: 0.5995 - val_accuracy: 0.6691\n",
      "\n",
      "Epoch 00080: val_accuracy did not improve from 0.67259\n",
      "Epoch 81/100\n",
      "10800/10800 [==============================] - 2049s 190ms/step - loss: 0.5547 - accuracy: 0.7037 - val_loss: 0.5976 - val_accuracy: 0.6701\n",
      "\n",
      "Epoch 00081: val_accuracy did not improve from 0.67259\n",
      "Epoch 82/100\n",
      "10800/10800 [==============================] - 2053s 190ms/step - loss: 0.5529 - accuracy: 0.7088 - val_loss: 0.6117 - val_accuracy: 0.6605\n",
      "\n",
      "Epoch 00082: val_accuracy did not improve from 0.67259\n",
      "Epoch 83/100\n",
      "10800/10800 [==============================] - 2051s 190ms/step - loss: 0.5482 - accuracy: 0.7098 - val_loss: 0.6053 - val_accuracy: 0.6591\n",
      "\n",
      "Epoch 00083: val_accuracy did not improve from 0.67259\n",
      "Epoch 84/100\n",
      "10800/10800 [==============================] - 2046s 189ms/step - loss: 0.5491 - accuracy: 0.7089 - val_loss: 0.6049 - val_accuracy: 0.6689\n",
      "\n",
      "Epoch 00084: val_accuracy did not improve from 0.67259\n",
      "Epoch 85/100\n",
      "10800/10800 [==============================] - 2050s 190ms/step - loss: 0.5441 - accuracy: 0.7136 - val_loss: 0.6030 - val_accuracy: 0.6727\n",
      "\n",
      "Epoch 00085: val_accuracy improved from 0.67259 to 0.67269, saving model to /home/poornima/Data/GDPS/VGG16/saved-VGG16-SGD-model-85-0.67.h5\n",
      "Epoch 86/100\n",
      "10800/10800 [==============================] - 2053s 190ms/step - loss: 0.5456 - accuracy: 0.7117 - val_loss: 0.6043 - val_accuracy: 0.6734\n",
      "\n",
      "Epoch 00086: val_accuracy improved from 0.67269 to 0.67336, saving model to /home/poornima/Data/GDPS/VGG16/saved-VGG16-SGD-model-86-0.67.h5\n",
      "Epoch 87/100\n",
      "10800/10800 [==============================] - 2051s 190ms/step - loss: 0.5418 - accuracy: 0.7148 - val_loss: 0.6017 - val_accuracy: 0.6659\n",
      "\n",
      "Epoch 00087: val_accuracy did not improve from 0.67336\n",
      "Epoch 88/100\n",
      "10800/10800 [==============================] - 2045s 189ms/step - loss: 0.5446 - accuracy: 0.7132 - val_loss: 0.6162 - val_accuracy: 0.6671\n",
      "\n",
      "Epoch 00088: val_accuracy did not improve from 0.67336\n",
      "Epoch 89/100\n",
      "10800/10800 [==============================] - 2052s 190ms/step - loss: 0.5347 - accuracy: 0.7223 - val_loss: 0.6004 - val_accuracy: 0.6756\n",
      "\n",
      "Epoch 00089: val_accuracy improved from 0.67336 to 0.67560, saving model to /home/poornima/Data/GDPS/VGG16/saved-VGG16-SGD-model-89-0.68.h5\n",
      "Epoch 90/100\n",
      "10800/10800 [==============================] - 2051s 190ms/step - loss: 0.5398 - accuracy: 0.7184 - val_loss: 0.6108 - val_accuracy: 0.6720\n",
      "\n",
      "Epoch 00090: val_accuracy did not improve from 0.67560\n",
      "Epoch 91/100\n",
      "10800/10800 [==============================] - 2053s 190ms/step - loss: 0.5324 - accuracy: 0.7233 - val_loss: 0.6089 - val_accuracy: 0.6734\n",
      "\n",
      "Epoch 00091: val_accuracy did not improve from 0.67560\n",
      "Epoch 92/100\n",
      "10800/10800 [==============================] - 2047s 190ms/step - loss: 0.5331 - accuracy: 0.7217 - val_loss: 0.6069 - val_accuracy: 0.6619\n",
      "\n",
      "Epoch 00092: val_accuracy did not improve from 0.67560\n",
      "Epoch 93/100\n",
      "10800/10800 [==============================] - 2044s 189ms/step - loss: 0.5338 - accuracy: 0.7215 - val_loss: 0.6156 - val_accuracy: 0.6667\n",
      "\n",
      "Epoch 00093: val_accuracy did not improve from 0.67560\n",
      "Epoch 94/100\n",
      "10800/10800 [==============================] - 2043s 189ms/step - loss: 0.5299 - accuracy: 0.7248 - val_loss: 0.6176 - val_accuracy: 0.6589\n",
      "\n",
      "Epoch 00094: val_accuracy did not improve from 0.67560\n",
      "Epoch 95/100\n",
      "10800/10800 [==============================] - 2046s 189ms/step - loss: 0.5276 - accuracy: 0.7266 - val_loss: 0.6164 - val_accuracy: 0.6731\n",
      "\n",
      "Epoch 00095: val_accuracy did not improve from 0.67560\n",
      "Epoch 96/100\n",
      "10800/10800 [==============================] - 2045s 189ms/step - loss: 0.5254 - accuracy: 0.7272 - val_loss: 0.6128 - val_accuracy: 0.6600\n",
      "\n",
      "Epoch 00096: val_accuracy did not improve from 0.67560\n",
      "Epoch 97/100\n",
      "10800/10800 [==============================] - 2047s 190ms/step - loss: 0.5212 - accuracy: 0.7306 - val_loss: 0.6623 - val_accuracy: 0.6567\n",
      "\n",
      "Epoch 00097: val_accuracy did not improve from 0.67560\n",
      "Epoch 98/100\n",
      "10800/10800 [==============================] - 2046s 189ms/step - loss: 0.5204 - accuracy: 0.7323 - val_loss: 0.6019 - val_accuracy: 0.6722\n",
      "\n",
      "Epoch 00098: val_accuracy did not improve from 0.67560\n",
      "Epoch 99/100\n",
      "10800/10800 [==============================] - 2043s 189ms/step - loss: 0.5180 - accuracy: 0.7338 - val_loss: 0.6042 - val_accuracy: 0.6691\n",
      "\n",
      "Epoch 00099: val_accuracy did not improve from 0.67560\n",
      "Epoch 100/100\n",
      "10800/10800 [==============================] - 2047s 189ms/step - loss: 0.5198 - accuracy: 0.7304 - val_loss: 0.6202 - val_accuracy: 0.6591\n",
      "\n",
      "Epoch 00100: val_accuracy did not improve from 0.67560\n",
      "Training Completed!\n"
     ]
    }
   ],
   "source": [
    "#callbacks = [ModelCheckpoint(model_weights_file, monitor='val_acc', save_best_only=True)]\n",
    "\n",
    "history = model.fit(train_generator, epochs=nb_epochs, validation_data=validation_generator, callbacks=[checkpoint,early])\n",
    "\n",
    "print('Training Completed!')"
   ]
  },
  {
   "cell_type": "code",
   "execution_count": 11,
   "metadata": {},
   "outputs": [
    {
     "name": "stdout",
     "output_type": "stream",
     "text": [
      "dict_keys(['loss', 'accuracy', 'val_loss', 'val_accuracy'])\n"
     ]
    },
    {
     "data": {
      "image/png": "[encoded data removed]",
      "text/plain": [
       "<Figure size 432x288 with 1 Axes>"
      ]
     },
     "metadata": {
      "needs_background": "light"
     },
     "output_type": "display_data"
    },
    {
     "data": {
      "image/png": "[encoded data removed]",
      "text/plain": [
       "<Figure size 432x288 with 1 Axes>"
      ]
     },
     "metadata": {
      "needs_background": "light"
     },
     "output_type": "display_data"
    }
   ],
   "source": [
    "import matplotlib.pyplot as plt\n",
    "# list all data in history\n",
    "print(history.history.keys())\n",
    "# summarize history for accuracy\n",
    "plt.plot(history.history['accuracy'])\n",
    "plt.title('model accuracy')\n",
    "plt.ylabel('accuracy')\n",
    "plt.xlabel('epoch')\n",
    "plt.legend(['train', 'test'], loc='upper left')\n",
    "plt.show()\n",
    "# summarize history for loss\n",
    "plt.plot(history.history['loss'])\n",
    "plt.title('model loss')\n",
    "plt.ylabel('loss')\n",
    "plt.xlabel('epoch')\n",
    "plt.legend(['train', 'test'], loc='upper left')\n",
    "plt.show()"
   ]
  },
  {
   "cell_type": "code",
   "execution_count": 12,
   "metadata": {
    "colab": {
     "base_uri": "https://localhost:8080/",
     "height": 340
    },
    "id": "66v0MvyvZZDW",
    "outputId": "98984b6d-74fe-43a7-a011-6145b6ef1c31"
   },
   "outputs": [
    {
     "name": "stdout",
     "output_type": "stream",
     "text": [
      "Model: \"sequential\"\n",
      "_________________________________________________________________\n",
      "Layer (type)                 Output Shape              Param #   \n",
      "=================================================================\n",
      "vgg16 (Functional)           (None, 7, 7, 512)         14714688  \n",
      "_________________________________________________________________\n",
      "flatten (Flatten)            (None, 25088)             0         \n",
      "_________________________________________________________________\n",
      "dense (Dense)                (None, 4096)              102764544 \n",
      "_________________________________________________________________\n",
      "dense_1 (Dense)              (None, 4096)              16781312  \n",
      "_________________________________________________________________\n",
      "dense_2 (Dense)              (None, 1000)              4097000   \n",
      "_________________________________________________________________\n",
      "hidden_layer (Dense)         (None, 128)               128128    \n",
      "_________________________________________________________________\n",
      "classification_layer (Dense) (None, 64)                8256      \n",
      "_________________________________________________________________\n",
      "output_layer (Dense)         (None, 1)                 65        \n",
      "=================================================================\n",
      "Total params: 138,493,993\n",
      "Trainable params: 123,779,305\n",
      "Non-trainable params: 14,714,688\n",
      "_________________________________________________________________\n",
      "Saved model to disk\n"
     ]
    }
   ],
   "source": [
    " # save model and architecture to single file\n",
    "model.save('/home/poornima/Data/GDPS/VGG16/novel_model_verification_GDPS_sgd.h5')\n",
    "model.summary()\n",
    "\n",
    "print(\"Saved model to disk\")"
   ]
  },
  {
   "cell_type": "code",
   "execution_count": 13,
   "metadata": {
    "colab": {
     "base_uri": "https://localhost:8080/",
     "height": 34
    },
    "id": "YFq0H2-BZcjS",
    "outputId": "d34179f6-9cc1-4d4f-8779-a91bf775d909"
   },
   "outputs": [
    {
     "name": "stdout",
     "output_type": "stream",
     "text": [
      "Weights saved in local  Drive\n"
     ]
    }
   ],
   "source": [
    "# save weights to single file\n",
    "model.save_weights('/home/poornima/Data/GDPS/VGG16/novel_model_verification_weights_GDPS_SGD.h5')\n",
    "print(\"Weights saved in local  Drive\")"
   ]
  },
  {
   "cell_type": "code",
   "execution_count": 15,
   "metadata": {
    "colab": {
     "base_uri": "https://localhost:8080/",
     "height": 340
    },
    "id": "WZAi-ofxZgR8",
    "outputId": "c719fec6-0ed3-458f-a837-db040ccb9875"
   },
   "outputs": [
    {
     "name": "stdout",
     "output_type": "stream",
     "text": [
      "Model is Loaded\n",
      "Model: \"sequential\"\n",
      "_________________________________________________________________\n",
      "Layer (type)                 Output Shape              Param #   \n",
      "=================================================================\n",
      "vgg16 (Functional)           (None, 7, 7, 512)         14714688  \n",
      "_________________________________________________________________\n",
      "flatten (Flatten)            (None, 25088)             0         \n",
      "_________________________________________________________________\n",
      "dense (Dense)                (None, 4096)              102764544 \n",
      "_________________________________________________________________\n",
      "dense_1 (Dense)              (None, 4096)              16781312  \n",
      "_________________________________________________________________\n",
      "dense_2 (Dense)              (None, 1000)              4097000   \n",
      "_________________________________________________________________\n",
      "hidden_layer (Dense)         (None, 128)               128128    \n",
      "_________________________________________________________________\n",
      "classification_layer (Dense) (None, 64)                8256      \n",
      "_________________________________________________________________\n",
      "output_layer (Dense)         (None, 1)                 65        \n",
      "=================================================================\n",
      "Total params: 138,493,993\n",
      "Trainable params: 123,779,305\n",
      "Non-trainable params: 14,714,688\n",
      "_________________________________________________________________\n"
     ]
    }
   ],
   "source": [
    "# Loading saved model from Drive.\n",
    "from tensorflow.keras.models import load_model\n",
    "model = load_model('/home/poornima/Data/GDPS/VGG16/novel_model_verification_GDPS_sgd.h5')\n",
    "print(\"Model is Loaded\")\n",
    "model.summary()"
   ]
  },
  {
   "cell_type": "code",
   "execution_count": 27,
   "metadata": {
    "colab": {
     "base_uri": "https://localhost:8080/",
     "height": 34
    },
    "id": "ycbMLOcjZnmk",
    "outputId": "b8692643-72dd-420a-a35a-60675678fdab"
   },
   "outputs": [
    {
     "name": "stdout",
     "output_type": "stream",
     "text": [
      "Imtermediate model is constructed\n"
     ]
    }
   ],
   "source": [
    "# Extracting Features from classification Layer\n",
    "from tensorflow.keras.models import Model\n",
    "layer_name= 'classification_layer'\n",
    "intermediate_layer_model = Model(inputs=model.input,\n",
    "                                 outputs=model.get_layer(layer_name).output)\n",
    "print(\"Imtermediate model is constructed\")\n"
   ]
  },
  {
   "cell_type": "code",
   "execution_count": 28,
   "metadata": {
    "colab": {
     "base_uri": "https://localhost:8080/",
     "height": 34
    },
    "id": "nb3rfV35Z0nr",
    "outputId": "e945cc01-064d-4ed8-b25e-bc857247f94a"
   },
   "outputs": [
    {
     "name": "stdout",
     "output_type": "stream",
     "text": [
      "Model is Complied\n"
     ]
    }
   ],
   "source": [
    "# Compilation of intermediate model\n",
    "intermediate_layer_model.compile(loss='binary_crossentropy', optimizer='sgd', metrics=['accuracy'])\n",
    "print(\"Model is Complied\")"
   ]
  },
  {
   "cell_type": "code",
   "execution_count": 29,
   "metadata": {
    "colab": {
     "base_uri": "https://localhost:8080/",
     "height": 340
    },
    "id": "mjU09Es5Z4Fp",
    "outputId": "3ac70a4d-938b-42d4-dcbf-bc51aac2dc5a"
   },
   "outputs": [
    {
     "name": "stdout",
     "output_type": "stream",
     "text": [
      "Model: \"model\"\n",
      "_________________________________________________________________\n",
      "Layer (type)                 Output Shape              Param #   \n",
      "=================================================================\n",
      "vgg16_input (InputLayer)     [(None, 224, 224, 3)]     0         \n",
      "_________________________________________________________________\n",
      "vgg16 (Functional)           (None, 7, 7, 512)         14714688  \n",
      "_________________________________________________________________\n",
      "flatten (Flatten)            (None, 25088)             0         \n",
      "_________________________________________________________________\n",
      "dense (Dense)                (None, 4096)              102764544 \n",
      "_________________________________________________________________\n",
      "dense_1 (Dense)              (None, 4096)              16781312  \n",
      "_________________________________________________________________\n",
      "dense_2 (Dense)              (None, 1000)              4097000   \n",
      "_________________________________________________________________\n",
      "hidden_layer (Dense)         (None, 128)               128128    \n",
      "_________________________________________________________________\n",
      "classification_layer (Dense) (None, 64)                8256      \n",
      "=================================================================\n",
      "Total params: 138,493,928\n",
      "Trainable params: 123,779,240\n",
      "Non-trainable params: 14,714,688\n",
      "_________________________________________________________________\n",
      "Saved Intermediate model to disk\n"
     ]
    }
   ],
   "source": [
    "# Saving intermediate model\n",
    "intermediate_layer_model.save('/home/poornima/Data/GDPS/VGG16/intermediate_model_vgg16_GDPS_SGD.h5')\n",
    "intermediate_layer_model.summary()\n",
    "\n",
    "print(\"Saved Intermediate model to disk\")"
   ]
  },
  {
   "cell_type": "code",
   "execution_count": 30,
   "metadata": {
    "colab": {
     "base_uri": "https://localhost:8080/",
     "height": 34
    },
    "id": "_TqY_4BnZ8PX",
    "outputId": "bd8dc019-bf2d-46db-cb68-c3ca6aa97faa"
   },
   "outputs": [
    {
     "name": "stdout",
     "output_type": "stream",
     "text": [
      "Intermediate model is loaded\n"
     ]
    }
   ],
   "source": [
    "# Loading Intermediate Model\n",
    "from tensorflow.keras.models import load_model\n",
    "\n",
    "model = load_model('/home/poornima/Data/GDPS/VGG16/intermediate_model_vgg16_GDPS_SGD.h5')\n",
    "print(\"Intermediate model is loaded\")"
   ]
  },
  {
   "cell_type": "code",
   "execution_count": 31,
   "metadata": {
    "colab": {
     "base_uri": "https://localhost:8080/",
     "height": 34
    },
    "id": "-L31_WFZaB1L",
    "outputId": "add94d2d-b95e-4f7d-db42-bb9550b4cafa"
   },
   "outputs": [
    {
     "name": "stdout",
     "output_type": "stream",
     "text": [
      "(172800,)\n"
     ]
    }
   ],
   "source": [
    "# Training Label feature identification(y_train)\n",
    "\n",
    "batch_size=16\n",
    "sample_count=172800\n",
    "features = np.zeros(shape=(172800, 64))  # Must be equal to the output of the convolutional base\n",
    "labels = np.zeros(shape=(172800))\n",
    "i = 0\n",
    "for inputs_batch, labels_batch in train_generator:\n",
    "   features_batch = model.predict(inputs_batch)\n",
    "   features[i * batch_size: (i + 1) * batch_size] = features_batch\n",
    "   labels[i * batch_size: (i + 1) * batch_size] = labels_batch\n",
    "   i += 1\n",
    "   if i*batch_size  >= sample_count:\n",
    "     break\n",
    "print(labels.shape)"
   ]
  },
  {
   "cell_type": "code",
   "execution_count": 32,
   "metadata": {
    "colab": {
     "base_uri": "https://localhost:8080/",
     "height": 289
    },
    "id": "uTKFifVGaH-D",
    "outputId": "e1dc350a-53d6-4e57-a08f-d70706a24ec8"
   },
   "outputs": [
    {
     "name": "stdout",
     "output_type": "stream",
     "text": [
      "(172800, 64)\n",
      "(172800, 1)\n",
      "[[0.]\n",
      " [0.]\n",
      " [0.]\n",
      " ...\n",
      " [1.]\n",
      " [1.]\n",
      " [1.]]\n",
      "[[0.26009983 0.09543025 0.         ... 0.         0.         0.        ]\n",
      " [0.06663223 0.         0.         ... 0.         0.17509517 0.        ]\n",
      " [0.70228386 0.         0.         ... 0.         0.         0.        ]\n",
      " ...\n",
      " [0.         0.         0.         ... 0.08657539 0.42975542 0.        ]\n",
      " [0.         0.         0.         ... 0.04566622 0.4945823  0.        ]\n",
      " [0.         0.         0.         ... 0.         0.16516799 0.        ]]\n"
     ]
    }
   ],
   "source": [
    "#identification of training Labels\n",
    "features_train=features\n",
    "print(features_train.shape)\n",
    "labels_train=np.expand_dims(labels, axis=1)\n",
    "print(labels_train.shape)\n",
    "print(labels_train)\n",
    "print(features_train)"
   ]
  },
  {
   "cell_type": "code",
   "execution_count": 33,
   "metadata": {
    "colab": {
     "base_uri": "https://localhost:8080/",
     "height": 68
    },
    "id": "zuqyZ1VjaLMJ",
    "outputId": "f5e00603-cdc1-47d9-b305-1e34e60f532c"
   },
   "outputs": [
    {
     "name": "stdout",
     "output_type": "stream",
     "text": [
      "(43200,)\n",
      "(43200, 64)\n",
      "[0. 0. 0. ... 1. 1. 1.]\n"
     ]
    }
   ],
   "source": [
    "# identification of test labels\n",
    "import numpy as np\n",
    "batch_size=16\n",
    "sample_count=43200\n",
    "features_test = np.zeros(shape=(43200, 64))  # Must be equal to the output of the convolutional base\n",
    "labels_test = np.zeros(shape=(43200))\n",
    "i = 0\n",
    "for inputs_batch, labels_batch in validation_generator:\n",
    "   features_batch = model.predict(inputs_batch)\n",
    "   features_test[i * batch_size: (i + 1) * batch_size] = features_batch\n",
    "   labels_test[i * batch_size: (i + 1) * batch_size] = labels_batch\n",
    "   i += 1\n",
    "   if i*batch_size  >= sample_count:\n",
    "     break\n",
    "print(labels_test.shape)\n",
    "print(features_test.shape)\n",
    "print(labels_test)"
   ]
  },
  {
   "cell_type": "code",
   "execution_count": 34,
   "metadata": {
    "colab": {
     "base_uri": "https://localhost:8080/",
     "height": 170
    },
    "id": "3sxB-SqcaPTV",
    "outputId": "0e7e7f5e-25d8-4acf-e720-752fd3d072df"
   },
   "outputs": [
    {
     "name": "stdout",
     "output_type": "stream",
     "text": [
      "(43200, 64)\n",
      "(43200, 1)\n",
      "[[0.22274882 0.         0.         ... 0.         0.         0.        ]\n",
      " [0.03555851 0.         0.         ... 0.         0.05140381 0.        ]\n",
      " [0.04821665 0.         0.         ... 0.         0.01655199 0.        ]\n",
      " ...\n",
      " [0.42892337 0.         0.         ... 0.         0.         0.        ]\n",
      " [0.33951366 0.         0.         ... 0.         0.         0.        ]\n",
      " [0.44695824 0.         0.         ... 0.         0.         0.        ]]\n"
     ]
    }
   ],
   "source": [
    "# #identification of testing Labels\n",
    "print(features_test.shape)\n",
    "labels_test=np.expand_dims(labels_test, axis=1)\n",
    "print(labels_test.shape)\n",
    "print(features_test)"
   ]
  },
  {
   "cell_type": "code",
   "execution_count": 35,
   "metadata": {
    "colab": {
     "base_uri": "https://localhost:8080/",
     "height": 136
    },
    "id": "cXPaTjNEaTDO",
    "outputId": "38295c87-9bc9-4fc0-a4b5-4bbd80e022ed"
   },
   "outputs": [
    {
     "name": "stdout",
     "output_type": "stream",
     "text": [
      "Confusion matrix: \n",
      "[[18418  5582]\n",
      " [ 8570 10630]]\n",
      "Accuracy: 67.241\n",
      "Precision: 65.569\n",
      "Recall: 55.365\n",
      "F-Measure: 60.036\n"
     ]
    }
   ],
   "source": [
    "# SVM\n",
    "# Feature Scaling\n",
    "from sklearn.preprocessing import StandardScaler\n",
    "sc = StandardScaler()\n",
    "X_train = sc.fit_transform(features_train)\n",
    "X_test = sc.transform(features_test)\n",
    "\n",
    "# Fitting SVM to the Training set\n",
    "from sklearn.svm import SVC\n",
    "classifier = SVC(kernel = 'linear', random_state = 0)\n",
    "classifier.fit(X_train,labels_train.ravel())\n",
    "\n",
    "# Predicting the Test set results\n",
    "y_pred = classifier.predict(X_test)\n",
    "\n",
    "# Making the Confusion Matrix\n",
    "from sklearn.metrics import confusion_matrix\n",
    "cm = confusion_matrix(labels_test, y_pred)\n",
    "print('Confusion matrix: ')\n",
    "print(cm)\n",
    "# calculate Accuracy\n",
    "from sklearn.metrics import accuracy_score\n",
    "print('Accuracy: %.3f' % (accuracy_score(labels_test, y_pred)*100))\n",
    "from sklearn.metrics import precision_score\n",
    "from sklearn.metrics import recall_score\n",
    "from sklearn.metrics import f1_score\n",
    "# calculate precision\n",
    "# Precision = TruePositives / (TruePositives + FalsePositives)\n",
    "precision = precision_score(labels_test, y_pred, average='binary')\n",
    "print('Precision: %.3f' % (precision*100))\n",
    "# calculate recall\n",
    "# Recall = TruePositives / (TruePositives + FalseNegatives)\n",
    "recall = recall_score(labels_test, y_pred, average='binary')\n",
    "print('Recall: %.3f' % (recall*100))\n",
    "# F-Measure = (2 * Precision * Recall) / (Precision + Recall)\n",
    "# calculate score\n",
    "score = f1_score(labels_test, y_pred, average='binary')\n",
    "print('F-Measure: %.3f' % (score*100))"
   ]
  },
  {
   "cell_type": "code",
   "execution_count": 36,
   "metadata": {
    "colab": {
     "base_uri": "https://localhost:8080/",
     "height": 136
    },
    "id": "tK7WfMXhaWy5",
    "outputId": "7a1e7f87-2353-4c21-c73c-6453a7ff3849"
   },
   "outputs": [
    {
     "name": "stdout",
     "output_type": "stream",
     "text": [
      "Confusion matrix: \n",
      "[[18212  5788]\n",
      " [ 8293 10907]]\n",
      "Accuracy: 67.405\n",
      "Precision: 65.331\n",
      "Recall: 56.807\n",
      "F-Measure: 60.772\n"
     ]
    }
   ],
   "source": [
    "# Kernel SVM\n",
    "# Feature Scaling\n",
    "from sklearn.preprocessing import StandardScaler\n",
    "sc = StandardScaler()\n",
    "X_train = sc.fit_transform(features_train)\n",
    "X_test = sc.transform(features_test)\n",
    "\n",
    "# Fitting KernelSVM to the Training set\n",
    "from sklearn.svm import SVC\n",
    "classifier = SVC(kernel = 'rbf', random_state = 0)\n",
    "classifier.fit(X_train, labels_train.ravel())\n",
    "\n",
    "# Predicting the Test set results\n",
    "y_pred = classifier.predict(X_test)\n",
    "\n",
    "# Making the Confusion Matrix\n",
    "from sklearn.metrics import confusion_matrix\n",
    "cm = confusion_matrix(labels_test, y_pred)\n",
    "print('Confusion matrix: ')\n",
    "print(cm)\n",
    "# calculate Accuracy\n",
    "from sklearn.metrics import accuracy_score\n",
    "print('Accuracy: %.3f' % (accuracy_score(labels_test, y_pred)*100))\n",
    "from sklearn.metrics import precision_score\n",
    "from sklearn.metrics import recall_score\n",
    "from sklearn.metrics import f1_score\n",
    "# calculate precision\n",
    "# Precision = TruePositives / (TruePositives + FalsePositives)\n",
    "precision = precision_score(labels_test, y_pred, average='binary')\n",
    "print('Precision: %.3f' % (precision*100))\n",
    "# calculate recall\n",
    "# Recall = TruePositives / (TruePositives + FalseNegatives)\n",
    "recall = recall_score(labels_test, y_pred, average='binary')\n",
    "print('Recall: %.3f' % (recall*100))\n",
    "# F-Measure = (2 * Precision * Recall) / (Precision + Recall)\n",
    "# calculate score\n",
    "score = f1_score(labels_test, y_pred, average='binary')\n",
    "print('F-Measure: %.3f' % (score*100))"
   ]
  },
  {
   "cell_type": "code",
   "execution_count": 37,
   "metadata": {
    "colab": {
     "base_uri": "https://localhost:8080/",
     "height": 136
    },
    "id": "lRNFNMveaah7",
    "outputId": "f088fe27-7e58-4bab-fe4e-07fc044ae0c4"
   },
   "outputs": [
    {
     "name": "stdout",
     "output_type": "stream",
     "text": [
      "Confusion matrix: \n",
      "[[18903  5097]\n",
      " [10016  9184]]\n",
      "Accuracy: 65.016\n",
      "Precision: 64.309\n",
      "Recall: 47.833\n",
      "F-Measure: 54.861\n"
     ]
    }
   ],
   "source": [
    "# Random Forest\n",
    "# Feature Scaling\n",
    "from sklearn.preprocessing import StandardScaler\n",
    "sc = StandardScaler()\n",
    "X_train = sc.fit_transform(features_train)\n",
    "X_test = sc.transform(features_test)\n",
    "\n",
    "# Fitting KernelSVM to the Training set\n",
    "from sklearn.ensemble import RandomForestClassifier\n",
    "classifier = RandomForestClassifier(n_estimators = 10, criterion = 'entropy', random_state = 0)\n",
    "classifier.fit(X_train, labels_train.ravel())\n",
    "\n",
    "# Predicting the Test set results\n",
    "y_pred = classifier.predict(X_test)\n",
    "\n",
    "# Making the Confusion Matrix\n",
    "from sklearn.metrics import confusion_matrix\n",
    "cm = confusion_matrix(labels_test, y_pred)\n",
    "print('Confusion matrix: ')\n",
    "print(cm)\n",
    "# calculate Accuracy\n",
    "from sklearn.metrics import accuracy_score\n",
    "print('Accuracy: %.3f' % (accuracy_score(labels_test, y_pred)*100))\n",
    "from sklearn.metrics import precision_score\n",
    "from sklearn.metrics import recall_score\n",
    "from sklearn.metrics import f1_score\n",
    "# calculate precision\n",
    "# Precision = TruePositives / (TruePositives + FalsePositives)\n",
    "precision = precision_score(labels_test, y_pred, average='binary')\n",
    "print('Precision: %.3f' % (precision*100))\n",
    "# calculate recall\n",
    "# Recall = TruePositives / (TruePositives + FalseNegatives)\n",
    "recall = recall_score(labels_test, y_pred, average='binary')\n",
    "print('Recall: %.3f' % (recall*100))\n",
    "# F-Measure = (2 * Precision * Recall) / (Precision + Recall)\n",
    "# calculate score\n",
    "score = f1_score(labels_test, y_pred, average='binary')\n",
    "print('F-Measure: %.3f' % (score*100))"
   ]
  },
  {
   "cell_type": "code",
   "execution_count": 38,
   "metadata": {
    "colab": {
     "base_uri": "https://localhost:8080/",
     "height": 136
    },
    "id": "yv2jInXOakFa",
    "outputId": "db39c23e-c34d-4282-a9fb-5bcf37c68f5f"
   },
   "outputs": [
    {
     "name": "stdout",
     "output_type": "stream",
     "text": [
      "Confusion matrix: \n",
      "[[18903  5097]\n",
      " [10016  9184]]\n",
      "Accuracy: 65.016\n",
      "Precision: 64.309\n",
      "Recall: 47.833\n",
      "F-Measure: 54.861\n"
     ]
    }
   ],
   "source": [
    "# Random Forest\n",
    "# Feature Scaling\n",
    "from sklearn.preprocessing import StandardScaler\n",
    "sc = StandardScaler()\n",
    "X_train = sc.fit_transform(features_train)\n",
    "X_test = sc.transform(features_test)\n",
    "\n",
    "# Fitting KernelSVM to the Training set\n",
    "from sklearn.ensemble import RandomForestClassifier\n",
    "classifier = RandomForestClassifier(n_estimators = 10, criterion = 'entropy', random_state = 0)\n",
    "classifier.fit(X_train, labels_train.ravel())\n",
    "\n",
    "# Predicting the Test set results\n",
    "y_pred = classifier.predict(X_test)\n",
    "\n",
    "# Making the Confusion Matrix\n",
    "from sklearn.metrics import confusion_matrix\n",
    "cm = confusion_matrix(labels_test, y_pred)\n",
    "print('Confusion matrix: ')\n",
    "print(cm)\n",
    "# calculate Accuracy\n",
    "from sklearn.metrics import accuracy_score\n",
    "print('Accuracy: %.3f' % (accuracy_score(labels_test, y_pred)*100))\n",
    "from sklearn.metrics import precision_score\n",
    "from sklearn.metrics import recall_score\n",
    "from sklearn.metrics import f1_score\n",
    "# calculate precision\n",
    "# Precision = TruePositives / (TruePositives + FalsePositives)\n",
    "precision = precision_score(labels_test, y_pred, average='binary')\n",
    "print('Precision: %.3f' % (precision*100))\n",
    "# calculate recall\n",
    "# Recall = TruePositives / (TruePositives + FalseNegatives)\n",
    "recall = recall_score(labels_test, y_pred, average='binary')\n",
    "print('Recall: %.3f' % (recall*100))\n",
    "# F-Measure = (2 * Precision * Recall) / (Precision + Recall)\n",
    "# calculate score\n",
    "score = f1_score(labels_test, y_pred, average='binary')\n",
    "print('F-Measure: %.3f' % (score*100))"
   ]
  },
  {
   "cell_type": "code",
   "execution_count": 40,
   "metadata": {
    "colab": {
     "base_uri": "https://localhost:8080/",
     "height": 136
    },
    "id": "bu_p4Ux7apAA",
    "outputId": "e7604cbe-2444-4215-b4da-a387a73f32cf"
   },
   "outputs": [
    {
     "name": "stdout",
     "output_type": "stream",
     "text": [
      "Confusion matrix: \n",
      "[[12836 11164]\n",
      " [ 3869 15331]]\n",
      "Accuracy: 65.201\n",
      "Precision: 57.864\n",
      "Recall: 79.849\n",
      "F-Measure: 67.101\n"
     ]
    }
   ],
   "source": [
    "# Naive Bayes\n",
    "# Feature Scaling\n",
    "from sklearn.preprocessing import StandardScaler\n",
    "sc = StandardScaler()\n",
    "X_train = sc.fit_transform(features_train)\n",
    "X_test = sc.transform(features_test)\n",
    "\n",
    "# Fitting KernelSVM to the Training set\n",
    "from sklearn.naive_bayes import GaussianNB\n",
    "classifier = GaussianNB()\n",
    "classifier.fit(X_train, labels_train.ravel())\n",
    "\n",
    "# Predicting the Test set results\n",
    "y_pred = classifier.predict(X_test)\n",
    "\n",
    "# Making the Confusion Matrix\n",
    "from sklearn.metrics import confusion_matrix\n",
    "cm = confusion_matrix(labels_test, y_pred)\n",
    "print('Confusion matrix: ')\n",
    "print(cm)\n",
    "# calculate Accuracy\n",
    "from sklearn.metrics import accuracy_score\n",
    "print('Accuracy: %.3f' % (accuracy_score(labels_test, y_pred)*100))\n",
    "from sklearn.metrics import precision_score\n",
    "from sklearn.metrics import recall_score\n",
    "from sklearn.metrics import f1_score\n",
    "# calculate precision\n",
    "# Precision = TruePositives / (TruePositives + FalsePositives)\n",
    "precision = precision_score(labels_test, y_pred, average='binary')\n",
    "print('Precision: %.3f' % (precision*100))\n",
    "# calculate recall\n",
    "# Recall = TruePositives / (TruePositives + FalseNegatives)\n",
    "recall = recall_score(labels_test, y_pred, average='binary')\n",
    "print('Recall: %.3f' % (recall*100))\n",
    "# F-Measure = (2 * Precision * Recall) / (Precision + Recall)\n",
    "# calculate score\n",
    "score = f1_score(labels_test, y_pred, average='binary')\n",
    "print('F-Measure: %.3f' % (score*100))"
   ]
  },
  {
   "cell_type": "code",
   "execution_count": 41,
   "metadata": {
    "colab": {
     "base_uri": "https://localhost:8080/",
     "height": 136
    },
    "id": "YnfeZ4eVavhm",
    "outputId": "2829fe02-479b-4aee-a9e8-b480a44fd5a4"
   },
   "outputs": [
    {
     "name": "stdout",
     "output_type": "stream",
     "text": [
      "Confusion matrix: \n",
      "[[17705  6295]\n",
      " [ 9027 10173]]\n",
      "Accuracy: 64.532\n",
      "Precision: 61.774\n",
      "Recall: 52.984\n",
      "F-Measure: 57.043\n"
     ]
    }
   ],
   "source": [
    "# Feature Scaling\n",
    "from sklearn.preprocessing import StandardScaler\n",
    "sc = StandardScaler()\n",
    "X_train = sc.fit_transform(features_train)\n",
    "X_test = sc.transform(features_test)\n",
    "\n",
    "# Fitting KernelSVM to the Training set\n",
    "from sklearn.neighbors import KNeighborsClassifier\n",
    "classifier =  KNeighborsClassifier(n_neighbors = 5, metric = 'minkowski', p = 2)\n",
    "classifier.fit(X_train, labels_train.ravel())\n",
    "\n",
    "# Predicting the Test set results\n",
    "y_pred = classifier.predict(X_test)\n",
    "\n",
    "# Making the Confusion Matrix\n",
    "from sklearn.metrics import confusion_matrix\n",
    "cm = confusion_matrix(labels_test, y_pred)\n",
    "print('Confusion matrix: ')\n",
    "print(cm)\n",
    "# calculate Accuracy\n",
    "from sklearn.metrics import accuracy_score\n",
    "print('Accuracy: %.3f' % (accuracy_score(labels_test, y_pred)*100))\n",
    "from sklearn.metrics import precision_score\n",
    "from sklearn.metrics import recall_score\n",
    "from sklearn.metrics import f1_score\n",
    "# calculate precision\n",
    "# Precision = TruePositives / (TruePositives + FalsePositives)\n",
    "precision = precision_score(labels_test, y_pred, average='binary')\n",
    "print('Precision: %.3f' % (precision*100))\n",
    "# calculate recall\n",
    "# Recall = TruePositives / (TruePositives + FalseNegatives)\n",
    "recall = recall_score(labels_test, y_pred, average='binary')\n",
    "print('Recall: %.3f' % (recall*100))\n",
    "# F-Measure = (2 * Precision * Recall) / (Precision + Recall)\n",
    "# calculate score\n",
    "score = f1_score(labels_test, y_pred, average='binary')\n",
    "print('F-Measure: %.3f' % (score*100))"
   ]
  },
  {
   "cell_type": "code",
   "execution_count": 42,
   "metadata": {
    "colab": {
     "base_uri": "https://localhost:8080/",
     "height": 136
    },
    "id": "qsHQZapTazre",
    "outputId": "20415cfc-f5a5-46f0-a640-df64f0626191"
   },
   "outputs": [
    {
     "name": "stdout",
     "output_type": "stream",
     "text": [
      "Confusion matrix: \n",
      "[[18316  5684]\n",
      " [ 8478 10722]]\n",
      "Accuracy: 67.218\n",
      "Precision: 65.354\n",
      "Recall: 55.844\n",
      "F-Measure: 60.226\n"
     ]
    }
   ],
   "source": [
    "from sklearn.linear_model import LogisticRegression\n",
    "\n",
    "classifier = LogisticRegression(random_state = 0)\n",
    "# Feature Scaling\n",
    "from sklearn.preprocessing import StandardScaler\n",
    "sc = StandardScaler()\n",
    "X_train = sc.fit_transform(features_train)\n",
    "X_test = sc.transform(features_test)\n",
    "\n",
    "from sklearn.linear_model import LogisticRegression\n",
    "classifier = LogisticRegression(random_state = 0)\n",
    "classifier.fit(X_train, labels_train.ravel())\n",
    "\n",
    "# Predicting the Test set results\n",
    "y_pred = classifier.predict(X_test)\n",
    "\n",
    "# Making the Confusion Matrix\n",
    "from sklearn.metrics import confusion_matrix\n",
    "cm = confusion_matrix(labels_test, y_pred)\n",
    "print('Confusion matrix: ')\n",
    "print(cm)\n",
    "# calculate Accuracy\n",
    "from sklearn.metrics import accuracy_score\n",
    "print('Accuracy: %.3f' % (accuracy_score(labels_test, y_pred)*100))\n",
    "from sklearn.metrics import precision_score\n",
    "from sklearn.metrics import recall_score\n",
    "from sklearn.metrics import f1_score\n",
    "# calculate precision\n",
    "# Precision = TruePositives / (TruePositives + FalsePositives)\n",
    "precision = precision_score(labels_test, y_pred, average='binary')\n",
    "print('Precision: %.3f' % (precision*100))\n",
    "# calculate recall\n",
    "# Recall = TruePositives / (TruePositives + FalseNegatives)\n",
    "recall = recall_score(labels_test, y_pred, average='binary')\n",
    "print('Recall: %.3f' % (recall*100))\n",
    "# F-Measure = (2 * Precision * Recall) / (Precision + Recall)\n",
    "# calculate score\n",
    "score = f1_score(labels_test, y_pred, average='binary')\n",
    "print('F-Measure: %.3f' % (score*100))"
   ]
  },
  {
   "cell_type": "code",
   "execution_count": 1,
   "metadata": {
    "colab": {
     "base_uri": "https://localhost:8080/",
     "height": 85
    },
    "id": "f7EDeFata22V",
    "outputId": "d128b41e-4efa-4322-fc24-ec9160e7099e"
   },
   "outputs": [
    {
     "name": "stderr",
     "output_type": "stream",
     "text": [
      "2022-02-22 12:26:47.527432: I tensorflow/stream_executor/platform/default/dso_loader.cc:49] Successfully opened dynamic library libcudart.so.10.1\n",
      "2022-02-22 12:26:48.750395: I tensorflow/compiler/jit/xla_cpu_device.cc:41] Not creating XLA devices, tf_xla_enable_xla_devices not set\n",
      "2022-02-22 12:26:48.751329: I tensorflow/stream_executor/platform/default/dso_loader.cc:49] Successfully opened dynamic library libcuda.so.1\n",
      "2022-02-22 12:26:48.850627: I tensorflow/core/common_runtime/gpu/gpu_device.cc:1720] Found device 0 with properties: \n",
      "pciBusID: 0000:18:00.0 name: Quadro RTX 8000 computeCapability: 7.5\n",
      "coreClock: 1.77GHz coreCount: 72 deviceMemorySize: 47.45GiB deviceMemoryBandwidth: 625.94GiB/s\n",
      "2022-02-22 12:26:48.850666: I tensorflow/stream_executor/platform/default/dso_loader.cc:49] Successfully opened dynamic library libcudart.so.10.1\n",
      "2022-02-22 12:26:48.852448: I tensorflow/stream_executor/platform/default/dso_loader.cc:49] Successfully opened dynamic library libcublas.so.10\n",
      "2022-02-22 12:26:48.852505: I tensorflow/stream_executor/platform/default/dso_loader.cc:49] Successfully opened dynamic library libcublasLt.so.10\n",
      "2022-02-22 12:26:48.854357: I tensorflow/stream_executor/platform/default/dso_loader.cc:49] Successfully opened dynamic library libcufft.so.10\n",
      "2022-02-22 12:26:48.854659: I tensorflow/stream_executor/platform/default/dso_loader.cc:49] Successfully opened dynamic library libcurand.so.10\n",
      "2022-02-22 12:26:48.856429: I tensorflow/stream_executor/platform/default/dso_loader.cc:49] Successfully opened dynamic library libcusolver.so.10\n",
      "2022-02-22 12:26:48.857363: I tensorflow/stream_executor/platform/default/dso_loader.cc:49] Successfully opened dynamic library libcusparse.so.10\n",
      "2022-02-22 12:26:48.861078: I tensorflow/stream_executor/platform/default/dso_loader.cc:49] Successfully opened dynamic library libcudnn.so.7\n",
      "2022-02-22 12:26:48.861470: I tensorflow/core/common_runtime/gpu/gpu_device.cc:1862] Adding visible gpu devices: 0\n",
      "2022-02-22 12:26:48.862114: I tensorflow/core/platform/cpu_feature_guard.cc:142] This TensorFlow binary is optimized with oneAPI Deep Neural Network Library (oneDNN) to use the following CPU instructions in performance-critical operations:  SSE4.1 SSE4.2 AVX AVX2 AVX512F FMA\n",
      "To enable them in other operations, rebuild TensorFlow with the appropriate compiler flags.\n",
      "2022-02-22 12:26:48.864813: I tensorflow/core/common_runtime/gpu/gpu_device.cc:1720] Found device 0 with properties: \n",
      "pciBusID: 0000:18:00.0 name: Quadro RTX 8000 computeCapability: 7.5\n",
      "coreClock: 1.77GHz coreCount: 72 deviceMemorySize: 47.45GiB deviceMemoryBandwidth: 625.94GiB/s\n",
      "2022-02-22 12:26:48.864837: I tensorflow/stream_executor/platform/default/dso_loader.cc:49] Successfully opened dynamic library libcudart.so.10.1\n",
      "2022-02-22 12:26:48.864855: I tensorflow/stream_executor/platform/default/dso_loader.cc:49] Successfully opened dynamic library libcublas.so.10\n",
      "2022-02-22 12:26:48.864865: I tensorflow/stream_executor/platform/default/dso_loader.cc:49] Successfully opened dynamic library libcublasLt.so.10\n",
      "2022-02-22 12:26:48.864874: I tensorflow/stream_executor/platform/default/dso_loader.cc:49] Successfully opened dynamic library libcufft.so.10\n",
      "2022-02-22 12:26:48.864883: I tensorflow/stream_executor/platform/default/dso_loader.cc:49] Successfully opened dynamic library libcurand.so.10\n",
      "2022-02-22 12:26:48.864893: I tensorflow/stream_executor/platform/default/dso_loader.cc:49] Successfully opened dynamic library libcusolver.so.10\n",
      "2022-02-22 12:26:48.864902: I tensorflow/stream_executor/platform/default/dso_loader.cc:49] Successfully opened dynamic library libcusparse.so.10\n",
      "2022-02-22 12:26:48.864911: I tensorflow/stream_executor/platform/default/dso_loader.cc:49] Successfully opened dynamic library libcudnn.so.7\n",
      "2022-02-22 12:26:48.865230: I tensorflow/core/common_runtime/gpu/gpu_device.cc:1862] Adding visible gpu devices: 0\n",
      "2022-02-22 12:26:48.865256: I tensorflow/stream_executor/platform/default/dso_loader.cc:49] Successfully opened dynamic library libcudart.so.10.1\n",
      "2022-02-22 12:26:49.412082: I tensorflow/core/common_runtime/gpu/gpu_device.cc:1261] Device interconnect StreamExecutor with strength 1 edge matrix:\n",
      "2022-02-22 12:26:49.412118: I tensorflow/core/common_runtime/gpu/gpu_device.cc:1267]      0 \n",
      "2022-02-22 12:26:49.412124: I tensorflow/core/common_runtime/gpu/gpu_device.cc:1280] 0:   N \n",
      "2022-02-22 12:26:49.412748: I tensorflow/core/common_runtime/gpu/gpu_device.cc:1406] Created TensorFlow device (/job:localhost/replica:0/task:0/device:GPU:0 with 45283 MB memory) -> physical GPU (device: 0, name: Quadro RTX 8000, pci bus id: 0000:18:00.0, compute capability: 7.5)\n",
      "2022-02-22 12:26:49.413113: I tensorflow/compiler/jit/xla_gpu_device.cc:99] Not creating XLA devices, tf_xla_enable_xla_devices not set\n"
     ]
    },
    {
     "name": "stdout",
     "output_type": "stream",
     "text": [
      "\n",
      "# Evaluate on test data\n",
      "Model Is Loaded\n"
     ]
    }
   ],
   "source": [
    "from tensorflow.keras.models import load_model\n",
    "\n",
    "model = load_model('/home/poornima/Data/GDPS/VGG16/saved-VGG16-SGD-model-89-0.68.h5')\n",
    "# Evaluate the model on the test data using `evaluate`\n",
    "print('\\n# Evaluate on test data')\n",
    "#results = model.evaluate(validation_generator)\n",
    "#print('test loss, test acc:', results)\n",
    "print(\"Model Is Loaded\")"
   ]
  },
  {
   "cell_type": "code",
   "execution_count": null,
   "metadata": {
    "colab": {
     "base_uri": "https://localhost:8080/",
     "height": 83,
     "referenced_widgets": [
      "3bb62a57242e42c5a1d64b5a22be1aa0",
      "05a69fe882d447d094157958ab8e9bc9",
      "6f251c500d4048e2a33b2fdd5b1f9e3b",
      "ae39a7caa10e4b0ca753de0771874d07",
      "46c90d206d3f4d29b64a59db3e6f979f"
     ]
    },
    "id": "JLQ8BYGedcbk",
    "outputId": "c288c170-589c-4cb3-bc75-c56b1d70a5b8"
   },
   "outputs": [],
   "source": [
    "from tensorflow.keras.preprocessing import image\n",
    "from tensorflow.keras.applications.vgg16 import preprocess_input\n",
    "from tensorflow.keras.models import Model\n",
    "import numpy as np\n",
    "from tensorflow.keras.models import load_model\n",
    "import ipywidgets as widgets\n",
    "from IPython.display import display\n",
    "button = widgets.Button(description=\"Click to know category of Image\",  )\n",
    "output = widgets.Output()\n",
    "\n",
    "model = load_model('/content/drive/My Drive/Colab Notebooks/Signature Verification vgg16 model GDPS/model_vgg16_GDPS.h5')\n",
    "img_path = '/content/drive/My Drive/Colab Notebooks/Dataset GDPS/train_dir/forged/cf-001-01.jpg'\n",
    "img = image.load_img(img_path, target_size=(224, 224))\n",
    "x = image.img_to_array(img)\n",
    "x = np.expand_dims(x, axis=0)\n",
    "x = preprocess_input(x)\n",
    "\n",
    "block4_pool_features = model.predict(x)\n",
    "print(block4_pool_features)\n",
    "if(block4_pool_features> 0.5):\n",
    "  a= 'Genuine'\n",
    "elif(block4_pool_features< 0.5):\n",
    "  a='forged'\n",
    "def on_button_clicked(b):\n",
    "  # Display the message within the output widget.\n",
    "  with output:\n",
    "    print(\"Image is  \"  + a)\n",
    "\n",
    "button.on_click(on_button_clicked)\n",
    "display(button, output)"
   ]
  },
  {
   "cell_type": "code",
   "execution_count": 2,
   "metadata": {},
   "outputs": [
    {
     "ename": "NameError",
     "evalue": "name 'history' is not defined",
     "output_type": "error",
     "traceback": [
      "\u001b[0;31m---------------------------------------------------------------------------\u001b[0m",
      "\u001b[0;31mNameError\u001b[0m                                 Traceback (most recent call last)",
      "\u001b[0;32m/tmp/ipykernel_359407/171826386.py\u001b[0m in \u001b[0;36m<module>\u001b[0;34m\u001b[0m\n\u001b[1;32m      1\u001b[0m \u001b[0;32mimport\u001b[0m \u001b[0mmatplotlib\u001b[0m\u001b[0;34m.\u001b[0m\u001b[0mpyplot\u001b[0m \u001b[0;32mas\u001b[0m \u001b[0mplt\u001b[0m\u001b[0;34m\u001b[0m\u001b[0;34m\u001b[0m\u001b[0m\n\u001b[1;32m      2\u001b[0m \u001b[0;31m# list all data in history\u001b[0m\u001b[0;34m\u001b[0m\u001b[0;34m\u001b[0m\u001b[0m\n\u001b[0;32m----> 3\u001b[0;31m \u001b[0mprint\u001b[0m\u001b[0;34m(\u001b[0m\u001b[0mhistory\u001b[0m\u001b[0;34m.\u001b[0m\u001b[0mhistory\u001b[0m\u001b[0;34m.\u001b[0m\u001b[0mkeys\u001b[0m\u001b[0;34m(\u001b[0m\u001b[0;34m)\u001b[0m\u001b[0;34m)\u001b[0m\u001b[0;34m\u001b[0m\u001b[0;34m\u001b[0m\u001b[0m\n\u001b[0m\u001b[1;32m      4\u001b[0m \u001b[0;31m# summarize history for accuracy\u001b[0m\u001b[0;34m\u001b[0m\u001b[0;34m\u001b[0m\u001b[0m\n\u001b[1;32m      5\u001b[0m \u001b[0mplt\u001b[0m\u001b[0;34m.\u001b[0m\u001b[0mplot\u001b[0m\u001b[0;34m(\u001b[0m\u001b[0mhistory\u001b[0m\u001b[0;34m.\u001b[0m\u001b[0mhistory\u001b[0m\u001b[0;34m[\u001b[0m\u001b[0;34m'accuracy'\u001b[0m\u001b[0;34m]\u001b[0m\u001b[0;34m)\u001b[0m\u001b[0;34m\u001b[0m\u001b[0;34m\u001b[0m\u001b[0m\n",
      "\u001b[0;31mNameError\u001b[0m: name 'history' is not defined"
     ]
    }
   ],
   "source": [
    "import matplotlib.pyplot as plt\n",
    "# list all data in history\n",
    "print(history.history.keys())\n",
    "# summarize history for accuracy\n",
    "plt.plot(history.history['accuracy'])\n",
    "plt.plot(history.history['val_accuracy'])\n",
    "plt.title('model accuracy')\n",
    "plt.ylabel('accuracy')\n",
    "plt.xlabel('epoch')\n",
    "plt.legend(['train', 'test'], loc='upper left')\n",
    "plt.show()\n",
    "# summarize history for loss\n",
    "plt.plot(history.history['loss'])\n",
    "plt.plot(history.history['val_loss'])\n",
    "plt.title('model loss')\n",
    "plt.ylabel('loss')\n",
    "\n",
    "\n",
    "\n",
    "plt.xlabel('epoch')\n",
    "plt.legend(['train', 'test'], loc='upper left')\n",
    "plt.show()"
   ]
  },
  {
   "cell_type": "code",
   "execution_count": 5,
   "metadata": {},
   "outputs": [
    {
     "name": "stdout",
     "output_type": "stream",
     "text": [
      "('Failed to import pydot. You must `pip install pydot` and install graphviz (https://graphviz.gitlab.io/download/), ', 'for `pydotprint` to work.')\n"
     ]
    }
   ],
   "source": [
    "from tensorflow.keras.utils import plot_model\n",
    "plot_model(model, to_file='model_plot_CNN.png', show_shapes=True, show_layer_names=True)"
   ]
  },
  {
   "cell_type": "code",
   "execution_count": 10,
   "metadata": {},
   "outputs": [
    {
     "name": "stderr",
     "output_type": "stream",
     "text": [
      "2022-02-22 12:31:12.520783: I tensorflow/compiler/mlir/mlir_graph_optimization_pass.cc:116] None of the MLIR optimization passes are enabled (registered 2)\n",
      "2022-02-22 12:31:12.542858: I tensorflow/core/platform/profile_utils/cpu_utils.cc:112] CPU Frequency: 2200000000 Hz\n",
      "2022-02-22 12:31:12.812555: I tensorflow/stream_executor/platform/default/dso_loader.cc:49] Successfully opened dynamic library libcublas.so.10\n",
      "2022-02-22 12:31:13.019865: I tensorflow/stream_executor/platform/default/dso_loader.cc:49] Successfully opened dynamic library libcudnn.so.7\n",
      "2022-02-22 12:31:14.067660: W tensorflow/stream_executor/gpu/asm_compiler.cc:63] Running ptxas --version returned 256\n",
      "2022-02-22 12:31:14.155456: W tensorflow/stream_executor/gpu/redzone_allocator.cc:314] Internal: ptxas exited with non-zero error code 256, output: \n",
      "Relying on driver to perform ptx compilation. \n",
      "Modify $PATH to customize ptxas location.\n",
      "This message will be only logged once.\n"
     ]
    },
    {
     "name": "stdout",
     "output_type": "stream",
     "text": [
      "[[0.4278713 ]\n",
      " [0.51972455]\n",
      " [0.4986494 ]\n",
      " ...\n",
      " [0.02257191]\n",
      " [0.09484428]\n",
      " [0.0543793 ]]\n"
     ]
    }
   ],
   "source": [
    "import pandas as pd\n",
    "validation_generator.reset\n",
    "ytesthat = model.predict(validation_generator)\n",
    "print(ytesthat)\n",
    "df = pd.DataFrame({\n",
    "    'filename':validation_generator.filenames,\n",
    "    'predict':ytesthat[:,0],\n",
    "    'y':validation_generator.classes\n",
    "})"
   ]
  },
  {
   "cell_type": "code",
   "execution_count": 11,
   "metadata": {},
   "outputs": [
    {
     "data": {
      "text/html": [
       "<div>\n",
       "<style scoped>\n",
       "    .dataframe tbody tr th:only-of-type {\n",
       "        vertical-align: middle;\n",
       "    }\n",
       "\n",
       "    .dataframe tbody tr th {\n",
       "        vertical-align: top;\n",
       "    }\n",
       "\n",
       "    .dataframe thead th {\n",
       "        text-align: right;\n",
       "    }\n",
       "</style>\n",
       "<table border=\"1\" class=\"dataframe\">\n",
       "  <thead>\n",
       "    <tr style=\"text-align: right;\">\n",
       "      <th></th>\n",
       "      <th>filename</th>\n",
       "      <th>predict</th>\n",
       "      <th>y</th>\n",
       "      <th>y_pred</th>\n",
       "    </tr>\n",
       "  </thead>\n",
       "  <tbody>\n",
       "    <tr>\n",
       "      <th>0</th>\n",
       "      <td>forged/cf-001-01.jpg</td>\n",
       "      <td>0.42787</td>\n",
       "      <td>0</td>\n",
       "      <td>0</td>\n",
       "    </tr>\n",
       "    <tr>\n",
       "      <th>1</th>\n",
       "      <td>forged/cf-001-02.jpg</td>\n",
       "      <td>0.51972</td>\n",
       "      <td>0</td>\n",
       "      <td>1</td>\n",
       "    </tr>\n",
       "    <tr>\n",
       "      <th>2</th>\n",
       "      <td>forged/cf-001-03.jpg</td>\n",
       "      <td>0.49865</td>\n",
       "      <td>0</td>\n",
       "      <td>0</td>\n",
       "    </tr>\n",
       "    <tr>\n",
       "      <th>3</th>\n",
       "      <td>forged/cf-001-04.jpg</td>\n",
       "      <td>0.45559</td>\n",
       "      <td>0</td>\n",
       "      <td>0</td>\n",
       "    </tr>\n",
       "    <tr>\n",
       "      <th>4</th>\n",
       "      <td>forged/cf-001-05.jpg</td>\n",
       "      <td>0.38370</td>\n",
       "      <td>0</td>\n",
       "      <td>0</td>\n",
       "    </tr>\n",
       "    <tr>\n",
       "      <th>...</th>\n",
       "      <td>...</td>\n",
       "      <td>...</td>\n",
       "      <td>...</td>\n",
       "      <td>...</td>\n",
       "    </tr>\n",
       "    <tr>\n",
       "      <th>43195</th>\n",
       "      <td>genuine/c-1636-20.jpg</td>\n",
       "      <td>0.09704</td>\n",
       "      <td>1</td>\n",
       "      <td>0</td>\n",
       "    </tr>\n",
       "    <tr>\n",
       "      <th>43196</th>\n",
       "      <td>genuine/c-1636-21.jpg</td>\n",
       "      <td>0.04578</td>\n",
       "      <td>1</td>\n",
       "      <td>0</td>\n",
       "    </tr>\n",
       "    <tr>\n",
       "      <th>43197</th>\n",
       "      <td>genuine/c-1636-22.jpg</td>\n",
       "      <td>0.02257</td>\n",
       "      <td>1</td>\n",
       "      <td>0</td>\n",
       "    </tr>\n",
       "    <tr>\n",
       "      <th>43198</th>\n",
       "      <td>genuine/c-1636-23.jpg</td>\n",
       "      <td>0.09484</td>\n",
       "      <td>1</td>\n",
       "      <td>0</td>\n",
       "    </tr>\n",
       "    <tr>\n",
       "      <th>43199</th>\n",
       "      <td>genuine/c-1636-24.jpg</td>\n",
       "      <td>0.05438</td>\n",
       "      <td>1</td>\n",
       "      <td>0</td>\n",
       "    </tr>\n",
       "  </tbody>\n",
       "</table>\n",
       "<p>43200 rows × 4 columns</p>\n",
       "</div>"
      ],
      "text/plain": [
       "                    filename  predict  y  y_pred\n",
       "0       forged/cf-001-01.jpg  0.42787  0       0\n",
       "1       forged/cf-001-02.jpg  0.51972  0       1\n",
       "2       forged/cf-001-03.jpg  0.49865  0       0\n",
       "3       forged/cf-001-04.jpg  0.45559  0       0\n",
       "4       forged/cf-001-05.jpg  0.38370  0       0\n",
       "...                      ...      ... ..     ...\n",
       "43195  genuine/c-1636-20.jpg  0.09704  1       0\n",
       "43196  genuine/c-1636-21.jpg  0.04578  1       0\n",
       "43197  genuine/c-1636-22.jpg  0.02257  1       0\n",
       "43198  genuine/c-1636-23.jpg  0.09484  1       0\n",
       "43199  genuine/c-1636-24.jpg  0.05438  1       0\n",
       "\n",
       "[43200 rows x 4 columns]"
      ]
     },
     "execution_count": 11,
     "metadata": {},
     "output_type": "execute_result"
    }
   ],
   "source": [
    "pd.set_option('display.float_format', lambda x: '%.5f' % x)\n",
    "df['y_pred'] = df['predict']>0.5\n",
    "df.y_pred = df.y_pred.astype(int)\n",
    "df"
   ]
  },
  {
   "cell_type": "code",
   "execution_count": 12,
   "metadata": {},
   "outputs": [
    {
     "name": "stdout",
     "output_type": "stream",
     "text": [
      "Total misclassified  Validation images : 14014\n"
     ]
    }
   ],
   "source": [
    "misclassified = df[df['y']!=df['y_pred']]\n",
    "print('Total misclassified  Validation images : %d'%misclassified['y'].count())"
   ]
  },
  {
   "cell_type": "code",
   "execution_count": 19,
   "metadata": {},
   "outputs": [
    {
     "ename": "NameError",
     "evalue": "name 'sns' is not defined",
     "output_type": "error",
     "traceback": [
      "\u001b[0;31m---------------------------------------------------------------------------\u001b[0m",
      "\u001b[0;31mNameError\u001b[0m                                 Traceback (most recent call last)",
      "\u001b[0;32m/tmp/ipykernel_359407/3240966182.py\u001b[0m in \u001b[0;36m<module>\u001b[0;34m\u001b[0m\n\u001b[1;32m      5\u001b[0m \u001b[0;34m\u001b[0m\u001b[0m\n\u001b[1;32m      6\u001b[0m \u001b[0mconf_matrix\u001b[0m \u001b[0;34m=\u001b[0m \u001b[0mconfusion_matrix\u001b[0m\u001b[0;34m(\u001b[0m\u001b[0mdf\u001b[0m\u001b[0;34m.\u001b[0m\u001b[0my\u001b[0m\u001b[0;34m,\u001b[0m\u001b[0mdf\u001b[0m\u001b[0;34m.\u001b[0m\u001b[0my_pred\u001b[0m\u001b[0;34m)\u001b[0m\u001b[0;34m\u001b[0m\u001b[0;34m\u001b[0m\u001b[0m\n\u001b[0;32m----> 7\u001b[0;31m \u001b[0msns\u001b[0m\u001b[0;34m.\u001b[0m\u001b[0mheatmap\u001b[0m\u001b[0;34m(\u001b[0m\u001b[0mconf_matrix\u001b[0m\u001b[0;34m,\u001b[0m\u001b[0mcmap\u001b[0m\u001b[0;34m=\u001b[0m\u001b[0;34m\"YlGnBu\"\u001b[0m\u001b[0;34m,\u001b[0m\u001b[0mannot\u001b[0m\u001b[0;34m=\u001b[0m\u001b[0;32mTrue\u001b[0m\u001b[0;34m,\u001b[0m\u001b[0mfmt\u001b[0m\u001b[0;34m=\u001b[0m\u001b[0;34m'g'\u001b[0m\u001b[0;34m,\u001b[0m \u001b[0mxticklabels\u001b[0m\u001b[0;34m=\u001b[0m\u001b[0;34m[\u001b[0m\u001b[0;34m'Forged'\u001b[0m\u001b[0;34m,\u001b[0m \u001b[0;34m'Genuine'\u001b[0m\u001b[0;34m]\u001b[0m\u001b[0;34m,\u001b[0m \u001b[0myticklabels\u001b[0m\u001b[0;34m=\u001b[0m\u001b[0;34m[\u001b[0m\u001b[0;34m'Cat'\u001b[0m\u001b[0;34m,\u001b[0m \u001b[0;34m'Dog'\u001b[0m\u001b[0;34m]\u001b[0m \u001b[0;34m)\u001b[0m\u001b[0;34m;\u001b[0m\u001b[0;34m\u001b[0m\u001b[0;34m\u001b[0m\u001b[0m\n\u001b[0m\u001b[1;32m      8\u001b[0m \u001b[0mplt\u001b[0m\u001b[0;34m.\u001b[0m\u001b[0mxlabel\u001b[0m\u001b[0;34m(\u001b[0m\u001b[0;34m'predicted value'\u001b[0m\u001b[0;34m)\u001b[0m\u001b[0;34m\u001b[0m\u001b[0;34m\u001b[0m\u001b[0m\n\u001b[1;32m      9\u001b[0m \u001b[0mplt\u001b[0m\u001b[0;34m.\u001b[0m\u001b[0mylabel\u001b[0m\u001b[0;34m(\u001b[0m\u001b[0;34m'true value'\u001b[0m\u001b[0;34m)\u001b[0m\u001b[0;34m;\u001b[0m\u001b[0;34m\u001b[0m\u001b[0;34m\u001b[0m\u001b[0m\n",
      "\u001b[0;31mNameError\u001b[0m: name 'sns' is not defined"
     ]
    }
   ],
   "source": [
    "#Prediction of test set\n",
    "from sklearn.metrics import confusion_matrix \n",
    "import matplotlib.pyplot as plt\n",
    "import seaborn as sns\n",
    "\n",
    "conf_matrix = confusion_matrix(df.y,df.y_pred)\n",
    "sns.heatmap(conf_matrix,cmap=\"YlGnBu\",annot=True,fmt='g', xticklabels=['Forged', 'Genuine'], yticklabels=['Cat', 'Dog'] );\n",
    "plt.xlabel('predicted value')\n",
    "plt.ylabel('true value');"
   ]
  },
  {
   "cell_type": "code",
   "execution_count": 26,
   "metadata": {},
   "outputs": [
    {
     "name": "stderr",
     "output_type": "stream",
     "text": [
      "/home/poornima/anaconda3/envs/keras/lib/python3.9/site-packages/tensorflow/python/keras/engine/sequential.py:425: UserWarning: `model.predict_proba()` is deprecated and will be removed after 2021-01-01. Please use `model.predict()` instead.\n",
      "  warnings.warn('`model.predict_proba()` is deprecated and '\n"
     ]
    },
    {
     "data": {
      "image/png": "[encoded data removed]",
      "text/plain": [
       "<Figure size 432x288 with 1 Axes>"
      ]
     },
     "metadata": {
      "needs_background": "light"
     },
     "output_type": "display_data"
    }
   ],
   "source": [
    "from sklearn.metrics import roc_curve\n",
    "from sklearn.metrics import roc_auc_score\n",
    "\n",
    "y_pred_proba = model.predict_proba(validation_generator)[:,0]\n",
    "fpr, tpr, _ = roc_curve(df.y,  y_pred_proba)\n",
    "auc = roc_auc_score(df.y, y_pred_proba)\n",
    "plt.plot(fpr,tpr,label=\"data 1, auc=\"+str(auc))\n",
    "# title\n",
    "plt.title('ROC curve')\n",
    "# x label\n",
    "plt.xlabel('False Positive Rate')\n",
    "# y label\n",
    "plt.ylabel('True Positive rate')\n",
    "\n",
    "plt.legend(loc=4)\n",
    "plt.show()"
   ]
  },
  {
   "cell_type": "code",
   "execution_count": 43,
   "metadata": {},
   "outputs": [
    {
     "name": "stdout",
     "output_type": "stream",
     "text": [
      "Default GPU Device: /device:GPU:0\n"
     ]
    },
    {
     "name": "stderr",
     "output_type": "stream",
     "text": [
      "2022-02-23 10:37:50.044755: I tensorflow/core/common_runtime/gpu/gpu_device.cc:1720] Found device 0 with properties: \n",
      "pciBusID: 0000:18:00.0 name: Quadro RTX 8000 computeCapability: 7.5\n",
      "coreClock: 1.77GHz coreCount: 72 deviceMemorySize: 47.45GiB deviceMemoryBandwidth: 625.94GiB/s\n",
      "2022-02-23 10:37:50.044893: I tensorflow/stream_executor/platform/default/dso_loader.cc:49] Successfully opened dynamic library libcudart.so.10.1\n",
      "2022-02-23 10:37:50.045159: I tensorflow/stream_executor/platform/default/dso_loader.cc:49] Successfully opened dynamic library libcublas.so.10\n",
      "2022-02-23 10:37:50.045198: I tensorflow/stream_executor/platform/default/dso_loader.cc:49] Successfully opened dynamic library libcublasLt.so.10\n",
      "2022-02-23 10:37:50.045233: I tensorflow/stream_executor/platform/default/dso_loader.cc:49] Successfully opened dynamic library libcufft.so.10\n",
      "2022-02-23 10:37:50.045270: I tensorflow/stream_executor/platform/default/dso_loader.cc:49] Successfully opened dynamic library libcurand.so.10\n",
      "2022-02-23 10:37:50.045301: I tensorflow/stream_executor/platform/default/dso_loader.cc:49] Successfully opened dynamic library libcusolver.so.10\n",
      "2022-02-23 10:37:50.045335: I tensorflow/stream_executor/platform/default/dso_loader.cc:49] Successfully opened dynamic library libcusparse.so.10\n",
      "2022-02-23 10:37:50.045369: I tensorflow/stream_executor/platform/default/dso_loader.cc:49] Successfully opened dynamic library libcudnn.so.7\n",
      "2022-02-23 10:37:50.046110: I tensorflow/core/common_runtime/gpu/gpu_device.cc:1862] Adding visible gpu devices: 0\n",
      "2022-02-23 10:37:50.046222: I tensorflow/core/common_runtime/gpu/gpu_device.cc:1261] Device interconnect StreamExecutor with strength 1 edge matrix:\n",
      "2022-02-23 10:37:50.046237: I tensorflow/core/common_runtime/gpu/gpu_device.cc:1267]      0 \n",
      "2022-02-23 10:37:50.046248: I tensorflow/core/common_runtime/gpu/gpu_device.cc:1280] 0:   N \n",
      "2022-02-23 10:37:50.047103: I tensorflow/core/common_runtime/gpu/gpu_device.cc:1406] Created TensorFlow device (/device:GPU:0 with 45283 MB memory) -> physical GPU (device: 0, name: Quadro RTX 8000, pci bus id: 0000:18:00.0, compute capability: 7.5)\n",
      "2022-02-23 10:37:50.047154: I tensorflow/compiler/jit/xla_gpu_device.cc:99] Not creating XLA devices, tf_xla_enable_xla_devices not set\n",
      "2022-02-23 10:37:50.047922: I tensorflow/core/common_runtime/gpu/gpu_device.cc:1720] Found device 0 with properties: \n",
      "pciBusID: 0000:18:00.0 name: Quadro RTX 8000 computeCapability: 7.5\n",
      "coreClock: 1.77GHz coreCount: 72 deviceMemorySize: 47.45GiB deviceMemoryBandwidth: 625.94GiB/s\n",
      "2022-02-23 10:37:50.047963: I tensorflow/stream_executor/platform/default/dso_loader.cc:49] Successfully opened dynamic library libcudart.so.10.1\n",
      "2022-02-23 10:37:50.048004: I tensorflow/stream_executor/platform/default/dso_loader.cc:49] Successfully opened dynamic library libcublas.so.10\n",
      "2022-02-23 10:37:50.048026: I tensorflow/stream_executor/platform/default/dso_loader.cc:49] Successfully opened dynamic library libcublasLt.so.10\n",
      "2022-02-23 10:37:50.048049: I tensorflow/stream_executor/platform/default/dso_loader.cc:49] Successfully opened dynamic library libcufft.so.10\n",
      "2022-02-23 10:37:50.048071: I tensorflow/stream_executor/platform/default/dso_loader.cc:49] Successfully opened dynamic library libcurand.so.10\n",
      "2022-02-23 10:37:50.048094: I tensorflow/stream_executor/platform/default/dso_loader.cc:49] Successfully opened dynamic library libcusolver.so.10\n",
      "2022-02-23 10:37:50.048117: I tensorflow/stream_executor/platform/default/dso_loader.cc:49] Successfully opened dynamic library libcusparse.so.10\n",
      "2022-02-23 10:37:50.048140: I tensorflow/stream_executor/platform/default/dso_loader.cc:49] Successfully opened dynamic library libcudnn.so.7\n",
      "2022-02-23 10:37:50.048781: I tensorflow/core/common_runtime/gpu/gpu_device.cc:1862] Adding visible gpu devices: 0\n",
      "2022-02-23 10:37:50.048821: I tensorflow/core/common_runtime/gpu/gpu_device.cc:1261] Device interconnect StreamExecutor with strength 1 edge matrix:\n",
      "2022-02-23 10:37:50.048834: I tensorflow/core/common_runtime/gpu/gpu_device.cc:1267]      0 \n",
      "2022-02-23 10:37:50.048844: I tensorflow/core/common_runtime/gpu/gpu_device.cc:1280] 0:   N \n",
      "2022-02-23 10:37:50.049551: I tensorflow/core/common_runtime/gpu/gpu_device.cc:1406] Created TensorFlow device (/device:GPU:0 with 45283 MB memory) -> physical GPU (device: 0, name: Quadro RTX 8000, pci bus id: 0000:18:00.0, compute capability: 7.5)\n",
      "2022-02-23 10:37:50.049584: I tensorflow/compiler/jit/xla_gpu_device.cc:99] Not creating XLA devices, tf_xla_enable_xla_devices not set\n"
     ]
    }
   ],
   "source": [
    "import tensorflow as tf\n",
    "if tf.test.gpu_device_name():\n",
    "    print('Default GPU Device: {}'.format(tf.test.gpu_device_name()))\n",
    "else:\n",
    "    print(\"Please install GPU version of TF\")"
   ]
  },
  {
   "cell_type": "code",
   "execution_count": null,
   "metadata": {},
   "outputs": [],
   "source": []
  }
 ],
 "metadata": {
  "accelerator": "GPU",
  "colab": {
   "collapsed_sections": [],
   "name": "Signature Verification  GDPS dataset.ipynb",
   "provenance": []
  },
  "kernelspec": {
   "display_name": "Python 3 (ipykernel)",
   "language": "python",
   "name": "python3"
  },
  "language_info": {
   "codemirror_mode": {
    "name": "ipython",
    "version": 3
   },
   "file_extension": ".py",
   "mimetype": "text/x-python",
   "name": "python",
   "nbconvert_exporter": "python",
   "pygments_lexer": "ipython3",
   "version": "3.9.7"
  },
  "widgets": {
   "application/vnd.jupyter.widget-state+json": {
    "05a69fe882d447d094157958ab8e9bc9": {
     "model_module": "@jupyter-widgets/base",
     "model_module_version": "1.2.0",
     "model_name": "LayoutModel",
     "state": {
      "_model_module": "@jupyter-widgets/base",
      "_model_module_version": "1.2.0",
      "_model_name": "LayoutModel",
      "_view_count": null,
      "_view_module": "@jupyter-widgets/base",
      "_view_module_version": "1.2.0",
      "_view_name": "LayoutView",
      "align_content": null,
      "align_items": null,
      "align_self": null,
      "border": null,
      "bottom": null,
      "display": null,
      "flex": null,
      "flex_flow": null,
      "grid_area": null,
      "grid_auto_columns": null,
      "grid_auto_flow": null,
      "grid_auto_rows": null,
      "grid_column": null,
      "grid_gap": null,
      "grid_row": null,
      "grid_template_areas": null,
      "grid_template_columns": null,
      "grid_template_rows": null,
      "height": null,
      "justify_content": null,
      "justify_items": null,
      "left": null,
      "margin": null,
      "max_height": null,
      "max_width": null,
      "min_height": null,
      "min_width": null,
      "object_fit": null,
      "object_position": null,
      "order": null,
      "overflow": null,
      "overflow_x": null,
      "overflow_y": null,
      "padding": null,
      "right": null,
      "top": null,
      "visibility": null,
      "width": null
     }
    },
    "153a6e590daf47bf92200b4baeb536fc": {
     "model_module": "@jupyter-widgets/controls",
     "model_module_version": "1.5.0",
     "model_name": "ButtonStyleModel",
     "state": {
      "_model_module": "@jupyter-widgets/controls",
      "_model_module_version": "1.5.0",
      "_model_name": "ButtonStyleModel",
      "_view_count": null,
      "_view_module": "@jupyter-widgets/base",
      "_view_module_version": "1.2.0",
      "_view_name": "StyleView",
      "button_color": null,
      "font_weight": ""
     }
    },
    "3bb62a57242e42c5a1d64b5a22be1aa0": {
     "model_module": "@jupyter-widgets/controls",
     "model_module_version": "1.5.0",
     "model_name": "ButtonModel",
     "state": {
      "_dom_classes": [],
      "_model_module": "@jupyter-widgets/controls",
      "_model_module_version": "1.5.0",
      "_model_name": "ButtonModel",
      "_view_count": null,
      "_view_module": "@jupyter-widgets/controls",
      "_view_module_version": "1.5.0",
      "_view_name": "ButtonView",
      "button_style": "",
      "description": "Click to know category of Image",
      "disabled": false,
      "icon": "",
      "layout": "IPY_MODEL_05a69fe882d447d094157958ab8e9bc9",
      "style": "IPY_MODEL_6f251c500d4048e2a33b2fdd5b1f9e3b",
      "tooltip": ""
     }
    },
    "46c90d206d3f4d29b64a59db3e6f979f": {
     "model_module": "@jupyter-widgets/base",
     "model_module_version": "1.2.0",
     "model_name": "LayoutModel",
     "state": {
      "_model_module": "@jupyter-widgets/base",
      "_model_module_version": "1.2.0",
      "_model_name": "LayoutModel",
      "_view_count": null,
      "_view_module": "@jupyter-widgets/base",
      "_view_module_version": "1.2.0",
      "_view_name": "LayoutView",
      "align_content": null,
      "align_items": null,
      "align_self": null,
      "border": null,
      "bottom": null,
      "display": null,
      "flex": null,
      "flex_flow": null,
      "grid_area": null,
      "grid_auto_columns": null,
      "grid_auto_flow": null,
      "grid_auto_rows": null,
      "grid_column": null,
      "grid_gap": null,
      "grid_row": null,
      "grid_template_areas": null,
      "grid_template_columns": null,
      "grid_template_rows": null,
      "height": null,
      "justify_content": null,
      "justify_items": null,
      "left": null,
      "margin": null,
      "max_height": null,
      "max_width": null,
      "min_height": null,
      "min_width": null,
      "object_fit": null,
      "object_position": null,
      "order": null,
      "overflow": null,
      "overflow_x": null,
      "overflow_y": null,
      "padding": null,
      "right": null,
      "top": null,
      "visibility": null,
      "width": null
     }
    },
    "642c7e2437e84b21b937880c574192ea": {
     "model_module": "@jupyter-widgets/base",
     "model_module_version": "1.2.0",
     "model_name": "LayoutModel",
     "state": {
      "_model_module": "@jupyter-widgets/base",
      "_model_module_version": "1.2.0",
      "_model_name": "LayoutModel",
      "_view_count": null,
      "_view_module": "@jupyter-widgets/base",
      "_view_module_version": "1.2.0",
      "_view_name": "LayoutView",
      "align_content": null,
      "align_items": null,
      "align_self": null,
      "border": null,
      "bottom": null,
      "display": null,
      "flex": null,
      "flex_flow": null,
      "grid_area": null,
      "grid_auto_columns": null,
      "grid_auto_flow": null,
      "grid_auto_rows": null,
      "grid_column": null,
      "grid_gap": null,
      "grid_row": null,
      "grid_template_areas": null,
      "grid_template_columns": null,
      "grid_template_rows": null,
      "height": null,
      "justify_content": null,
      "justify_items": null,
      "left": null,
      "margin": null,
      "max_height": null,
      "max_width": null,
      "min_height": null,
      "min_width": null,
      "object_fit": null,
      "object_position": null,
      "order": null,
      "overflow": null,
      "overflow_x": null,
      "overflow_y": null,
      "padding": null,
      "right": null,
      "top": null,
      "visibility": null,
      "width": null
     }
    },
    "6f251c500d4048e2a33b2fdd5b1f9e3b": {
     "model_module": "@jupyter-widgets/controls",
     "model_module_version": "1.5.0",
     "model_name": "ButtonStyleModel",
     "state": {
      "_model_module": "@jupyter-widgets/controls",
      "_model_module_version": "1.5.0",
      "_model_name": "ButtonStyleModel",
      "_view_count": null,
      "_view_module": "@jupyter-widgets/base",
      "_view_module_version": "1.2.0",
      "_view_name": "StyleView",
      "button_color": null,
      "font_weight": ""
     }
    },
    "a52c0dab35c8411f8a1e83686d210415": {
     "model_module": "@jupyter-widgets/base",
     "model_module_version": "1.2.0",
     "model_name": "LayoutModel",
     "state": {
      "_model_module": "@jupyter-widgets/base",
      "_model_module_version": "1.2.0",
      "_model_name": "LayoutModel",
      "_view_count": null,
      "_view_module": "@jupyter-widgets/base",
      "_view_module_version": "1.2.0",
      "_view_name": "LayoutView",
      "align_content": null,
      "align_items": null,
      "align_self": null,
      "border": null,
      "bottom": null,
      "display": null,
      "flex": null,
      "flex_flow": null,
      "grid_area": null,
      "grid_auto_columns": null,
      "grid_auto_flow": null,
      "grid_auto_rows": null,
      "grid_column": null,
      "grid_gap": null,
      "grid_row": null,
      "grid_template_areas": null,
      "grid_template_columns": null,
      "grid_template_rows": null,
      "height": null,
      "justify_content": null,
      "justify_items": null,
      "left": null,
      "margin": null,
      "max_height": null,
      "max_width": null,
      "min_height": null,
      "min_width": null,
      "object_fit": null,
      "object_position": null,
      "order": null,
      "overflow": null,
      "overflow_x": null,
      "overflow_y": null,
      "padding": null,
      "right": null,
      "top": null,
      "visibility": null,
      "width": null
     }
    },
    "ae39a7caa10e4b0ca753de0771874d07": {
     "model_module": "@jupyter-widgets/output",
     "model_module_version": "1.0.0",
     "model_name": "OutputModel",
     "state": {
      "_dom_classes": [],
      "_model_module": "@jupyter-widgets/output",
      "_model_module_version": "1.0.0",
      "_model_name": "OutputModel",
      "_view_count": null,
      "_view_module": "@jupyter-widgets/output",
      "_view_module_version": "1.0.0",
      "_view_name": "OutputView",
      "layout": "IPY_MODEL_46c90d206d3f4d29b64a59db3e6f979f",
      "msg_id": "",
      "outputs": [
       {
        "metadata": {
         "tags": []
        },
        "output_type": "stream",
        "stream": "stdout",
        "text": "Image is  forged\n"
       }
      ]
     }
    },
    "bed5f74780ae4f8d87800bd1e244be5e": {
     "model_module": "@jupyter-widgets/output",
     "model_module_version": "1.0.0",
     "model_name": "OutputModel",
     "state": {
      "_dom_classes": [],
      "_model_module": "@jupyter-widgets/output",
      "_model_module_version": "1.0.0",
      "_model_name": "OutputModel",
      "_view_count": null,
      "_view_module": "@jupyter-widgets/output",
      "_view_module_version": "1.0.0",
      "_view_name": "OutputView",
      "layout": "IPY_MODEL_642c7e2437e84b21b937880c574192ea",
      "msg_id": "",
      "outputs": [
       {
        "metadata": {
         "tags": []
        },
        "output_type": "stream",
        "stream": "stdout",
        "text": "Button clicked.\n"
       }
      ]
     }
    },
    "d51a8019e74344f088a8f7ef974eb613": {
     "model_module": "@jupyter-widgets/controls",
     "model_module_version": "1.5.0",
     "model_name": "ButtonModel",
     "state": {
      "_dom_classes": [],
      "_model_module": "@jupyter-widgets/controls",
      "_model_module_version": "1.5.0",
      "_model_name": "ButtonModel",
      "_view_count": null,
      "_view_module": "@jupyter-widgets/controls",
      "_view_module_version": "1.5.0",
      "_view_name": "ButtonView",
      "button_style": "",
      "description": "Click Me!",
      "disabled": false,
      "icon": "",
      "layout": "IPY_MODEL_a52c0dab35c8411f8a1e83686d210415",
      "style": "IPY_MODEL_153a6e590daf47bf92200b4baeb536fc",
      "tooltip": ""
     }
    }
   }
  }
 },
 "nbformat": 4,
 "nbformat_minor": 1
}
