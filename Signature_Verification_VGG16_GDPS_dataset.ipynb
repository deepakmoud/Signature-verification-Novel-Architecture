{
 "cells": [
  {
   "cell_type": "code",
   "execution_count": 1,
   "metadata": {
    "id": "_Sf8lLdMYsCh"
   },
   "outputs": [
    {
     "name": "stderr",
     "output_type": "stream",
     "text": [
      "2022-03-01 15:40:16.652008: I tensorflow/stream_executor/platform/default/dso_loader.cc:49] Successfully opened dynamic library libcudart.so.10.1\n"
     ]
    }
   ],
   "source": [
    "# Importing the Keras libraries and packages\n",
    "\n",
    "import tensorflow as tf\n",
    "from tensorflow.keras import datasets, layers, models\n",
    "import matplotlib.pyplot as plt\n",
    "import numpy as np\n",
    "\n",
    "from tensorflow.keras.models import Sequential\n",
    "from tensorflow.keras.layers import Conv2D\n",
    "from tensorflow.keras.layers import MaxPooling2D,MaxPool2D\n",
    "from tensorflow.keras.layers import Flatten\n",
    "from tensorflow.keras.layers import Dense\n",
    "image_shape=(224,224,3)\n"
   ]
  },
  {
   "cell_type": "code",
   "execution_count": 2,
   "metadata": {
    "colab": {
     "base_uri": "https://localhost:8080/"
    },
    "id": "90n6dcKIY3by",
    "outputId": "cedf7dca-b104-48ee-a80f-c7e41f8596c5"
   },
   "outputs": [
    {
     "name": "stderr",
     "output_type": "stream",
     "text": [
      "2022-03-01 15:40:24.983178: I tensorflow/compiler/jit/xla_cpu_device.cc:41] Not creating XLA devices, tf_xla_enable_xla_devices not set\n",
      "2022-03-01 15:40:24.984685: I tensorflow/stream_executor/platform/default/dso_loader.cc:49] Successfully opened dynamic library libcuda.so.1\n",
      "2022-03-01 15:40:25.102683: I tensorflow/core/common_runtime/gpu/gpu_device.cc:1720] Found device 0 with properties: \n",
      "pciBusID: 0000:18:00.0 name: Quadro RTX 8000 computeCapability: 7.5\n",
      "coreClock: 1.77GHz coreCount: 72 deviceMemorySize: 47.45GiB deviceMemoryBandwidth: 625.94GiB/s\n",
      "2022-03-01 15:40:25.102759: I tensorflow/stream_executor/platform/default/dso_loader.cc:49] Successfully opened dynamic library libcudart.so.10.1\n",
      "2022-03-01 15:40:25.106951: I tensorflow/stream_executor/platform/default/dso_loader.cc:49] Successfully opened dynamic library libcublas.so.10\n",
      "2022-03-01 15:40:25.107081: I tensorflow/stream_executor/platform/default/dso_loader.cc:49] Successfully opened dynamic library libcublasLt.so.10\n",
      "2022-03-01 15:40:25.110588: I tensorflow/stream_executor/platform/default/dso_loader.cc:49] Successfully opened dynamic library libcufft.so.10\n",
      "2022-03-01 15:40:25.111225: I tensorflow/stream_executor/platform/default/dso_loader.cc:49] Successfully opened dynamic library libcurand.so.10\n",
      "2022-03-01 15:40:25.114896: I tensorflow/stream_executor/platform/default/dso_loader.cc:49] Successfully opened dynamic library libcusolver.so.10\n",
      "2022-03-01 15:40:25.117010: I tensorflow/stream_executor/platform/default/dso_loader.cc:49] Successfully opened dynamic library libcusparse.so.10\n",
      "2022-03-01 15:40:25.124102: I tensorflow/stream_executor/platform/default/dso_loader.cc:49] Successfully opened dynamic library libcudnn.so.7\n",
      "2022-03-01 15:40:25.124784: I tensorflow/core/common_runtime/gpu/gpu_device.cc:1862] Adding visible gpu devices: 0\n",
      "2022-03-01 15:40:25.125608: I tensorflow/core/platform/cpu_feature_guard.cc:142] This TensorFlow binary is optimized with oneAPI Deep Neural Network Library (oneDNN) to use the following CPU instructions in performance-critical operations:  SSE4.1 SSE4.2 AVX AVX2 AVX512F FMA\n",
      "To enable them in other operations, rebuild TensorFlow with the appropriate compiler flags.\n",
      "2022-03-01 15:40:25.130177: I tensorflow/core/common_runtime/gpu/gpu_device.cc:1720] Found device 0 with properties: \n",
      "pciBusID: 0000:18:00.0 name: Quadro RTX 8000 computeCapability: 7.5\n",
      "coreClock: 1.77GHz coreCount: 72 deviceMemorySize: 47.45GiB deviceMemoryBandwidth: 625.94GiB/s\n",
      "2022-03-01 15:40:25.130216: I tensorflow/stream_executor/platform/default/dso_loader.cc:49] Successfully opened dynamic library libcudart.so.10.1\n",
      "2022-03-01 15:40:25.130248: I tensorflow/stream_executor/platform/default/dso_loader.cc:49] Successfully opened dynamic library libcublas.so.10\n",
      "2022-03-01 15:40:25.130263: I tensorflow/stream_executor/platform/default/dso_loader.cc:49] Successfully opened dynamic library libcublasLt.so.10\n",
      "2022-03-01 15:40:25.130278: I tensorflow/stream_executor/platform/default/dso_loader.cc:49] Successfully opened dynamic library libcufft.so.10\n",
      "2022-03-01 15:40:25.130292: I tensorflow/stream_executor/platform/default/dso_loader.cc:49] Successfully opened dynamic library libcurand.so.10\n",
      "2022-03-01 15:40:25.130307: I tensorflow/stream_executor/platform/default/dso_loader.cc:49] Successfully opened dynamic library libcusolver.so.10\n",
      "2022-03-01 15:40:25.130321: I tensorflow/stream_executor/platform/default/dso_loader.cc:49] Successfully opened dynamic library libcusparse.so.10\n",
      "2022-03-01 15:40:25.130336: I tensorflow/stream_executor/platform/default/dso_loader.cc:49] Successfully opened dynamic library libcudnn.so.7\n",
      "2022-03-01 15:40:25.130841: I tensorflow/core/common_runtime/gpu/gpu_device.cc:1862] Adding visible gpu devices: 0\n",
      "2022-03-01 15:40:25.130890: I tensorflow/stream_executor/platform/default/dso_loader.cc:49] Successfully opened dynamic library libcudart.so.10.1\n",
      "2022-03-01 15:40:25.700277: I tensorflow/core/common_runtime/gpu/gpu_device.cc:1261] Device interconnect StreamExecutor with strength 1 edge matrix:\n",
      "2022-03-01 15:40:25.700338: I tensorflow/core/common_runtime/gpu/gpu_device.cc:1267]      0 \n",
      "2022-03-01 15:40:25.700344: I tensorflow/core/common_runtime/gpu/gpu_device.cc:1280] 0:   N \n",
      "2022-03-01 15:40:25.702139: I tensorflow/core/common_runtime/gpu/gpu_device.cc:1406] Created TensorFlow device (/job:localhost/replica:0/task:0/device:GPU:0 with 45300 MB memory) -> physical GPU (device: 0, name: Quadro RTX 8000, pci bus id: 0000:18:00.0, compute capability: 7.5)\n",
      "2022-03-01 15:40:25.702547: I tensorflow/compiler/jit/xla_gpu_device.cc:99] Not creating XLA devices, tf_xla_enable_xla_devices not set\n"
     ]
    },
    {
     "name": "stdout",
     "output_type": "stream",
     "text": [
      "pretrained Network is loaded\n"
     ]
    }
   ],
   "source": [
    "#Load the pretrained Network\n",
    "#vgg16_model = VGG16(include_top=False, weights='imagenet', input_tensor=None, input_shape=(img_height,img_width,3), pooling=None, classes=1000)\n",
    "\n",
    "vgg16_model=tf.keras.applications.VGG16(input_shape=image_shape,\n",
    "                                               include_top=False,\n",
    "                                             weights='imagenet')\n",
    "print(\"pretrained Network is loaded\")"
   ]
  },
  {
   "cell_type": "code",
   "execution_count": 5,
   "metadata": {
    "colab": {
     "base_uri": "https://localhost:8080/"
    },
    "id": "yed6-8x8Y6bM",
    "outputId": "97745381-791e-4a8a-afcb-c1663f2aec22"
   },
   "outputs": [
    {
     "name": "stdout",
     "output_type": "stream",
     "text": [
      "Pretrained layers are freezed\n"
     ]
    }
   ],
   "source": [
    "# Freeze the layers\n",
    "for layer in vgg16_model.layers:\n",
    "    layer.trainable = False\n",
    "print(\"Pretrained layers are freezed\")"
   ]
  },
  {
   "cell_type": "code",
   "execution_count": 6,
   "metadata": {},
   "outputs": [
    {
     "name": "stdout",
     "output_type": "stream",
     "text": [
      "Model is intianiated\n"
     ]
    }
   ],
   "source": [
    "from tensorflow.keras.models import Sequential\n",
    "model=Sequential()\n",
    "print(\"Model is intianiated\")"
   ]
  },
  {
   "cell_type": "code",
   "execution_count": 7,
   "metadata": {},
   "outputs": [
    {
     "name": "stdout",
     "output_type": "stream",
     "text": [
      "All layers top of pretrained layers are developed\n"
     ]
    }
   ],
   "source": [
    "model.add(vgg16_model)\n",
    "#model.add(Conv2D(input_shape=(224,224,3),filters=64,kernel_size=(3,3),padding=\"same\", activation=\"relu\"))\n",
    "#model.add(Conv2D(filters=64,kernel_size=(3,3),padding=\"same\", activation=\"relu\"))\n",
    "#model.add(MaxPool2D(pool_size=(2,2),strides=(2,2)))\n",
    "#model.add(Conv2D(filters=128, kernel_size=(3,3), padding=\"same\", activation=\"relu\"))\n",
    "#model.add(Conv2D(filters=128, kernel_size=(3,3), padding=\"same\", activation=\"relu\"))\n",
    "#model.add(MaxPool2D(pool_size=(2,2),strides=(2,2)))\n",
    "#model.add(Conv2D(filters=256, kernel_size=(3,3), padding=\"same\", activation=\"relu\"))\n",
    "#model.add(Conv2D(filters=256, kernel_size=(3,3), padding=\"same\", activation=\"relu\"))\n",
    "#model.add(Conv2D(filters=256, kernel_size=(3,3), padding=\"same\", activation=\"relu\"))\n",
    "#model.add(MaxPool2D(pool_size=(2,2),strides=(2,2)))\n",
    "#model.add(Conv2D(filters=512, kernel_size=(3,3), padding=\"same\", activation=\"relu\"))\n",
    "#model.add(Conv2D(filters=512, kernel_size=(3,3), padding=\"same\", activation=\"relu\"))\n",
    "#model.add(Conv2D(filters=512, kernel_size=(3,3), padding=\"same\", activation=\"relu\"))\n",
    "#model.add(MaxPool2D(pool_size=(2,2),strides=(2,2)))\n",
    "#model.add(Conv2D(filters=512, kernel_size=(3,3), padding=\"same\", activation=\"relu\"))\n",
    "#model.add(Conv2D(filters=512, kernel_size=(3,3), padding=\"same\", activation=\"relu\"))\n",
    "#model.add(Conv2D(filters=512, kernel_size=(3,3), padding=\"same\", activation=\"relu\"))\n",
    "#model.add(MaxPool2D(pool_size=(2,2),strides=(2,2)))\n",
    "model.add(Flatten())\n",
    "model.add(Dense(4096, activation= 'relu'))\n",
    "model.add(Dense(4096, activation= 'relu'))\n",
    "model.add(Dense(1000, activation= 'relu'))\n",
    "hidden_layer=model.add(Dense(128, activation='relu', name='hidden_layer'))\n",
    "classification_layer=model.add(Dense(64, activation='relu', name='classification_layer'))\n",
    "output_layer=model.add(Dense(1, activation='sigmoid', name='output_layer')) \n",
    "print(\"All layers top of pretrained layers are developed\")"
   ]
  },
  {
   "cell_type": "markdown",
   "metadata": {
    "id": "xCoKydhAn-6L"
   },
   "source": [
    "https://www.kaggle.com/blurredmachine/alexnet-architecture-a-complete-guide"
   ]
  },
  {
   "cell_type": "code",
   "execution_count": 8,
   "metadata": {
    "colab": {
     "base_uri": "https://localhost:8080/"
    },
    "id": "TJJplrQeZDKx",
    "outputId": "838d3874-9eaf-4083-c6c9-effb76f3d3dd"
   },
   "outputs": [
    {
     "name": "stdout",
     "output_type": "stream",
     "text": [
      "Input parameters are assigned\n"
     ]
    }
   ],
   "source": [
    "# Input parameter\n",
    "#train_data_dir ='/content/drive/My Drive/Colab Notebooks/Dataset GDPS/train_dir'\n",
    "train_data_dir='/home/poornima/Data/GDPS/train_dir/'\n",
    "val_data_dir ='/home/poornima/Data/GDPS/val_dir/'\n",
    "model_weights_file = '/home/poornima/Data/GDPS/model_vgg16_weights.hdf5'\n",
    "nb_epochs = 300\n",
    "print(\"Input parameters are assigned\")"
   ]
  },
  {
   "cell_type": "code",
   "execution_count": 9,
   "metadata": {
    "colab": {
     "base_uri": "https://localhost:8080/"
    },
    "id": "13L22j2RZHrq",
    "outputId": "eeb66893-0e2c-42e5-fee2-412689d4ebe3"
   },
   "outputs": [
    {
     "name": "stdout",
     "output_type": "stream",
     "text": [
      "Model is Complied\n"
     ]
    }
   ],
   "source": [
    "model.compile(loss='binary_crossentropy', optimizer='sgd', metrics=['accuracy'])\n",
    "print(\"Model is Complied\")"
   ]
  },
  {
   "cell_type": "code",
   "execution_count": 10,
   "metadata": {
    "colab": {
     "base_uri": "https://localhost:8080/"
    },
    "id": "lNuqzITRZPn8",
    "outputId": "ff47b9e1-ba3b-4d4e-c9fd-beaa4e7fb8b1"
   },
   "outputs": [
    {
     "name": "stdout",
     "output_type": "stream",
     "text": [
      "Found 172800 images belonging to 2 classes.\n",
      "Found 43200 images belonging to 2 classes.\n"
     ]
    }
   ],
   "source": [
    "# image data generation\n",
    "\n",
    "from tensorflow.keras.preprocessing.image import ImageDataGenerator\n",
    "img_width, img_height = 224, 224\n",
    "train_datagen = ImageDataGenerator(rescale=1./255, shear_range=0.2, zoom_range=0.2, horizontal_flip=True)\n",
    "test_datagen = ImageDataGenerator(rescale=1./255)\n",
    "\n",
    "train_generator = train_datagen.flow_from_directory(train_data_dir, target_size=(img_width, img_height), \n",
    "                                                    batch_size=16,shuffle=False, class_mode='binary')\n",
    "validation_generator = test_datagen.flow_from_directory(val_data_dir, target_size=(img_width, img_height), \n",
    "                                                    batch_size=16,shuffle=False,class_mode='binary')"
   ]
  },
  {
   "cell_type": "code",
   "execution_count": 11,
   "metadata": {},
   "outputs": [],
   "source": [
    "from tensorflow.keras.callbacks import Callback, ModelCheckpoint, EarlyStopping\n",
    "filepath = \"/home/poornima/Data/GDPS/VGG16/saved-VGG16-SGD-model-{epoch:02d}-{val_accuracy:.2f}.h5\"\n",
    "checkpoint = ModelCheckpoint(filepath, monitor='val_accuracy', verbose=1, save_best_only=True, save_weights_only=False, mode='max')\n",
    "early = EarlyStopping(monitor='val_accuracy', min_delta=0, patience=100, verbose=1, mode='auto')"
   ]
  },
  {
   "cell_type": "code",
   "execution_count": 12,
   "metadata": {
    "colab": {
     "base_uri": "https://localhost:8080/"
    },
    "id": "9A93j5hMZVg_",
    "outputId": "2d0bad13-1476-485a-da35-77c3648057ed"
   },
   "outputs": [
    {
     "name": "stderr",
     "output_type": "stream",
     "text": [
      "2022-03-01 15:42:58.034604: I tensorflow/compiler/mlir/mlir_graph_optimization_pass.cc:116] None of the MLIR optimization passes are enabled (registered 2)\n",
      "2022-03-01 15:42:58.036788: I tensorflow/core/platform/profile_utils/cpu_utils.cc:112] CPU Frequency: 2200000000 Hz\n"
     ]
    },
    {
     "name": "stdout",
     "output_type": "stream",
     "text": [
      "Epoch 1/300\n"
     ]
    },
    {
     "name": "stderr",
     "output_type": "stream",
     "text": [
      "2022-03-01 15:42:58.591269: I tensorflow/stream_executor/platform/default/dso_loader.cc:49] Successfully opened dynamic library libcublas.so.10\n",
      "2022-03-01 15:42:58.814029: I tensorflow/stream_executor/platform/default/dso_loader.cc:49] Successfully opened dynamic library libcudnn.so.7\n",
      "2022-03-01 15:42:59.909936: W tensorflow/stream_executor/gpu/asm_compiler.cc:63] Running ptxas --version returned 256\n",
      "2022-03-01 15:43:00.002792: W tensorflow/stream_executor/gpu/redzone_allocator.cc:314] Internal: ptxas exited with non-zero error code 256, output: \n",
      "Relying on driver to perform ptx compilation. \n",
      "Modify $PATH to customize ptxas location.\n",
      "This message will be only logged once.\n"
     ]
    },
    {
     "name": "stdout",
     "output_type": "stream",
     "text": [
      "10800/10800 [==============================] - 2067s 190ms/step - loss: 0.6892 - accuracy: 0.5621 - val_loss: 0.6572 - val_accuracy: 0.5859\n",
      "\n",
      "Epoch 00001: val_accuracy improved from -inf to 0.58588, saving model to /home/poornima/Data/GDPS/VGG16/saved-VGG16-SGD-model-01-0.59.h5\n",
      "Epoch 2/300\n",
      "10800/10800 [==============================] - 2045s 189ms/step - loss: 0.6603 - accuracy: 0.5974 - val_loss: 0.6388 - val_accuracy: 0.6276\n",
      "\n",
      "Epoch 00002: val_accuracy improved from 0.58588 to 0.62759, saving model to /home/poornima/Data/GDPS/VGG16/saved-VGG16-SGD-model-02-0.63.h5\n",
      "Epoch 3/300\n",
      "10800/10800 [==============================] - 2054s 190ms/step - loss: 0.6500 - accuracy: 0.6195 - val_loss: 0.6357 - val_accuracy: 0.6322\n",
      "\n",
      "Epoch 00003: val_accuracy improved from 0.62759 to 0.63218, saving model to /home/poornima/Data/GDPS/VGG16/saved-VGG16-SGD-model-03-0.63.h5\n",
      "Epoch 4/300\n",
      "10800/10800 [==============================] - 2063s 191ms/step - loss: 0.6479 - accuracy: 0.6188 - val_loss: 0.6308 - val_accuracy: 0.6364\n",
      "\n",
      "Epoch 00004: val_accuracy improved from 0.63218 to 0.63639, saving model to /home/poornima/Data/GDPS/VGG16/saved-VGG16-SGD-model-04-0.64.h5\n",
      "Epoch 5/300\n",
      "10800/10800 [==============================] - 2049s 190ms/step - loss: 0.6481 - accuracy: 0.6171 - val_loss: 0.6254 - val_accuracy: 0.6403\n",
      "\n",
      "Epoch 00005: val_accuracy improved from 0.63639 to 0.64030, saving model to /home/poornima/Data/GDPS/VGG16/saved-VGG16-SGD-model-05-0.64.h5\n",
      "Epoch 6/300\n",
      "10800/10800 [==============================] - 2050s 190ms/step - loss: 0.6429 - accuracy: 0.6227 - val_loss: 0.6326 - val_accuracy: 0.6420\n",
      "\n",
      "Epoch 00006: val_accuracy improved from 0.64030 to 0.64199, saving model to /home/poornima/Data/GDPS/VGG16/saved-VGG16-SGD-model-06-0.64.h5\n",
      "Epoch 7/300\n",
      "10800/10800 [==============================] - 2048s 190ms/step - loss: 0.6420 - accuracy: 0.6236 - val_loss: 0.6250 - val_accuracy: 0.6411\n",
      "\n",
      "Epoch 00007: val_accuracy did not improve from 0.64199\n",
      "Epoch 8/300\n",
      "10800/10800 [==============================] - 2053s 190ms/step - loss: 0.6369 - accuracy: 0.6332 - val_loss: 0.6279 - val_accuracy: 0.6415\n",
      "\n",
      "Epoch 00008: val_accuracy did not improve from 0.64199\n",
      "Epoch 9/300\n",
      "10800/10800 [==============================] - 2042s 189ms/step - loss: 0.6399 - accuracy: 0.6272 - val_loss: 0.6250 - val_accuracy: 0.6485\n",
      "\n",
      "Epoch 00009: val_accuracy improved from 0.64199 to 0.64852, saving model to /home/poornima/Data/GDPS/VGG16/saved-VGG16-SGD-model-09-0.65.h5\n",
      "Epoch 10/300\n",
      "10800/10800 [==============================] - 2041s 189ms/step - loss: 0.6352 - accuracy: 0.6332 - val_loss: 0.6402 - val_accuracy: 0.6185\n",
      "\n",
      "Epoch 00010: val_accuracy did not improve from 0.64852\n",
      "Epoch 11/300\n",
      "10800/10800 [==============================] - 2044s 189ms/step - loss: 0.6358 - accuracy: 0.6353 - val_loss: 0.6261 - val_accuracy: 0.6493\n",
      "\n",
      "Epoch 00011: val_accuracy improved from 0.64852 to 0.64928, saving model to /home/poornima/Data/GDPS/VGG16/saved-VGG16-SGD-model-11-0.65.h5\n",
      "Epoch 12/300\n",
      "10800/10800 [==============================] - 2044s 189ms/step - loss: 0.6293 - accuracy: 0.6395 - val_loss: 0.6201 - val_accuracy: 0.6475\n",
      "\n",
      "Epoch 00012: val_accuracy did not improve from 0.64928\n",
      "Epoch 13/300\n",
      "10800/10800 [==============================] - 2047s 189ms/step - loss: 0.6322 - accuracy: 0.6372 - val_loss: 0.6311 - val_accuracy: 0.6239\n",
      "\n",
      "Epoch 00013: val_accuracy did not improve from 0.64928\n",
      "Epoch 14/300\n",
      "10800/10800 [==============================] - 2052s 190ms/step - loss: 0.6321 - accuracy: 0.6371 - val_loss: 0.6182 - val_accuracy: 0.6486\n",
      "\n",
      "Epoch 00014: val_accuracy did not improve from 0.64928\n",
      "Epoch 15/300\n",
      "10800/10800 [==============================] - 2049s 190ms/step - loss: 0.6318 - accuracy: 0.6365 - val_loss: 0.6184 - val_accuracy: 0.6473\n",
      "\n",
      "Epoch 00015: val_accuracy did not improve from 0.64928\n",
      "Epoch 16/300\n",
      "10800/10800 [==============================] - 2058s 191ms/step - loss: 0.6321 - accuracy: 0.6355 - val_loss: 0.6138 - val_accuracy: 0.6528\n",
      "\n",
      "Epoch 00016: val_accuracy improved from 0.64928 to 0.65275, saving model to /home/poornima/Data/GDPS/VGG16/saved-VGG16-SGD-model-16-0.65.h5\n",
      "Epoch 17/300\n",
      "10800/10800 [==============================] - 2056s 190ms/step - loss: 0.6259 - accuracy: 0.6423 - val_loss: 0.6201 - val_accuracy: 0.6474\n",
      "\n",
      "Epoch 00017: val_accuracy did not improve from 0.65275\n",
      "Epoch 18/300\n",
      "10800/10800 [==============================] - 2054s 190ms/step - loss: 0.6227 - accuracy: 0.6431 - val_loss: 0.6182 - val_accuracy: 0.6531\n",
      "\n",
      "Epoch 00018: val_accuracy improved from 0.65275 to 0.65310, saving model to /home/poornima/Data/GDPS/VGG16/saved-VGG16-SGD-model-18-0.65.h5\n",
      "Epoch 19/300\n",
      "10800/10800 [==============================] - 2050s 190ms/step - loss: 0.6268 - accuracy: 0.6393 - val_loss: 0.6243 - val_accuracy: 0.6450\n",
      "\n",
      "Epoch 00019: val_accuracy did not improve from 0.65310\n",
      "Epoch 20/300\n",
      "10800/10800 [==============================] - 2053s 190ms/step - loss: 0.6224 - accuracy: 0.6460 - val_loss: 0.6261 - val_accuracy: 0.6458\n",
      "\n",
      "Epoch 00020: val_accuracy did not improve from 0.65310\n",
      "Epoch 21/300\n",
      "10800/10800 [==============================] - 2051s 190ms/step - loss: 0.6206 - accuracy: 0.6456 - val_loss: 0.6157 - val_accuracy: 0.6462\n",
      "\n",
      "Epoch 00021: val_accuracy did not improve from 0.65310\n",
      "Epoch 22/300\n",
      "10800/10800 [==============================] - 2055s 190ms/step - loss: 0.6222 - accuracy: 0.6477 - val_loss: 0.6326 - val_accuracy: 0.6272\n",
      "\n",
      "Epoch 00022: val_accuracy did not improve from 0.65310\n",
      "Epoch 23/300\n",
      "10800/10800 [==============================] - 2047s 190ms/step - loss: 0.6203 - accuracy: 0.6502 - val_loss: 0.6154 - val_accuracy: 0.6441\n",
      "\n",
      "Epoch 00023: val_accuracy did not improve from 0.65310\n",
      "Epoch 24/300\n",
      "10800/10800 [==============================] - 2052s 190ms/step - loss: 0.6166 - accuracy: 0.6550 - val_loss: 0.6094 - val_accuracy: 0.6549\n",
      "\n",
      "Epoch 00024: val_accuracy improved from 0.65310 to 0.65488, saving model to /home/poornima/Data/GDPS/VGG16/saved-VGG16-SGD-model-24-0.65.h5\n",
      "Epoch 25/300\n",
      "10800/10800 [==============================] - 2045s 189ms/step - loss: 0.6181 - accuracy: 0.6480 - val_loss: 0.6140 - val_accuracy: 0.6525\n",
      "\n",
      "Epoch 00025: val_accuracy did not improve from 0.65488\n",
      "Epoch 26/300\n",
      "10800/10800 [==============================] - 2049s 190ms/step - loss: 0.6202 - accuracy: 0.6480 - val_loss: 0.6127 - val_accuracy: 0.6525\n",
      "\n",
      "Epoch 00026: val_accuracy did not improve from 0.65488\n",
      "Epoch 27/300\n",
      "10800/10800 [==============================] - 2050s 190ms/step - loss: 0.6119 - accuracy: 0.6565 - val_loss: 0.6142 - val_accuracy: 0.6527\n",
      "\n",
      "Epoch 00027: val_accuracy did not improve from 0.65488\n",
      "Epoch 28/300\n",
      "10800/10800 [==============================] - 2055s 190ms/step - loss: 0.6142 - accuracy: 0.6554 - val_loss: 0.6127 - val_accuracy: 0.6503\n",
      "\n",
      "Epoch 00028: val_accuracy did not improve from 0.65488\n",
      "Epoch 29/300\n",
      "10800/10800 [==============================] - 2056s 190ms/step - loss: 0.6144 - accuracy: 0.6542 - val_loss: 0.6086 - val_accuracy: 0.6584\n",
      "\n",
      "Epoch 00029: val_accuracy improved from 0.65488 to 0.65843, saving model to /home/poornima/Data/GDPS/VGG16/saved-VGG16-SGD-model-29-0.66.h5\n",
      "Epoch 30/300\n",
      "10800/10800 [==============================] - 2056s 190ms/step - loss: 0.6101 - accuracy: 0.6553 - val_loss: 0.6416 - val_accuracy: 0.6353\n",
      "\n",
      "Epoch 00030: val_accuracy did not improve from 0.65843\n",
      "Epoch 31/300\n",
      "10800/10800 [==============================] - 2055s 190ms/step - loss: 0.6096 - accuracy: 0.6588 - val_loss: 0.6086 - val_accuracy: 0.6537\n",
      "\n",
      "Epoch 00031: val_accuracy did not improve from 0.65843\n",
      "Epoch 32/300\n",
      "10800/10800 [==============================] - 2054s 190ms/step - loss: 0.6088 - accuracy: 0.6592 - val_loss: 0.6051 - val_accuracy: 0.6612\n",
      "\n",
      "Epoch 00032: val_accuracy improved from 0.65843 to 0.66116, saving model to /home/poornima/Data/GDPS/VGG16/saved-VGG16-SGD-model-32-0.66.h5\n",
      "Epoch 33/300\n",
      "10800/10800 [==============================] - 2052s 190ms/step - loss: 0.6093 - accuracy: 0.6626 - val_loss: 0.6097 - val_accuracy: 0.6544\n",
      "\n",
      "Epoch 00033: val_accuracy did not improve from 0.66116\n",
      "Epoch 34/300\n",
      "10800/10800 [==============================] - 2050s 190ms/step - loss: 0.6093 - accuracy: 0.6577 - val_loss: 0.6059 - val_accuracy: 0.6576\n",
      "\n",
      "Epoch 00034: val_accuracy did not improve from 0.66116\n",
      "Epoch 35/300\n"
     ]
    },
    {
     "name": "stdout",
     "output_type": "stream",
     "text": [
      "10800/10800 [==============================] - 2045s 189ms/step - loss: 0.6052 - accuracy: 0.6640 - val_loss: 0.6063 - val_accuracy: 0.6602\n",
      "\n",
      "Epoch 00035: val_accuracy did not improve from 0.66116\n",
      "Epoch 36/300\n",
      "10800/10800 [==============================] - 2045s 189ms/step - loss: 0.6055 - accuracy: 0.6648 - val_loss: 0.6000 - val_accuracy: 0.6643\n",
      "\n",
      "Epoch 00036: val_accuracy improved from 0.66116 to 0.66433, saving model to /home/poornima/Data/GDPS/VGG16/saved-VGG16-SGD-model-36-0.66.h5\n",
      "Epoch 37/300\n",
      "10800/10800 [==============================] - 2047s 190ms/step - loss: 0.6026 - accuracy: 0.6622 - val_loss: 0.6040 - val_accuracy: 0.6594\n",
      "\n",
      "Epoch 00037: val_accuracy did not improve from 0.66433\n",
      "Epoch 38/300\n",
      "10800/10800 [==============================] - 2048s 190ms/step - loss: 0.6069 - accuracy: 0.6588 - val_loss: 0.6303 - val_accuracy: 0.6456\n",
      "\n",
      "Epoch 00038: val_accuracy did not improve from 0.66433\n",
      "Epoch 39/300\n",
      "10800/10800 [==============================] - 2043s 189ms/step - loss: 0.6040 - accuracy: 0.6623 - val_loss: 0.6084 - val_accuracy: 0.6566\n",
      "\n",
      "Epoch 00039: val_accuracy did not improve from 0.66433\n",
      "Epoch 40/300\n",
      "10800/10800 [==============================] - 2053s 190ms/step - loss: 0.6039 - accuracy: 0.6673 - val_loss: 0.6029 - val_accuracy: 0.6670\n",
      "\n",
      "Epoch 00040: val_accuracy improved from 0.66433 to 0.66704, saving model to /home/poornima/Data/GDPS/VGG16/saved-VGG16-SGD-model-40-0.67.h5\n",
      "Epoch 41/300\n",
      "10800/10800 [==============================] - 2048s 190ms/step - loss: 0.6029 - accuracy: 0.6636 - val_loss: 0.6100 - val_accuracy: 0.6516\n",
      "\n",
      "Epoch 00041: val_accuracy did not improve from 0.66704\n",
      "Epoch 42/300\n",
      "10800/10800 [==============================] - 2053s 190ms/step - loss: 0.6010 - accuracy: 0.6678 - val_loss: 0.5964 - val_accuracy: 0.6672\n",
      "\n",
      "Epoch 00042: val_accuracy improved from 0.66704 to 0.66720, saving model to /home/poornima/Data/GDPS/VGG16/saved-VGG16-SGD-model-42-0.67.h5\n",
      "Epoch 43/300\n",
      "10800/10800 [==============================] - 2051s 190ms/step - loss: 0.5994 - accuracy: 0.6665 - val_loss: 0.6009 - val_accuracy: 0.6641\n",
      "\n",
      "Epoch 00043: val_accuracy did not improve from 0.66720\n",
      "Epoch 44/300\n",
      "10800/10800 [==============================] - 2059s 191ms/step - loss: 0.5980 - accuracy: 0.6700 - val_loss: 0.6219 - val_accuracy: 0.6401\n",
      "\n",
      "Epoch 00044: val_accuracy did not improve from 0.66720\n",
      "Epoch 45/300\n",
      "10800/10800 [==============================] - 2048s 190ms/step - loss: 0.5939 - accuracy: 0.6717 - val_loss: 0.6041 - val_accuracy: 0.6591\n",
      "\n",
      "Epoch 00045: val_accuracy did not improve from 0.66720\n",
      "Epoch 46/300\n",
      "10800/10800 [==============================] - 2048s 190ms/step - loss: 0.5956 - accuracy: 0.6704 - val_loss: 0.6087 - val_accuracy: 0.6551\n",
      "\n",
      "Epoch 00046: val_accuracy did not improve from 0.66720\n",
      "Epoch 47/300\n",
      "10800/10800 [==============================] - 2048s 190ms/step - loss: 0.5988 - accuracy: 0.6703 - val_loss: 0.6093 - val_accuracy: 0.6510\n",
      "\n",
      "Epoch 00047: val_accuracy did not improve from 0.66720\n",
      "Epoch 48/300\n",
      "10800/10800 [==============================] - 2057s 190ms/step - loss: 0.5968 - accuracy: 0.6705 - val_loss: 0.6020 - val_accuracy: 0.6652\n",
      "\n",
      "Epoch 00048: val_accuracy did not improve from 0.66720\n",
      "Epoch 49/300\n",
      "10800/10800 [==============================] - 2046s 189ms/step - loss: 0.5893 - accuracy: 0.6768 - val_loss: 0.6082 - val_accuracy: 0.6552\n",
      "\n",
      "Epoch 00049: val_accuracy did not improve from 0.66720\n",
      "Epoch 50/300\n",
      "10800/10800 [==============================] - 2049s 190ms/step - loss: 0.5947 - accuracy: 0.6717 - val_loss: 0.6054 - val_accuracy: 0.6599\n",
      "\n",
      "Epoch 00050: val_accuracy did not improve from 0.66720\n",
      "Epoch 51/300\n",
      "10800/10800 [==============================] - 2056s 190ms/step - loss: 0.5922 - accuracy: 0.6746 - val_loss: 0.6009 - val_accuracy: 0.6634\n",
      "\n",
      "Epoch 00051: val_accuracy did not improve from 0.66720\n",
      "Epoch 52/300\n",
      "10800/10800 [==============================] - 2046s 189ms/step - loss: 0.5917 - accuracy: 0.6734 - val_loss: 0.5963 - val_accuracy: 0.6679\n",
      "\n",
      "Epoch 00052: val_accuracy improved from 0.66720 to 0.66792, saving model to /home/poornima/Data/GDPS/VGG16/saved-VGG16-SGD-model-52-0.67.h5\n",
      "Epoch 53/300\n",
      "10800/10800 [==============================] - 2050s 190ms/step - loss: 0.5881 - accuracy: 0.6789 - val_loss: 0.5945 - val_accuracy: 0.6682\n",
      "\n",
      "Epoch 00053: val_accuracy improved from 0.66792 to 0.66819, saving model to /home/poornima/Data/GDPS/VGG16/saved-VGG16-SGD-model-53-0.67.h5\n",
      "Epoch 54/300\n",
      "10800/10800 [==============================] - 2053s 190ms/step - loss: 0.5893 - accuracy: 0.6792 - val_loss: 0.6119 - val_accuracy: 0.6511\n",
      "\n",
      "Epoch 00054: val_accuracy did not improve from 0.66819\n",
      "Epoch 55/300\n",
      "10800/10800 [==============================] - 2047s 190ms/step - loss: 0.5844 - accuracy: 0.6842 - val_loss: 0.6027 - val_accuracy: 0.6577\n",
      "\n",
      "Epoch 00055: val_accuracy did not improve from 0.66819\n",
      "Epoch 56/300\n",
      "10800/10800 [==============================] - 2056s 190ms/step - loss: 0.5858 - accuracy: 0.6781 - val_loss: 0.6073 - val_accuracy: 0.6629\n",
      "\n",
      "Epoch 00056: val_accuracy did not improve from 0.66819\n",
      "Epoch 57/300\n",
      "10800/10800 [==============================] - 2051s 190ms/step - loss: 0.5812 - accuracy: 0.6830 - val_loss: 0.6060 - val_accuracy: 0.6614\n",
      "\n",
      "Epoch 00057: val_accuracy did not improve from 0.66819\n",
      "Epoch 58/300\n",
      "10800/10800 [==============================] - 2048s 190ms/step - loss: 0.5817 - accuracy: 0.6821 - val_loss: 0.5934 - val_accuracy: 0.6707\n",
      "\n",
      "Epoch 00058: val_accuracy improved from 0.66819 to 0.67074, saving model to /home/poornima/Data/GDPS/VGG16/saved-VGG16-SGD-model-58-0.67.h5\n",
      "Epoch 59/300\n",
      "10800/10800 [==============================] - 2050s 190ms/step - loss: 0.5855 - accuracy: 0.6818 - val_loss: 0.6069 - val_accuracy: 0.6575\n",
      "\n",
      "Epoch 00059: val_accuracy did not improve from 0.67074\n",
      "Epoch 60/300\n",
      "10800/10800 [==============================] - 2050s 190ms/step - loss: 0.5821 - accuracy: 0.6814 - val_loss: 0.6088 - val_accuracy: 0.6532\n",
      "\n",
      "Epoch 00060: val_accuracy did not improve from 0.67074\n",
      "Epoch 61/300\n",
      "10800/10800 [==============================] - 2050s 190ms/step - loss: 0.5783 - accuracy: 0.6882 - val_loss: 0.6107 - val_accuracy: 0.6511\n",
      "\n",
      "Epoch 00061: val_accuracy did not improve from 0.67074\n",
      "Epoch 62/300\n",
      "10800/10800 [==============================] - 2047s 190ms/step - loss: 0.5820 - accuracy: 0.6846 - val_loss: 0.6085 - val_accuracy: 0.6662\n",
      "\n",
      "Epoch 00062: val_accuracy did not improve from 0.67074\n",
      "Epoch 63/300\n",
      "10800/10800 [==============================] - 2050s 190ms/step - loss: 0.5831 - accuracy: 0.6824 - val_loss: 0.6031 - val_accuracy: 0.6586\n",
      "\n",
      "Epoch 00063: val_accuracy did not improve from 0.67074\n",
      "Epoch 64/300\n",
      "10800/10800 [==============================] - 2050s 190ms/step - loss: 0.5763 - accuracy: 0.6876 - val_loss: 0.5957 - val_accuracy: 0.6717\n",
      "\n",
      "Epoch 00064: val_accuracy improved from 0.67074 to 0.67171, saving model to /home/poornima/Data/GDPS/VGG16/saved-VGG16-SGD-model-64-0.67.h5\n",
      "Epoch 65/300\n",
      "10800/10800 [==============================] - 2047s 190ms/step - loss: 0.5762 - accuracy: 0.6887 - val_loss: 0.6123 - val_accuracy: 0.6513\n",
      "\n",
      "Epoch 00065: val_accuracy did not improve from 0.67171\n",
      "Epoch 66/300\n",
      "10800/10800 [==============================] - 2045s 189ms/step - loss: 0.5724 - accuracy: 0.6901 - val_loss: 0.5924 - val_accuracy: 0.6678\n",
      "\n",
      "Epoch 00066: val_accuracy did not improve from 0.67171\n",
      "Epoch 67/300\n",
      "10800/10800 [==============================] - 2051s 190ms/step - loss: 0.5712 - accuracy: 0.6904 - val_loss: 0.5962 - val_accuracy: 0.6694\n",
      "\n",
      "Epoch 00067: val_accuracy did not improve from 0.67171\n",
      "Epoch 68/300\n",
      "10800/10800 [==============================] - 2056s 190ms/step - loss: 0.5702 - accuracy: 0.6926 - val_loss: 0.6089 - val_accuracy: 0.6584\n",
      "\n",
      "Epoch 00068: val_accuracy did not improve from 0.67171\n",
      "Epoch 69/300\n",
      "10800/10800 [==============================] - 2044s 189ms/step - loss: 0.5702 - accuracy: 0.6926 - val_loss: 0.6211 - val_accuracy: 0.6662\n",
      "\n",
      "Epoch 00069: val_accuracy did not improve from 0.67171\n",
      "Epoch 70/300\n",
      "10800/10800 [==============================] - 2047s 190ms/step - loss: 0.5707 - accuracy: 0.6945 - val_loss: 0.6925 - val_accuracy: 0.6235\n",
      "\n",
      "Epoch 00070: val_accuracy did not improve from 0.67171\n",
      "Epoch 71/300\n"
     ]
    },
    {
     "name": "stdout",
     "output_type": "stream",
     "text": [
      "10800/10800 [==============================] - 2042s 189ms/step - loss: 0.5692 - accuracy: 0.6953 - val_loss: 0.6206 - val_accuracy: 0.6517\n",
      "\n",
      "Epoch 00071: val_accuracy did not improve from 0.67171\n",
      "Epoch 72/300\n",
      "10800/10800 [==============================] - 2042s 189ms/step - loss: 0.5614 - accuracy: 0.7009 - val_loss: 0.6063 - val_accuracy: 0.6564\n",
      "\n",
      "Epoch 00072: val_accuracy did not improve from 0.67171\n",
      "Epoch 73/300\n",
      "10800/10800 [==============================] - 2046s 189ms/step - loss: 0.5645 - accuracy: 0.6960 - val_loss: 0.5970 - val_accuracy: 0.6721\n",
      "\n",
      "Epoch 00073: val_accuracy improved from 0.67171 to 0.67213, saving model to /home/poornima/Data/GDPS/VGG16/saved-VGG16-SGD-model-73-0.67.h5\n",
      "Epoch 74/300\n",
      "10800/10800 [==============================] - 2049s 190ms/step - loss: 0.5648 - accuracy: 0.6996 - val_loss: 0.6333 - val_accuracy: 0.6598\n",
      "\n",
      "Epoch 00074: val_accuracy did not improve from 0.67213\n",
      "Epoch 75/300\n",
      "10800/10800 [==============================] - 2050s 190ms/step - loss: 0.5610 - accuracy: 0.6999 - val_loss: 0.6115 - val_accuracy: 0.6567\n",
      "\n",
      "Epoch 00075: val_accuracy did not improve from 0.67213\n",
      "Epoch 76/300\n",
      "10800/10800 [==============================] - 2050s 190ms/step - loss: 0.5609 - accuracy: 0.6997 - val_loss: 0.6037 - val_accuracy: 0.6617\n",
      "\n",
      "Epoch 00076: val_accuracy did not improve from 0.67213\n",
      "Epoch 77/300\n",
      "10800/10800 [==============================] - 2054s 190ms/step - loss: 0.5632 - accuracy: 0.6993 - val_loss: 0.5976 - val_accuracy: 0.6722\n",
      "\n",
      "Epoch 00077: val_accuracy improved from 0.67213 to 0.67220, saving model to /home/poornima/Data/GDPS/VGG16/saved-VGG16-SGD-model-77-0.67.h5\n",
      "Epoch 78/300\n",
      "10800/10800 [==============================] - 2048s 190ms/step - loss: 0.5579 - accuracy: 0.7022 - val_loss: 0.5998 - val_accuracy: 0.6727\n",
      "\n",
      "Epoch 00078: val_accuracy improved from 0.67220 to 0.67269, saving model to /home/poornima/Data/GDPS/VGG16/saved-VGG16-SGD-model-78-0.67.h5\n",
      "Epoch 79/300\n",
      "10800/10800 [==============================] - 2049s 190ms/step - loss: 0.5542 - accuracy: 0.7055 - val_loss: 0.6204 - val_accuracy: 0.6650\n",
      "\n",
      "Epoch 00079: val_accuracy did not improve from 0.67269\n",
      "Epoch 80/300\n",
      "10800/10800 [==============================] - 2048s 190ms/step - loss: 0.5534 - accuracy: 0.7057 - val_loss: 0.6110 - val_accuracy: 0.6605\n",
      "\n",
      "Epoch 00080: val_accuracy did not improve from 0.67269\n",
      "Epoch 81/300\n",
      "10800/10800 [==============================] - 2043s 189ms/step - loss: 0.5574 - accuracy: 0.7047 - val_loss: 0.6075 - val_accuracy: 0.6551\n",
      "\n",
      "Epoch 00081: val_accuracy did not improve from 0.67269\n",
      "Epoch 82/300\n",
      "10800/10800 [==============================] - 2044s 189ms/step - loss: 0.5500 - accuracy: 0.7107 - val_loss: 0.6538 - val_accuracy: 0.6560\n",
      "\n",
      "Epoch 00082: val_accuracy did not improve from 0.67269\n",
      "Epoch 83/300\n",
      "10800/10800 [==============================] - 2056s 190ms/step - loss: 0.5497 - accuracy: 0.7087 - val_loss: 0.6674 - val_accuracy: 0.6410\n",
      "\n",
      "Epoch 00083: val_accuracy did not improve from 0.67269\n",
      "Epoch 84/300\n",
      "10800/10800 [==============================] - 2047s 190ms/step - loss: 0.5504 - accuracy: 0.7098 - val_loss: 0.5986 - val_accuracy: 0.6695\n",
      "\n",
      "Epoch 00084: val_accuracy did not improve from 0.67269\n",
      "Epoch 85/300\n",
      "10800/10800 [==============================] - 2044s 189ms/step - loss: 0.5464 - accuracy: 0.7147 - val_loss: 0.6308 - val_accuracy: 0.6490\n",
      "\n",
      "Epoch 00085: val_accuracy did not improve from 0.67269\n",
      "Epoch 86/300\n",
      "10800/10800 [==============================] - 2055s 190ms/step - loss: 0.5473 - accuracy: 0.7104 - val_loss: 0.6047 - val_accuracy: 0.6674\n",
      "\n",
      "Epoch 00086: val_accuracy did not improve from 0.67269\n",
      "Epoch 87/300\n",
      "10800/10800 [==============================] - 2043s 189ms/step - loss: 0.5440 - accuracy: 0.7150 - val_loss: 0.6077 - val_accuracy: 0.6656\n",
      "\n",
      "Epoch 00087: val_accuracy did not improve from 0.67269\n",
      "Epoch 88/300\n",
      "10800/10800 [==============================] - 2052s 190ms/step - loss: 0.5460 - accuracy: 0.7128 - val_loss: 0.6085 - val_accuracy: 0.6750\n",
      "\n",
      "Epoch 00088: val_accuracy improved from 0.67269 to 0.67495, saving model to /home/poornima/Data/GDPS/VGG16/saved-VGG16-SGD-model-88-0.67.h5\n",
      "Epoch 89/300\n",
      "10800/10800 [==============================] - 2047s 190ms/step - loss: 0.5407 - accuracy: 0.7167 - val_loss: 0.7204 - val_accuracy: 0.6177\n",
      "\n",
      "Epoch 00089: val_accuracy did not improve from 0.67495\n",
      "Epoch 90/300\n",
      "10800/10800 [==============================] - 2050s 190ms/step - loss: 0.5387 - accuracy: 0.7166 - val_loss: 0.6142 - val_accuracy: 0.6573\n",
      "\n",
      "Epoch 00090: val_accuracy did not improve from 0.67495\n",
      "Epoch 91/300\n",
      "10800/10800 [==============================] - 2049s 190ms/step - loss: 0.5372 - accuracy: 0.7204 - val_loss: 0.6095 - val_accuracy: 0.6679\n",
      "\n",
      "Epoch 00091: val_accuracy did not improve from 0.67495\n",
      "Epoch 92/300\n",
      "10800/10800 [==============================] - 2053s 190ms/step - loss: 0.5357 - accuracy: 0.7192 - val_loss: 0.6256 - val_accuracy: 0.6539\n",
      "\n",
      "Epoch 00092: val_accuracy did not improve from 0.67495\n",
      "Epoch 93/300\n",
      "10800/10800 [==============================] - 2048s 190ms/step - loss: 0.5350 - accuracy: 0.7212 - val_loss: 0.6174 - val_accuracy: 0.6691\n",
      "\n",
      "Epoch 00093: val_accuracy did not improve from 0.67495\n",
      "Epoch 94/300\n",
      "10800/10800 [==============================] - 2052s 190ms/step - loss: 0.5286 - accuracy: 0.7243 - val_loss: 0.6057 - val_accuracy: 0.6708\n",
      "\n",
      "Epoch 00094: val_accuracy did not improve from 0.67495\n",
      "Epoch 95/300\n",
      "10800/10800 [==============================] - 2057s 190ms/step - loss: 0.5318 - accuracy: 0.7254 - val_loss: 0.6111 - val_accuracy: 0.6754\n",
      "\n",
      "Epoch 00095: val_accuracy improved from 0.67495 to 0.67544, saving model to /home/poornima/Data/GDPS/VGG16/saved-VGG16-SGD-model-95-0.68.h5\n",
      "Epoch 96/300\n",
      "10800/10800 [==============================] - 2052s 190ms/step - loss: 0.5283 - accuracy: 0.7270 - val_loss: 0.6753 - val_accuracy: 0.6605\n",
      "\n",
      "Epoch 00096: val_accuracy did not improve from 0.67544\n",
      "Epoch 97/300\n",
      "10800/10800 [==============================] - 2055s 190ms/step - loss: 0.5243 - accuracy: 0.7287 - val_loss: 0.6317 - val_accuracy: 0.6636\n",
      "\n",
      "Epoch 00097: val_accuracy did not improve from 0.67544\n",
      "Epoch 98/300\n",
      "10800/10800 [==============================] - 2051s 190ms/step - loss: 0.5227 - accuracy: 0.7309 - val_loss: 0.6906 - val_accuracy: 0.6535\n",
      "\n",
      "Epoch 00098: val_accuracy did not improve from 0.67544\n",
      "Epoch 99/300\n",
      "10800/10800 [==============================] - 2053s 190ms/step - loss: 0.5240 - accuracy: 0.7284 - val_loss: 0.6280 - val_accuracy: 0.6571\n",
      "\n",
      "Epoch 00099: val_accuracy did not improve from 0.67544\n",
      "Epoch 100/300\n",
      "10800/10800 [==============================] - 2049s 190ms/step - loss: 0.5164 - accuracy: 0.7357 - val_loss: 0.7052 - val_accuracy: 0.6506\n",
      "\n",
      "Epoch 00100: val_accuracy did not improve from 0.67544\n",
      "Epoch 101/300\n",
      "10800/10800 [==============================] - 2051s 190ms/step - loss: 0.5133 - accuracy: 0.7363 - val_loss: 0.6212 - val_accuracy: 0.6725\n",
      "\n",
      "Epoch 00101: val_accuracy did not improve from 0.67544\n",
      "Epoch 102/300\n",
      "10800/10800 [==============================] - 2045s 189ms/step - loss: 0.5146 - accuracy: 0.7342 - val_loss: 0.6224 - val_accuracy: 0.6660\n",
      "\n",
      "Epoch 00102: val_accuracy did not improve from 0.67544\n",
      "Epoch 103/300\n",
      "10800/10800 [==============================] - 2051s 190ms/step - loss: 0.5141 - accuracy: 0.7376 - val_loss: 0.6185 - val_accuracy: 0.6741\n",
      "\n",
      "Epoch 00103: val_accuracy did not improve from 0.67544\n",
      "Epoch 104/300\n",
      "10800/10800 [==============================] - 2048s 190ms/step - loss: 0.5108 - accuracy: 0.7378 - val_loss: 0.6563 - val_accuracy: 0.6617\n",
      "\n",
      "Epoch 00104: val_accuracy did not improve from 0.67544\n",
      "Epoch 105/300\n",
      "10800/10800 [==============================] - 2054s 190ms/step - loss: 0.5087 - accuracy: 0.7405 - val_loss: 0.6330 - val_accuracy: 0.6723\n",
      "\n",
      "Epoch 00105: val_accuracy did not improve from 0.67544\n",
      "Epoch 106/300\n",
      "10800/10800 [==============================] - 2049s 190ms/step - loss: 0.5003 - accuracy: 0.7465 - val_loss: 0.6249 - val_accuracy: 0.6648\n",
      "\n",
      "Epoch 00106: val_accuracy did not improve from 0.67544\n",
      "Epoch 107/300\n",
      "10800/10800 [==============================] - 2048s 190ms/step - loss: 0.4997 - accuracy: 0.7456 - val_loss: 0.6426 - val_accuracy: 0.6553\n",
      "\n",
      "Epoch 00107: val_accuracy did not improve from 0.67544\n",
      "Epoch 108/300\n"
     ]
    },
    {
     "name": "stdout",
     "output_type": "stream",
     "text": [
      "10800/10800 [==============================] - 2044s 189ms/step - loss: 0.4967 - accuracy: 0.7496 - val_loss: 0.6851 - val_accuracy: 0.6543\n",
      "\n",
      "Epoch 00108: val_accuracy did not improve from 0.67544\n",
      "Epoch 109/300\n",
      "10800/10800 [==============================] - 2053s 190ms/step - loss: 0.4943 - accuracy: 0.7495 - val_loss: 0.6405 - val_accuracy: 0.6581\n",
      "\n",
      "Epoch 00109: val_accuracy did not improve from 0.67544\n",
      "Epoch 110/300\n",
      "10800/10800 [==============================] - 2056s 190ms/step - loss: 0.4953 - accuracy: 0.7485 - val_loss: 0.6559 - val_accuracy: 0.6575\n",
      "\n",
      "Epoch 00110: val_accuracy did not improve from 0.67544\n",
      "Epoch 111/300\n",
      "10800/10800 [==============================] - 2053s 190ms/step - loss: 0.4900 - accuracy: 0.7536 - val_loss: 0.6926 - val_accuracy: 0.6484\n",
      "\n",
      "Epoch 00111: val_accuracy did not improve from 0.67544\n",
      "Epoch 112/300\n",
      "10800/10800 [==============================] - 2050s 190ms/step - loss: 0.4830 - accuracy: 0.7588 - val_loss: 0.6290 - val_accuracy: 0.6684\n",
      "\n",
      "Epoch 00112: val_accuracy did not improve from 0.67544\n",
      "Epoch 113/300\n",
      "10800/10800 [==============================] - 2046s 189ms/step - loss: 0.4853 - accuracy: 0.7567 - val_loss: 0.6765 - val_accuracy: 0.6571\n",
      "\n",
      "Epoch 00113: val_accuracy did not improve from 0.67544\n",
      "Epoch 114/300\n",
      "10800/10800 [==============================] - 2051s 190ms/step - loss: 0.4751 - accuracy: 0.7655 - val_loss: 0.6757 - val_accuracy: 0.6526\n",
      "\n",
      "Epoch 00114: val_accuracy did not improve from 0.67544\n",
      "Epoch 115/300\n",
      "10800/10800 [==============================] - 2050s 190ms/step - loss: 0.4707 - accuracy: 0.7673 - val_loss: 0.6411 - val_accuracy: 0.6635\n",
      "\n",
      "Epoch 00115: val_accuracy did not improve from 0.67544\n",
      "Epoch 116/300\n",
      "10800/10800 [==============================] - 2047s 190ms/step - loss: 0.4682 - accuracy: 0.7674 - val_loss: 0.6594 - val_accuracy: 0.6510\n",
      "\n",
      "Epoch 00116: val_accuracy did not improve from 0.67544\n",
      "Epoch 117/300\n",
      "10800/10800 [==============================] - 2058s 191ms/step - loss: 0.4692 - accuracy: 0.7673 - val_loss: 0.6834 - val_accuracy: 0.6643\n",
      "\n",
      "Epoch 00117: val_accuracy did not improve from 0.67544\n",
      "Epoch 118/300\n",
      "10800/10800 [==============================] - 2050s 190ms/step - loss: 0.4659 - accuracy: 0.7696 - val_loss: 0.6639 - val_accuracy: 0.6594\n",
      "\n",
      "Epoch 00118: val_accuracy did not improve from 0.67544\n",
      "Epoch 119/300\n",
      "10800/10800 [==============================] - 2052s 190ms/step - loss: 0.4624 - accuracy: 0.7732 - val_loss: 0.6656 - val_accuracy: 0.6686\n",
      "\n",
      "Epoch 00119: val_accuracy did not improve from 0.67544\n",
      "Epoch 120/300\n",
      "10800/10800 [==============================] - 2048s 190ms/step - loss: 0.4577 - accuracy: 0.7750 - val_loss: 0.6557 - val_accuracy: 0.6647\n",
      "\n",
      "Epoch 00120: val_accuracy did not improve from 0.67544\n",
      "Epoch 121/300\n",
      "10800/10800 [==============================] - 2046s 189ms/step - loss: 0.4507 - accuracy: 0.7771 - val_loss: 0.7261 - val_accuracy: 0.6522\n",
      "\n",
      "Epoch 00121: val_accuracy did not improve from 0.67544\n",
      "Epoch 122/300\n",
      "10800/10800 [==============================] - 2055s 190ms/step - loss: 0.4491 - accuracy: 0.7801 - val_loss: 0.7046 - val_accuracy: 0.6603\n",
      "\n",
      "Epoch 00122: val_accuracy did not improve from 0.67544\n",
      "Epoch 123/300\n",
      "10800/10800 [==============================] - 2048s 190ms/step - loss: 0.4364 - accuracy: 0.7887 - val_loss: 0.7167 - val_accuracy: 0.6505\n",
      "\n",
      "Epoch 00123: val_accuracy did not improve from 0.67544\n",
      "Epoch 124/300\n",
      "10800/10800 [==============================] - 2049s 190ms/step - loss: 0.4367 - accuracy: 0.7882 - val_loss: 0.6868 - val_accuracy: 0.6527\n",
      "\n",
      "Epoch 00124: val_accuracy did not improve from 0.67544\n",
      "Epoch 125/300\n",
      "10800/10800 [==============================] - 2047s 190ms/step - loss: 0.4340 - accuracy: 0.7878 - val_loss: 0.7008 - val_accuracy: 0.6607\n",
      "\n",
      "Epoch 00125: val_accuracy did not improve from 0.67544\n",
      "Epoch 126/300\n",
      "10800/10800 [==============================] - 2052s 190ms/step - loss: 0.4261 - accuracy: 0.7919 - val_loss: 0.7075 - val_accuracy: 0.6598\n",
      "\n",
      "Epoch 00126: val_accuracy did not improve from 0.67544\n",
      "Epoch 127/300\n",
      "10800/10800 [==============================] - 2048s 190ms/step - loss: 0.4237 - accuracy: 0.7960 - val_loss: 0.7416 - val_accuracy: 0.6602\n",
      "\n",
      "Epoch 00127: val_accuracy did not improve from 0.67544\n",
      "Epoch 128/300\n",
      "10800/10800 [==============================] - 2055s 190ms/step - loss: 0.4184 - accuracy: 0.7984 - val_loss: 0.7545 - val_accuracy: 0.6375\n",
      "\n",
      "Epoch 00128: val_accuracy did not improve from 0.67544\n",
      "Epoch 129/300\n",
      "10800/10800 [==============================] - 2058s 191ms/step - loss: 0.4154 - accuracy: 0.8007 - val_loss: 0.7299 - val_accuracy: 0.6578\n",
      "\n",
      "Epoch 00129: val_accuracy did not improve from 0.67544\n",
      "Epoch 130/300\n",
      "10800/10800 [==============================] - 2065s 191ms/step - loss: 0.4089 - accuracy: 0.8045 - val_loss: 0.8043 - val_accuracy: 0.6515\n",
      "\n",
      "Epoch 00130: val_accuracy did not improve from 0.67544\n",
      "Epoch 131/300\n",
      "10800/10800 [==============================] - 2059s 191ms/step - loss: 0.4049 - accuracy: 0.8073 - val_loss: 0.7417 - val_accuracy: 0.6538\n",
      "\n",
      "Epoch 00131: val_accuracy did not improve from 0.67544\n",
      "Epoch 132/300\n",
      "10800/10800 [==============================] - 2057s 190ms/step - loss: 0.4018 - accuracy: 0.8078 - val_loss: 0.8769 - val_accuracy: 0.6353\n",
      "\n",
      "Epoch 00132: val_accuracy did not improve from 0.67544\n",
      "Epoch 133/300\n",
      "10800/10800 [==============================] - 2056s 190ms/step - loss: 0.3926 - accuracy: 0.8148 - val_loss: 0.7563 - val_accuracy: 0.6516\n",
      "\n",
      "Epoch 00133: val_accuracy did not improve from 0.67544\n",
      "Epoch 134/300\n",
      "10800/10800 [==============================] - 2061s 191ms/step - loss: 0.3887 - accuracy: 0.8155 - val_loss: 0.7674 - val_accuracy: 0.6573\n",
      "\n",
      "Epoch 00134: val_accuracy did not improve from 0.67544\n",
      "Epoch 135/300\n",
      "10800/10800 [==============================] - 2056s 190ms/step - loss: 0.3850 - accuracy: 0.8177 - val_loss: 0.8813 - val_accuracy: 0.6263\n",
      "\n",
      "Epoch 00135: val_accuracy did not improve from 0.67544\n",
      "Epoch 136/300\n",
      "10800/10800 [==============================] - 2057s 191ms/step - loss: 0.3766 - accuracy: 0.8217 - val_loss: 0.7890 - val_accuracy: 0.6564\n",
      "\n",
      "Epoch 00136: val_accuracy did not improve from 0.67544\n",
      "Epoch 137/300\n",
      "10800/10800 [==============================] - 2053s 190ms/step - loss: 0.3718 - accuracy: 0.8245 - val_loss: 0.7657 - val_accuracy: 0.6427\n",
      "\n",
      "Epoch 00137: val_accuracy did not improve from 0.67544\n",
      "Epoch 138/300\n",
      "10800/10800 [==============================] - 2053s 190ms/step - loss: 0.3629 - accuracy: 0.8322 - val_loss: 0.7855 - val_accuracy: 0.6481\n",
      "\n",
      "Epoch 00138: val_accuracy did not improve from 0.67544\n",
      "Epoch 139/300\n",
      "10800/10800 [==============================] - 2054s 190ms/step - loss: 0.3560 - accuracy: 0.8347 - val_loss: 0.8715 - val_accuracy: 0.6335\n",
      "\n",
      "Epoch 00139: val_accuracy did not improve from 0.67544\n",
      "Epoch 140/300\n",
      "10800/10800 [==============================] - 2051s 190ms/step - loss: 0.3535 - accuracy: 0.8360 - val_loss: 0.8494 - val_accuracy: 0.6477\n",
      "\n",
      "Epoch 00140: val_accuracy did not improve from 0.67544\n",
      "Epoch 141/300\n",
      "10800/10800 [==============================] - 2051s 190ms/step - loss: 0.3507 - accuracy: 0.8373 - val_loss: 0.8336 - val_accuracy: 0.6473\n",
      "\n",
      "Epoch 00141: val_accuracy did not improve from 0.67544\n",
      "Epoch 142/300\n",
      "10800/10800 [==============================] - 2055s 190ms/step - loss: 0.3482 - accuracy: 0.8384 - val_loss: 0.8877 - val_accuracy: 0.6449\n",
      "\n",
      "Epoch 00142: val_accuracy did not improve from 0.67544\n",
      "Epoch 143/300\n",
      "10800/10800 [==============================] - 2055s 190ms/step - loss: 0.3374 - accuracy: 0.8439 - val_loss: 0.9117 - val_accuracy: 0.6398\n",
      "\n",
      "Epoch 00143: val_accuracy did not improve from 0.67544\n",
      "Epoch 144/300\n",
      "10800/10800 [==============================] - 2052s 190ms/step - loss: 0.3346 - accuracy: 0.8445 - val_loss: 0.8314 - val_accuracy: 0.6505\n",
      "\n",
      "Epoch 00144: val_accuracy did not improve from 0.67544\n",
      "Epoch 145/300\n",
      "10800/10800 [==============================] - 2047s 190ms/step - loss: 0.3265 - accuracy: 0.8506 - val_loss: 0.8449 - val_accuracy: 0.6436\n",
      "\n",
      "Epoch 00145: val_accuracy did not improve from 0.67544\n",
      "Epoch 146/300\n",
      "10800/10800 [==============================] - 2043s 189ms/step - loss: 0.3177 - accuracy: 0.8553 - val_loss: 0.9285 - val_accuracy: 0.6470\n",
      "\n",
      "Epoch 00146: val_accuracy did not improve from 0.67544\n",
      "Epoch 147/300\n"
     ]
    },
    {
     "name": "stdout",
     "output_type": "stream",
     "text": [
      "10800/10800 [==============================] - 2043s 189ms/step - loss: 0.3123 - accuracy: 0.8565 - val_loss: 0.8922 - val_accuracy: 0.6467\n",
      "\n",
      "Epoch 00147: val_accuracy did not improve from 0.67544\n",
      "Epoch 148/300\n",
      "10800/10800 [==============================] - 2050s 190ms/step - loss: 0.3040 - accuracy: 0.8625 - val_loss: 0.8843 - val_accuracy: 0.6365\n",
      "\n",
      "Epoch 00148: val_accuracy did not improve from 0.67544\n",
      "Epoch 149/300\n",
      "10800/10800 [==============================] - 2053s 190ms/step - loss: 0.3031 - accuracy: 0.8616 - val_loss: 0.9126 - val_accuracy: 0.6441\n",
      "\n",
      "Epoch 00149: val_accuracy did not improve from 0.67544\n",
      "Epoch 150/300\n",
      "10800/10800 [==============================] - 2054s 190ms/step - loss: 0.3001 - accuracy: 0.8630 - val_loss: 0.9268 - val_accuracy: 0.6463\n",
      "\n",
      "Epoch 00150: val_accuracy did not improve from 0.67544\n",
      "Epoch 151/300\n",
      "10800/10800 [==============================] - 2050s 190ms/step - loss: 0.2928 - accuracy: 0.8683 - val_loss: 1.0416 - val_accuracy: 0.6309\n",
      "\n",
      "Epoch 00151: val_accuracy did not improve from 0.67544\n",
      "Epoch 152/300\n",
      "10800/10800 [==============================] - 2052s 190ms/step - loss: 0.2855 - accuracy: 0.8708 - val_loss: 1.0317 - val_accuracy: 0.6391\n",
      "\n",
      "Epoch 00152: val_accuracy did not improve from 0.67544\n",
      "Epoch 153/300\n",
      "10800/10800 [==============================] - 2049s 190ms/step - loss: 0.2783 - accuracy: 0.8747 - val_loss: 0.9823 - val_accuracy: 0.6392\n",
      "\n",
      "Epoch 00153: val_accuracy did not improve from 0.67544\n",
      "Epoch 154/300\n",
      "10800/10800 [==============================] - 2048s 190ms/step - loss: 0.2775 - accuracy: 0.8746 - val_loss: 1.2046 - val_accuracy: 0.6287\n",
      "\n",
      "Epoch 00154: val_accuracy did not improve from 0.67544\n",
      "Epoch 155/300\n",
      "10800/10800 [==============================] - 2042s 189ms/step - loss: 0.2706 - accuracy: 0.8788 - val_loss: 0.9986 - val_accuracy: 0.6382\n",
      "\n",
      "Epoch 00155: val_accuracy did not improve from 0.67544\n",
      "Epoch 156/300\n",
      "10800/10800 [==============================] - 2045s 189ms/step - loss: 0.2642 - accuracy: 0.8818 - val_loss: 1.1224 - val_accuracy: 0.6298\n",
      "\n",
      "Epoch 00156: val_accuracy did not improve from 0.67544\n",
      "Epoch 157/300\n",
      "10800/10800 [==============================] - 2043s 189ms/step - loss: 0.2566 - accuracy: 0.8846 - val_loss: 1.1015 - val_accuracy: 0.6317\n",
      "\n",
      "Epoch 00157: val_accuracy did not improve from 0.67544\n",
      "Epoch 158/300\n",
      "10800/10800 [==============================] - 2052s 190ms/step - loss: 0.2554 - accuracy: 0.8854 - val_loss: 1.0410 - val_accuracy: 0.6424\n",
      "\n",
      "Epoch 00158: val_accuracy did not improve from 0.67544\n",
      "Epoch 159/300\n",
      "10800/10800 [==============================] - 2052s 190ms/step - loss: 0.2509 - accuracy: 0.8907 - val_loss: 1.2598 - val_accuracy: 0.6188\n",
      "\n",
      "Epoch 00159: val_accuracy did not improve from 0.67544\n",
      "Epoch 160/300\n",
      "10800/10800 [==============================] - 2046s 189ms/step - loss: 0.2383 - accuracy: 0.8956 - val_loss: 1.1292 - val_accuracy: 0.6290\n",
      "\n",
      "Epoch 00160: val_accuracy did not improve from 0.67544\n",
      "Epoch 161/300\n",
      "10800/10800 [==============================] - 2052s 190ms/step - loss: 0.2380 - accuracy: 0.8960 - val_loss: 1.2415 - val_accuracy: 0.6323\n",
      "\n",
      "Epoch 00161: val_accuracy did not improve from 0.67544\n",
      "Epoch 162/300\n",
      "10800/10800 [==============================] - 2053s 190ms/step - loss: 0.2340 - accuracy: 0.8978 - val_loss: 1.0450 - val_accuracy: 0.6448\n",
      "\n",
      "Epoch 00162: val_accuracy did not improve from 0.67544\n",
      "Epoch 163/300\n",
      "10800/10800 [==============================] - 2054s 190ms/step - loss: 0.2288 - accuracy: 0.9002 - val_loss: 1.1318 - val_accuracy: 0.6329\n",
      "\n",
      "Epoch 00163: val_accuracy did not improve from 0.67544\n",
      "Epoch 164/300\n",
      "10800/10800 [==============================] - 2052s 190ms/step - loss: 0.2242 - accuracy: 0.9015 - val_loss: 1.2588 - val_accuracy: 0.6265\n",
      "\n",
      "Epoch 00164: val_accuracy did not improve from 0.67544\n",
      "Epoch 165/300\n",
      "10800/10800 [==============================] - 2047s 190ms/step - loss: 0.2162 - accuracy: 0.9065 - val_loss: 1.2359 - val_accuracy: 0.6319\n",
      "\n",
      "Epoch 00165: val_accuracy did not improve from 0.67544\n",
      "Epoch 166/300\n",
      "10800/10800 [==============================] - 2046s 189ms/step - loss: 0.2146 - accuracy: 0.9063 - val_loss: 1.1480 - val_accuracy: 0.6341\n",
      "\n",
      "Epoch 00166: val_accuracy did not improve from 0.67544\n",
      "Epoch 167/300\n",
      "10800/10800 [==============================] - 2054s 190ms/step - loss: 0.2084 - accuracy: 0.9099 - val_loss: 1.2157 - val_accuracy: 0.6333\n",
      "\n",
      "Epoch 00167: val_accuracy did not improve from 0.67544\n",
      "Epoch 168/300\n",
      "10800/10800 [==============================] - 2053s 190ms/step - loss: 0.2063 - accuracy: 0.9097 - val_loss: 1.2622 - val_accuracy: 0.6315\n",
      "\n",
      "Epoch 00168: val_accuracy did not improve from 0.67544\n",
      "Epoch 169/300\n",
      "10800/10800 [==============================] - 2050s 190ms/step - loss: 0.2025 - accuracy: 0.9117 - val_loss: 1.3660 - val_accuracy: 0.6286\n",
      "\n",
      "Epoch 00169: val_accuracy did not improve from 0.67544\n",
      "Epoch 170/300\n",
      "10800/10800 [==============================] - 2062s 191ms/step - loss: 0.1939 - accuracy: 0.9167 - val_loss: 1.2300 - val_accuracy: 0.6399\n",
      "\n",
      "Epoch 00170: val_accuracy did not improve from 0.67544\n",
      "Epoch 171/300\n",
      "10800/10800 [==============================] - 2056s 190ms/step - loss: 0.1905 - accuracy: 0.9172 - val_loss: 1.1649 - val_accuracy: 0.6443\n",
      "\n",
      "Epoch 00171: val_accuracy did not improve from 0.67544\n",
      "Epoch 172/300\n",
      "10800/10800 [==============================] - 2053s 190ms/step - loss: 0.1895 - accuracy: 0.9183 - val_loss: 1.4424 - val_accuracy: 0.6273\n",
      "\n",
      "Epoch 00172: val_accuracy did not improve from 0.67544\n",
      "Epoch 173/300\n",
      "10800/10800 [==============================] - 2054s 190ms/step - loss: 0.1861 - accuracy: 0.9193 - val_loss: 1.2419 - val_accuracy: 0.6347\n",
      "\n",
      "Epoch 00173: val_accuracy did not improve from 0.67544\n",
      "Epoch 174/300\n",
      "10800/10800 [==============================] - 2045s 189ms/step - loss: 0.1760 - accuracy: 0.9243 - val_loss: 1.2786 - val_accuracy: 0.6372\n",
      "\n",
      "Epoch 00174: val_accuracy did not improve from 0.67544\n",
      "Epoch 175/300\n",
      "10800/10800 [==============================] - 2052s 190ms/step - loss: 0.1757 - accuracy: 0.9235 - val_loss: 1.3588 - val_accuracy: 0.6338\n",
      "\n",
      "Epoch 00175: val_accuracy did not improve from 0.67544\n",
      "Epoch 176/300\n",
      "10800/10800 [==============================] - 2056s 190ms/step - loss: 0.1711 - accuracy: 0.9271 - val_loss: 1.4104 - val_accuracy: 0.6263\n",
      "\n",
      "Epoch 00176: val_accuracy did not improve from 0.67544\n",
      "Epoch 177/300\n",
      "10800/10800 [==============================] - 2051s 190ms/step - loss: 0.1657 - accuracy: 0.9291 - val_loss: 1.5284 - val_accuracy: 0.6237\n",
      "\n",
      "Epoch 00177: val_accuracy did not improve from 0.67544\n",
      "Epoch 178/300\n",
      "10800/10800 [==============================] - 2049s 190ms/step - loss: 0.1669 - accuracy: 0.9287 - val_loss: 1.3808 - val_accuracy: 0.6313\n",
      "\n",
      "Epoch 00178: val_accuracy did not improve from 0.67544\n",
      "Epoch 179/300\n",
      "10800/10800 [==============================] - 2050s 190ms/step - loss: 0.1640 - accuracy: 0.9293 - val_loss: 1.4436 - val_accuracy: 0.6355\n",
      "\n",
      "Epoch 00179: val_accuracy did not improve from 0.67544\n",
      "Epoch 180/300\n",
      "10800/10800 [==============================] - 2045s 189ms/step - loss: 0.1571 - accuracy: 0.9326 - val_loss: 1.4871 - val_accuracy: 0.6293\n",
      "\n",
      "Epoch 00180: val_accuracy did not improve from 0.67544\n",
      "Epoch 181/300\n",
      "10800/10800 [==============================] - 2050s 190ms/step - loss: 0.1513 - accuracy: 0.9363 - val_loss: 1.4461 - val_accuracy: 0.6325\n",
      "\n",
      "Epoch 00181: val_accuracy did not improve from 0.67544\n",
      "Epoch 182/300\n",
      "10800/10800 [==============================] - 2053s 190ms/step - loss: 0.1519 - accuracy: 0.9348 - val_loss: 1.3559 - val_accuracy: 0.6321\n",
      "\n",
      "Epoch 00182: val_accuracy did not improve from 0.67544\n",
      "Epoch 183/300\n",
      "10800/10800 [==============================] - 2054s 190ms/step - loss: 0.1497 - accuracy: 0.9372 - val_loss: 1.4974 - val_accuracy: 0.6347\n",
      "\n",
      "Epoch 00183: val_accuracy did not improve from 0.67544\n",
      "Epoch 184/300\n",
      "10800/10800 [==============================] - 2054s 190ms/step - loss: 0.1465 - accuracy: 0.9382 - val_loss: 1.5805 - val_accuracy: 0.6280\n",
      "\n",
      "Epoch 00184: val_accuracy did not improve from 0.67544\n",
      "Epoch 185/300\n",
      "10800/10800 [==============================] - 2054s 190ms/step - loss: 0.1415 - accuracy: 0.9406 - val_loss: 1.7207 - val_accuracy: 0.6298\n",
      "\n",
      "Epoch 00185: val_accuracy did not improve from 0.67544\n",
      "Epoch 186/300\n"
     ]
    },
    {
     "name": "stdout",
     "output_type": "stream",
     "text": [
      "10800/10800 [==============================] - 2045s 189ms/step - loss: 0.1394 - accuracy: 0.9407 - val_loss: 1.4032 - val_accuracy: 0.6343\n",
      "\n",
      "Epoch 00186: val_accuracy did not improve from 0.67544\n",
      "Epoch 187/300\n",
      "10800/10800 [==============================] - 2049s 190ms/step - loss: 0.1379 - accuracy: 0.9417 - val_loss: 1.5615 - val_accuracy: 0.6338\n",
      "\n",
      "Epoch 00187: val_accuracy did not improve from 0.67544\n",
      "Epoch 188/300\n",
      "10800/10800 [==============================] - 2041s 189ms/step - loss: 0.1320 - accuracy: 0.9444 - val_loss: 1.7032 - val_accuracy: 0.6282\n",
      "\n",
      "Epoch 00188: val_accuracy did not improve from 0.67544\n",
      "Epoch 189/300\n",
      "10800/10800 [==============================] - 2054s 190ms/step - loss: 0.1310 - accuracy: 0.9445 - val_loss: 1.7651 - val_accuracy: 0.6165\n",
      "\n",
      "Epoch 00189: val_accuracy did not improve from 0.67544\n",
      "Epoch 190/300\n",
      "10800/10800 [==============================] - 2052s 190ms/step - loss: 0.1302 - accuracy: 0.9448 - val_loss: 1.6036 - val_accuracy: 0.6320\n",
      "\n",
      "Epoch 00190: val_accuracy did not improve from 0.67544\n",
      "Epoch 191/300\n",
      "10800/10800 [==============================] - 2053s 190ms/step - loss: 0.1288 - accuracy: 0.9454 - val_loss: 1.5988 - val_accuracy: 0.6366\n",
      "\n",
      "Epoch 00191: val_accuracy did not improve from 0.67544\n",
      "Epoch 192/300\n",
      "10800/10800 [==============================] - 2048s 190ms/step - loss: 0.1260 - accuracy: 0.9471 - val_loss: 1.7056 - val_accuracy: 0.6275\n",
      "\n",
      "Epoch 00192: val_accuracy did not improve from 0.67544\n",
      "Epoch 193/300\n",
      "10800/10800 [==============================] - 2051s 190ms/step - loss: 0.1227 - accuracy: 0.9481 - val_loss: 1.5852 - val_accuracy: 0.6338\n",
      "\n",
      "Epoch 00193: val_accuracy did not improve from 0.67544\n",
      "Epoch 194/300\n",
      "10800/10800 [==============================] - 2051s 190ms/step - loss: 0.1216 - accuracy: 0.9487 - val_loss: 1.7620 - val_accuracy: 0.6290\n",
      "\n",
      "Epoch 00194: val_accuracy did not improve from 0.67544\n",
      "Epoch 195/300\n",
      "10800/10800 [==============================] - 2050s 190ms/step - loss: 0.1164 - accuracy: 0.9519 - val_loss: 1.6457 - val_accuracy: 0.6319\n",
      "\n",
      "Epoch 00195: val_accuracy did not improve from 0.67544\n",
      "Epoch 00195: early stopping\n",
      "Training Completed!\n"
     ]
    }
   ],
   "source": [
    "#callbacks = [ModelCheckpoint(model_weights_file, monitor='val_acc', save_best_only=True)]\n",
    "\n",
    "history = model.fit(train_generator, epochs=nb_epochs, validation_data=validation_generator, callbacks=[checkpoint,early])\n",
    "\n",
    "print('Training Completed!')"
   ]
  },
  {
   "cell_type": "code",
   "execution_count": 13,
   "metadata": {},
   "outputs": [
    {
     "name": "stdout",
     "output_type": "stream",
     "text": [
      "dict_keys(['loss', 'accuracy', 'val_loss', 'val_accuracy'])\n"
     ]
    },
    {
     "data": {
      "image/png": "[encoded data removed]",
      "text/plain": [
       "<Figure size 432x288 with 1 Axes>"
      ]
     },
     "metadata": {
      "needs_background": "light"
     },
     "output_type": "display_data"
    },
    {
     "data": {
      "image/png": "[encoded data removed]",
      "text/plain": [
       "<Figure size 432x288 with 1 Axes>"
      ]
     },
     "metadata": {
      "needs_background": "light"
     },
     "output_type": "display_data"
    }
   ],
   "source": [
    "import matplotlib.pyplot as plt\n",
    "# list all data in history\n",
    "print(history.history.keys())\n",
    "# summarize history for accuracy\n",
    "plt.plot(history.history['accuracy'])\n",
    "plt.plot(history.history['val_accuracy'])\n",
    "plt.title('model accuracy')\n",
    "plt.ylabel('accuracy')\n",
    "plt.xlabel('epoch')\n",
    "plt.legend(['train', 'test'], loc='upper left')\n",
    "plt.show()\n",
    "# summarize history for loss\n",
    "plt.plot(history.history['loss'])\n",
    "plt.plot(history.history['val_loss'])\n",
    "plt.title('model loss')\n",
    "plt.ylabel('loss')\n",
    "\n",
    "\n",
    "\n",
    "plt.xlabel('epoch')\n",
    "plt.legend(['train', 'test'], loc='upper left')\n",
    "plt.show()"
   ]
  },
  {
   "cell_type": "code",
   "execution_count": 14,
   "metadata": {
    "colab": {
     "base_uri": "https://localhost:8080/",
     "height": 340
    },
    "id": "66v0MvyvZZDW",
    "outputId": "98984b6d-74fe-43a7-a011-6145b6ef1c31"
   },
   "outputs": [
    {
     "name": "stdout",
     "output_type": "stream",
     "text": [
      "Model: \"sequential_1\"\n",
      "_________________________________________________________________\n",
      "Layer (type)                 Output Shape              Param #   \n",
      "=================================================================\n",
      "vgg16 (Functional)           (None, 7, 7, 512)         14714688  \n",
      "_________________________________________________________________\n",
      "flatten (Flatten)            (None, 25088)             0         \n",
      "_________________________________________________________________\n",
      "dense (Dense)                (None, 4096)              102764544 \n",
      "_________________________________________________________________\n",
      "dense_1 (Dense)              (None, 4096)              16781312  \n",
      "_________________________________________________________________\n",
      "dense_2 (Dense)              (None, 1000)              4097000   \n",
      "_________________________________________________________________\n",
      "hidden_layer (Dense)         (None, 128)               128128    \n",
      "_________________________________________________________________\n",
      "classification_layer (Dense) (None, 64)                8256      \n",
      "_________________________________________________________________\n",
      "output_layer (Dense)         (None, 1)                 65        \n",
      "=================================================================\n",
      "Total params: 138,493,993\n",
      "Trainable params: 123,779,305\n",
      "Non-trainable params: 14,714,688\n",
      "_________________________________________________________________\n",
      "Saved model to disk\n"
     ]
    }
   ],
   "source": [
    " # save model and architecture to single file\n",
    "model.save('/home/poornima/Data/GDPS/VGG16/novel_model_verification_GDPS_sgd.h5')\n",
    "model.summary()\n",
    "\n",
    "print(\"Saved model to disk\")"
   ]
  },
  {
   "cell_type": "code",
   "execution_count": 15,
   "metadata": {
    "colab": {
     "base_uri": "https://localhost:8080/",
     "height": 34
    },
    "id": "YFq0H2-BZcjS",
    "outputId": "d34179f6-9cc1-4d4f-8779-a91bf775d909"
   },
   "outputs": [
    {
     "name": "stdout",
     "output_type": "stream",
     "text": [
      "Weights saved in local  Drive\n"
     ]
    }
   ],
   "source": [
    "# save weights to single file\n",
    "model.save_weights('/home/poornima/Data/GDPS/VGG16/novel_model_verification_weights_GDPS_SGD.h5')\n",
    "print(\"Weights saved in local  Drive\")"
   ]
  },
  {
   "cell_type": "code",
   "execution_count": 16,
   "metadata": {
    "colab": {
     "base_uri": "https://localhost:8080/",
     "height": 340
    },
    "id": "WZAi-ofxZgR8",
    "outputId": "c719fec6-0ed3-458f-a837-db040ccb9875"
   },
   "outputs": [
    {
     "name": "stdout",
     "output_type": "stream",
     "text": [
      "Model is Loaded\n",
      "Model: \"sequential_1\"\n",
      "_________________________________________________________________\n",
      "Layer (type)                 Output Shape              Param #   \n",
      "=================================================================\n",
      "vgg16 (Functional)           (None, 7, 7, 512)         14714688  \n",
      "_________________________________________________________________\n",
      "flatten (Flatten)            (None, 25088)             0         \n",
      "_________________________________________________________________\n",
      "dense (Dense)                (None, 4096)              102764544 \n",
      "_________________________________________________________________\n",
      "dense_1 (Dense)              (None, 4096)              16781312  \n",
      "_________________________________________________________________\n",
      "dense_2 (Dense)              (None, 1000)              4097000   \n",
      "_________________________________________________________________\n",
      "hidden_layer (Dense)         (None, 128)               128128    \n",
      "_________________________________________________________________\n",
      "classification_layer (Dense) (None, 64)                8256      \n",
      "_________________________________________________________________\n",
      "output_layer (Dense)         (None, 1)                 65        \n",
      "=================================================================\n",
      "Total params: 138,493,993\n",
      "Trainable params: 123,779,305\n",
      "Non-trainable params: 14,714,688\n",
      "_________________________________________________________________\n"
     ]
    }
   ],
   "source": [
    "# Loading saved model from Drive.\n",
    "from tensorflow.keras.models import load_model\n",
    "model = load_model('/home/poornima/Data/GDPS/VGG16/novel_model_verification_GDPS_sgd.h5')\n",
    "print(\"Model is Loaded\")\n",
    "model.summary()"
   ]
  },
  {
   "cell_type": "code",
   "execution_count": 17,
   "metadata": {},
   "outputs": [
    {
     "data": {
      "image/png": "[encoded data removed]",
      "text/plain": [
       "<IPython.core.display.Image object>"
      ]
     },
     "execution_count": 17,
     "metadata": {},
     "output_type": "execute_result"
    }
   ],
   "source": [
    "from tensorflow.keras.utils import plot_model\n",
    "plot_model(model, to_file='VGG model_plot_CNN.png', show_shapes=True, show_layer_names=True)"
   ]
  },
  {
   "cell_type": "code",
   "execution_count": 18,
   "metadata": {},
   "outputs": [
    {
     "name": "stdout",
     "output_type": "stream",
     "text": [
      "[[2.9217172e-01]\n",
      " [6.8933111e-01]\n",
      " [6.5758842e-01]\n",
      " ...\n",
      " [1.0154002e-09]\n",
      " [4.4559993e-06]\n",
      " [5.6667236e-04]]\n"
     ]
    }
   ],
   "source": [
    "import pandas as pd\n",
    "validation_generator.reset\n",
    "ytesthat = model.predict(validation_generator)\n",
    "print(ytesthat)\n",
    "df = pd.DataFrame({\n",
    "    'filename':validation_generator.filenames,\n",
    "    'predict':ytesthat[:,0],\n",
    "    'y':validation_generator.classes\n",
    "})"
   ]
  },
  {
   "cell_type": "code",
   "execution_count": 19,
   "metadata": {},
   "outputs": [
    {
     "data": {
      "text/html": [
       "<div>\n",
       "<style scoped>\n",
       "    .dataframe tbody tr th:only-of-type {\n",
       "        vertical-align: middle;\n",
       "    }\n",
       "\n",
       "    .dataframe tbody tr th {\n",
       "        vertical-align: top;\n",
       "    }\n",
       "\n",
       "    .dataframe thead th {\n",
       "        text-align: right;\n",
       "    }\n",
       "</style>\n",
       "<table border=\"1\" class=\"dataframe\">\n",
       "  <thead>\n",
       "    <tr style=\"text-align: right;\">\n",
       "      <th></th>\n",
       "      <th>filename</th>\n",
       "      <th>predict</th>\n",
       "      <th>y</th>\n",
       "      <th>y_pred</th>\n",
       "    </tr>\n",
       "  </thead>\n",
       "  <tbody>\n",
       "    <tr>\n",
       "      <th>0</th>\n",
       "      <td>forged/cf-001-01.jpg</td>\n",
       "      <td>0.29217</td>\n",
       "      <td>0</td>\n",
       "      <td>0</td>\n",
       "    </tr>\n",
       "    <tr>\n",
       "      <th>1</th>\n",
       "      <td>forged/cf-001-02.jpg</td>\n",
       "      <td>0.68933</td>\n",
       "      <td>0</td>\n",
       "      <td>1</td>\n",
       "    </tr>\n",
       "    <tr>\n",
       "      <th>2</th>\n",
       "      <td>forged/cf-001-03.jpg</td>\n",
       "      <td>0.65759</td>\n",
       "      <td>0</td>\n",
       "      <td>1</td>\n",
       "    </tr>\n",
       "    <tr>\n",
       "      <th>3</th>\n",
       "      <td>forged/cf-001-04.jpg</td>\n",
       "      <td>0.28393</td>\n",
       "      <td>0</td>\n",
       "      <td>0</td>\n",
       "    </tr>\n",
       "    <tr>\n",
       "      <th>4</th>\n",
       "      <td>forged/cf-001-05.jpg</td>\n",
       "      <td>0.21697</td>\n",
       "      <td>0</td>\n",
       "      <td>0</td>\n",
       "    </tr>\n",
       "    <tr>\n",
       "      <th>...</th>\n",
       "      <td>...</td>\n",
       "      <td>...</td>\n",
       "      <td>...</td>\n",
       "      <td>...</td>\n",
       "    </tr>\n",
       "    <tr>\n",
       "      <th>43195</th>\n",
       "      <td>genuine/c-1636-20.jpg</td>\n",
       "      <td>0.00008</td>\n",
       "      <td>1</td>\n",
       "      <td>0</td>\n",
       "    </tr>\n",
       "    <tr>\n",
       "      <th>43196</th>\n",
       "      <td>genuine/c-1636-21.jpg</td>\n",
       "      <td>0.00028</td>\n",
       "      <td>1</td>\n",
       "      <td>0</td>\n",
       "    </tr>\n",
       "    <tr>\n",
       "      <th>43197</th>\n",
       "      <td>genuine/c-1636-22.jpg</td>\n",
       "      <td>0.00000</td>\n",
       "      <td>1</td>\n",
       "      <td>0</td>\n",
       "    </tr>\n",
       "    <tr>\n",
       "      <th>43198</th>\n",
       "      <td>genuine/c-1636-23.jpg</td>\n",
       "      <td>0.00000</td>\n",
       "      <td>1</td>\n",
       "      <td>0</td>\n",
       "    </tr>\n",
       "    <tr>\n",
       "      <th>43199</th>\n",
       "      <td>genuine/c-1636-24.jpg</td>\n",
       "      <td>0.00057</td>\n",
       "      <td>1</td>\n",
       "      <td>0</td>\n",
       "    </tr>\n",
       "  </tbody>\n",
       "</table>\n",
       "<p>43200 rows × 4 columns</p>\n",
       "</div>"
      ],
      "text/plain": [
       "                    filename  predict  y  y_pred\n",
       "0       forged/cf-001-01.jpg  0.29217  0       0\n",
       "1       forged/cf-001-02.jpg  0.68933  0       1\n",
       "2       forged/cf-001-03.jpg  0.65759  0       1\n",
       "3       forged/cf-001-04.jpg  0.28393  0       0\n",
       "4       forged/cf-001-05.jpg  0.21697  0       0\n",
       "...                      ...      ... ..     ...\n",
       "43195  genuine/c-1636-20.jpg  0.00008  1       0\n",
       "43196  genuine/c-1636-21.jpg  0.00028  1       0\n",
       "43197  genuine/c-1636-22.jpg  0.00000  1       0\n",
       "43198  genuine/c-1636-23.jpg  0.00000  1       0\n",
       "43199  genuine/c-1636-24.jpg  0.00057  1       0\n",
       "\n",
       "[43200 rows x 4 columns]"
      ]
     },
     "execution_count": 19,
     "metadata": {},
     "output_type": "execute_result"
    }
   ],
   "source": [
    "pd.set_option('display.float_format', lambda x: '%.5f' % x)\n",
    "df['y_pred'] = df['predict']>0.5\n",
    "df.y_pred = df.y_pred.astype(int)\n",
    "df"
   ]
  },
  {
   "cell_type": "code",
   "execution_count": 20,
   "metadata": {},
   "outputs": [
    {
     "name": "stdout",
     "output_type": "stream",
     "text": [
      "Total misclassified  Validation images : 15903\n"
     ]
    }
   ],
   "source": [
    "misclassified = df[df['y']!=df['y_pred']]\n",
    "print('Total misclassified  Validation images : %d'%misclassified['y'].count())"
   ]
  },
  {
   "cell_type": "code",
   "execution_count": 21,
   "metadata": {},
   "outputs": [
    {
     "data": {
      "text/plain": [
       "Text(33.0, 0.5, 'true value')"
      ]
     },
     "execution_count": 21,
     "metadata": {},
     "output_type": "execute_result"
    },
    {
     "data": {
      "image/png": "[encoded data removed]",
      "text/plain": [
       "<Figure size 432x288 with 2 Axes>"
      ]
     },
     "metadata": {
      "needs_background": "light"
     },
     "output_type": "display_data"
    }
   ],
   "source": [
    "#Prediction of test set\n",
    "from sklearn.metrics import confusion_matrix \n",
    "import matplotlib.pyplot as plt\n",
    "import seaborn as sns\n",
    "\n",
    "conf_matrix = confusion_matrix(df.y,df.y_pred)\n",
    "sns.heatmap(conf_matrix,cmap=\"YlGnBu\",annot=True,fmt='g', xticklabels=['Genuine', 'Forged'], yticklabels=['Genuine', 'Forged'] );\n",
    "plt.xlabel('predicted value')\n",
    "plt.ylabel('true value')"
   ]
  },
  {
   "cell_type": "code",
   "execution_count": 22,
   "metadata": {},
   "outputs": [
    {
     "data": {
      "image/png": "[encoded data removed]",
      "text/plain": [
       "<Figure size 432x288 with 1 Axes>"
      ]
     },
     "metadata": {
      "needs_background": "light"
     },
     "output_type": "display_data"
    }
   ],
   "source": [
    "from sklearn.metrics import roc_curve\n",
    "from sklearn.metrics import roc_auc_score\n",
    "\n",
    "y_pred_proba = model.predict(validation_generator)[:,0]\n",
    "fpr, tpr, _ = roc_curve(df.y,  y_pred_proba)\n",
    "auc = roc_auc_score(df.y, y_pred_proba)\n",
    "plt.plot(fpr,tpr,label=\"data 1, auc=\"+str(auc))\n",
    "# title\n",
    "plt.title('ROC curve')\n",
    "# x label\n",
    "plt.xlabel('False Positive Rate')\n",
    "# y label\n",
    "plt.ylabel('True Positive rate')\n",
    "\n",
    "plt.legend(loc=4)\n",
    "plt.show()"
   ]
  },
  {
   "cell_type": "code",
   "execution_count": 23,
   "metadata": {},
   "outputs": [],
   "source": [
    "from sklearn.metrics import recall_score\n",
    "tpr = recall_score(df.y,df.y_pred)   # it is better to name it y_test \n",
    "# to calculate, tnr we need to set the positive label to the other class\n",
    "# I assume your negative class consists of 0, if it is -1, change 0 below to that value\n",
    "tnr = recall_score(df.y,df.y_pred, pos_label = 0) \n",
    "fpr = 1 - tnr\n",
    "fnr = 1 - tpr"
   ]
  },
  {
   "cell_type": "code",
   "execution_count": 24,
   "metadata": {},
   "outputs": [
    {
     "name": "stdout",
     "output_type": "stream",
     "text": [
      "0.17508333333333337\n"
     ]
    }
   ],
   "source": [
    "print(fpr)"
   ]
  },
  {
   "cell_type": "code",
   "execution_count": 25,
   "metadata": {},
   "outputs": [
    {
     "name": "stdout",
     "output_type": "stream",
     "text": [
      "0.6094270833333333\n"
     ]
    }
   ],
   "source": [
    "print(fnr)"
   ]
  },
  {
   "cell_type": "code",
   "execution_count": 26,
   "metadata": {},
   "outputs": [
    {
     "name": "stdout",
     "output_type": "stream",
     "text": [
      "[[2.5090945e-05]\n",
      " [3.6329409e-01]\n",
      " [1.4217882e-03]\n",
      " ...\n",
      " [9.9993038e-01]\n",
      " [1.0000000e+00]\n",
      " [9.9999702e-01]]\n"
     ]
    }
   ],
   "source": [
    "import pandas as pd\n",
    "train_generator.reset\n",
    "ytesthat = model.predict(train_generator)\n",
    "print(ytesthat)\n",
    "df = pd.DataFrame({\n",
    "    'filename':train_generator.filenames,\n",
    "    'predict':ytesthat[:,0],\n",
    "    'y_train':train_generator.classes\n",
    "})"
   ]
  },
  {
   "cell_type": "code",
   "execution_count": 27,
   "metadata": {},
   "outputs": [
    {
     "data": {
      "text/html": [
       "<div>\n",
       "<style scoped>\n",
       "    .dataframe tbody tr th:only-of-type {\n",
       "        vertical-align: middle;\n",
       "    }\n",
       "\n",
       "    .dataframe tbody tr th {\n",
       "        vertical-align: top;\n",
       "    }\n",
       "\n",
       "    .dataframe thead th {\n",
       "        text-align: right;\n",
       "    }\n",
       "</style>\n",
       "<table border=\"1\" class=\"dataframe\">\n",
       "  <thead>\n",
       "    <tr style=\"text-align: right;\">\n",
       "      <th></th>\n",
       "      <th>filename</th>\n",
       "      <th>predict</th>\n",
       "      <th>y_train</th>\n",
       "      <th>y_train_pred</th>\n",
       "    </tr>\n",
       "  </thead>\n",
       "  <tbody>\n",
       "    <tr>\n",
       "      <th>0</th>\n",
       "      <td>forged/cf-1637-01.jpg</td>\n",
       "      <td>0.00003</td>\n",
       "      <td>0</td>\n",
       "      <td>0</td>\n",
       "    </tr>\n",
       "    <tr>\n",
       "      <th>1</th>\n",
       "      <td>forged/cf-1637-02.jpg</td>\n",
       "      <td>0.36329</td>\n",
       "      <td>0</td>\n",
       "      <td>0</td>\n",
       "    </tr>\n",
       "    <tr>\n",
       "      <th>2</th>\n",
       "      <td>forged/cf-1637-03.jpg</td>\n",
       "      <td>0.00142</td>\n",
       "      <td>0</td>\n",
       "      <td>0</td>\n",
       "    </tr>\n",
       "    <tr>\n",
       "      <th>3</th>\n",
       "      <td>forged/cf-1637-04.jpg</td>\n",
       "      <td>0.00000</td>\n",
       "      <td>0</td>\n",
       "      <td>0</td>\n",
       "    </tr>\n",
       "    <tr>\n",
       "      <th>4</th>\n",
       "      <td>forged/cf-1637-05.jpg</td>\n",
       "      <td>0.00111</td>\n",
       "      <td>0</td>\n",
       "      <td>0</td>\n",
       "    </tr>\n",
       "    <tr>\n",
       "      <th>...</th>\n",
       "      <td>...</td>\n",
       "      <td>...</td>\n",
       "      <td>...</td>\n",
       "      <td>...</td>\n",
       "    </tr>\n",
       "    <tr>\n",
       "      <th>172795</th>\n",
       "      <td>genuine/c-999-20.jpg</td>\n",
       "      <td>0.99998</td>\n",
       "      <td>1</td>\n",
       "      <td>1</td>\n",
       "    </tr>\n",
       "    <tr>\n",
       "      <th>172796</th>\n",
       "      <td>genuine/c-999-21.jpg</td>\n",
       "      <td>0.99999</td>\n",
       "      <td>1</td>\n",
       "      <td>1</td>\n",
       "    </tr>\n",
       "    <tr>\n",
       "      <th>172797</th>\n",
       "      <td>genuine/c-999-22.jpg</td>\n",
       "      <td>0.99993</td>\n",
       "      <td>1</td>\n",
       "      <td>1</td>\n",
       "    </tr>\n",
       "    <tr>\n",
       "      <th>172798</th>\n",
       "      <td>genuine/c-999-23.jpg</td>\n",
       "      <td>1.00000</td>\n",
       "      <td>1</td>\n",
       "      <td>1</td>\n",
       "    </tr>\n",
       "    <tr>\n",
       "      <th>172799</th>\n",
       "      <td>genuine/c-999-24.jpg</td>\n",
       "      <td>1.00000</td>\n",
       "      <td>1</td>\n",
       "      <td>1</td>\n",
       "    </tr>\n",
       "  </tbody>\n",
       "</table>\n",
       "<p>172800 rows × 4 columns</p>\n",
       "</div>"
      ],
      "text/plain": [
       "                     filename  predict  y_train  y_train_pred\n",
       "0       forged/cf-1637-01.jpg  0.00003        0             0\n",
       "1       forged/cf-1637-02.jpg  0.36329        0             0\n",
       "2       forged/cf-1637-03.jpg  0.00142        0             0\n",
       "3       forged/cf-1637-04.jpg  0.00000        0             0\n",
       "4       forged/cf-1637-05.jpg  0.00111        0             0\n",
       "...                       ...      ...      ...           ...\n",
       "172795   genuine/c-999-20.jpg  0.99998        1             1\n",
       "172796   genuine/c-999-21.jpg  0.99999        1             1\n",
       "172797   genuine/c-999-22.jpg  0.99993        1             1\n",
       "172798   genuine/c-999-23.jpg  1.00000        1             1\n",
       "172799   genuine/c-999-24.jpg  1.00000        1             1\n",
       "\n",
       "[172800 rows x 4 columns]"
      ]
     },
     "execution_count": 27,
     "metadata": {},
     "output_type": "execute_result"
    }
   ],
   "source": [
    "pd.set_option('display.float_format', lambda x: '%.5f' % x)\n",
    "df['y_train_pred'] = df['predict']>0.5\n",
    "df.y_train_pred = df.y_train_pred.astype(int)\n",
    "df"
   ]
  },
  {
   "cell_type": "code",
   "execution_count": 28,
   "metadata": {},
   "outputs": [
    {
     "name": "stdout",
     "output_type": "stream",
     "text": [
      "Total misclassified  Validation images : 8447\n"
     ]
    }
   ],
   "source": [
    "misclassified = df[df['y_train']!=df['y_train_pred']]\n",
    "print('Total misclassified  Validation images : %d'%misclassified['y_train'].count())"
   ]
  },
  {
   "cell_type": "code",
   "execution_count": 30,
   "metadata": {},
   "outputs": [
    {
     "data": {
      "text/plain": [
       "Text(33.0, 0.5, 'true value')"
      ]
     },
     "execution_count": 30,
     "metadata": {},
     "output_type": "execute_result"
    },
    {
     "data": {
      "image/png": "[encoded data removed]",
      "text/plain": [
       "<Figure size 432x288 with 2 Axes>"
      ]
     },
     "metadata": {
      "needs_background": "light"
     },
     "output_type": "display_data"
    }
   ],
   "source": [
    "#Prediction of Training set\n",
    "from sklearn.metrics import confusion_matrix \n",
    "import matplotlib.pyplot as plt\n",
    "import seaborn as sns\n",
    "\n",
    "conf_matrix = confusion_matrix(df.y_train,df.y_train_pred)\n",
    "sns.heatmap(conf_matrix,cmap=\"YlGnBu\",annot=True,fmt='g', xticklabels=['Genuine', 'Forged'], yticklabels=['Genuine', 'Forged'] );\n",
    "plt.xlabel('predicted value')\n",
    "plt.ylabel('true value')"
   ]
  },
  {
   "cell_type": "code",
   "execution_count": 31,
   "metadata": {},
   "outputs": [
    {
     "data": {
      "image/png": "[encoded data removed]",
      "text/plain": [
       "<Figure size 432x288 with 1 Axes>"
      ]
     },
     "metadata": {
      "needs_background": "light"
     },
     "output_type": "display_data"
    }
   ],
   "source": [
    "from sklearn.metrics import roc_curve\n",
    "from sklearn.metrics import roc_auc_score\n",
    "\n",
    "y_train_pred_proba = model.predict(train_generator)[:,0]\n",
    "fpr_train, tpr_train, _ = roc_curve(df.y_train,  y_train_pred_proba)\n",
    "auc = roc_auc_score(df.y_train,  y_train_pred_proba)\n",
    "plt.plot(fpr,tpr,label=\"data 1, auc=\"+str(auc))\n",
    "# title\n",
    "plt.title('ROC curve')\n",
    "# x label\n",
    "plt.xlabel('False Positive Rate')\n",
    "# y label\n",
    "plt.ylabel('True Positive rate')\n",
    "\n",
    "plt.legend(loc=4)\n",
    "plt.show()"
   ]
  },
  {
   "cell_type": "code",
   "execution_count": 32,
   "metadata": {},
   "outputs": [
    {
     "data": {
      "text/plain": [
       "<Figure size 432x288 with 0 Axes>"
      ]
     },
     "metadata": {},
     "output_type": "display_data"
    }
   ],
   "source": [
    "plt.savefig(\"training_ROC_curve.png\")"
   ]
  },
  {
   "cell_type": "code",
   "execution_count": 33,
   "metadata": {},
   "outputs": [],
   "source": [
    "from sklearn.metrics import recall_score\n",
    "tpr = recall_score(df.y_train,df.y_train_pred)   # it is better to name it y_test \n",
    "# to calculate, tnr we need to set the positive label to the other class\n",
    "# I assume your negative class consists of 0, if it is -1, change 0 below to that value\n",
    "tnr = recall_score(df.y_train,df.y_train_pred, pos_label = 0) \n",
    "fpr = 1 - tnr\n",
    "fnr = 1 - tpr"
   ]
  },
  {
   "cell_type": "code",
   "execution_count": 34,
   "metadata": {},
   "outputs": [
    {
     "name": "stdout",
     "output_type": "stream",
     "text": [
      "Flase positive Rate    0.04719791666666662\n",
      "Flase Negative Rate      0.050989583333333366\n"
     ]
    }
   ],
   "source": [
    "print(\"Flase positive Rate    \"+  str(fpr))\n",
    "print(\"Flase Negative Rate      \"+  str(fnr))"
   ]
  },
  {
   "cell_type": "code",
   "execution_count": 35,
   "metadata": {
    "colab": {
     "base_uri": "https://localhost:8080/",
     "height": 34
    },
    "id": "ycbMLOcjZnmk",
    "outputId": "b8692643-72dd-420a-a35a-60675678fdab"
   },
   "outputs": [
    {
     "name": "stdout",
     "output_type": "stream",
     "text": [
      "Imtermediate model is constructed\n"
     ]
    }
   ],
   "source": [
    "# Extracting Features from classification Layer\n",
    "from tensorflow.keras.models import Model\n",
    "layer_name= 'classification_layer'\n",
    "intermediate_layer_model = Model(inputs=model.input,\n",
    "                                 outputs=model.get_layer(layer_name).output)\n",
    "print(\"Imtermediate model is constructed\")\n"
   ]
  },
  {
   "cell_type": "code",
   "execution_count": 36,
   "metadata": {
    "colab": {
     "base_uri": "https://localhost:8080/",
     "height": 34
    },
    "id": "nb3rfV35Z0nr",
    "outputId": "e945cc01-064d-4ed8-b25e-bc857247f94a"
   },
   "outputs": [
    {
     "name": "stdout",
     "output_type": "stream",
     "text": [
      "Model is Complied\n"
     ]
    }
   ],
   "source": [
    "# Compilation of intermediate model\n",
    "intermediate_layer_model.compile(loss='binary_crossentropy', optimizer='sgd', metrics=['accuracy'])\n",
    "print(\"Model is Complied\")"
   ]
  },
  {
   "cell_type": "code",
   "execution_count": 37,
   "metadata": {
    "colab": {
     "base_uri": "https://localhost:8080/",
     "height": 340
    },
    "id": "mjU09Es5Z4Fp",
    "outputId": "3ac70a4d-938b-42d4-dcbf-bc51aac2dc5a"
   },
   "outputs": [
    {
     "name": "stdout",
     "output_type": "stream",
     "text": [
      "Model: \"model\"\n",
      "_________________________________________________________________\n",
      "Layer (type)                 Output Shape              Param #   \n",
      "=================================================================\n",
      "vgg16_input (InputLayer)     [(None, 224, 224, 3)]     0         \n",
      "_________________________________________________________________\n",
      "vgg16 (Functional)           (None, 7, 7, 512)         14714688  \n",
      "_________________________________________________________________\n",
      "flatten (Flatten)            (None, 25088)             0         \n",
      "_________________________________________________________________\n",
      "dense (Dense)                (None, 4096)              102764544 \n",
      "_________________________________________________________________\n",
      "dense_1 (Dense)              (None, 4096)              16781312  \n",
      "_________________________________________________________________\n",
      "dense_2 (Dense)              (None, 1000)              4097000   \n",
      "_________________________________________________________________\n",
      "hidden_layer (Dense)         (None, 128)               128128    \n",
      "_________________________________________________________________\n",
      "classification_layer (Dense) (None, 64)                8256      \n",
      "=================================================================\n",
      "Total params: 138,493,928\n",
      "Trainable params: 123,779,240\n",
      "Non-trainable params: 14,714,688\n",
      "_________________________________________________________________\n",
      "Saved Intermediate model to disk\n"
     ]
    }
   ],
   "source": [
    "# Saving intermediate model\n",
    "intermediate_layer_model.save('/home/poornima/Data/GDPS/VGG16/intermediate_model_vgg16_GDPS_SGD.h5')\n",
    "intermediate_layer_model.summary()\n",
    "\n",
    "print(\"Saved Intermediate model to disk\")"
   ]
  },
  {
   "cell_type": "code",
   "execution_count": 38,
   "metadata": {
    "colab": {
     "base_uri": "https://localhost:8080/",
     "height": 34
    },
    "id": "_TqY_4BnZ8PX",
    "outputId": "bd8dc019-bf2d-46db-cb68-c3ca6aa97faa"
   },
   "outputs": [
    {
     "name": "stdout",
     "output_type": "stream",
     "text": [
      "Intermediate model is loaded\n"
     ]
    }
   ],
   "source": [
    "# Loading Intermediate Model\n",
    "from tensorflow.keras.models import load_model\n",
    "\n",
    "model = load_model('/home/poornima/Data/GDPS/VGG16/intermediate_model_vgg16_GDPS_SGD.h5')\n",
    "print(\"Intermediate model is loaded\")"
   ]
  },
  {
   "cell_type": "code",
   "execution_count": 39,
   "metadata": {
    "colab": {
     "base_uri": "https://localhost:8080/",
     "height": 34
    },
    "id": "-L31_WFZaB1L",
    "outputId": "add94d2d-b95e-4f7d-db42-bb9550b4cafa"
   },
   "outputs": [
    {
     "name": "stdout",
     "output_type": "stream",
     "text": [
      "(172800,)\n"
     ]
    }
   ],
   "source": [
    "# Training Label feature identification(y_train)\n",
    "\n",
    "batch_size=16\n",
    "sample_count=172800\n",
    "features = np.zeros(shape=(172800, 64))  # Must be equal to the output of the convolutional base\n",
    "labels = np.zeros(shape=(172800))\n",
    "i = 0\n",
    "for inputs_batch, labels_batch in train_generator:\n",
    "   features_batch = model.predict(inputs_batch)\n",
    "   features[i * batch_size: (i + 1) * batch_size] = features_batch\n",
    "   labels[i * batch_size: (i + 1) * batch_size] = labels_batch\n",
    "   i += 1\n",
    "   if i*batch_size  >= sample_count:\n",
    "     break\n",
    "print(labels.shape)"
   ]
  },
  {
   "cell_type": "code",
   "execution_count": 41,
   "metadata": {
    "colab": {
     "base_uri": "https://localhost:8080/",
     "height": 289
    },
    "id": "uTKFifVGaH-D",
    "outputId": "e1dc350a-53d6-4e57-a08f-d70706a24ec8"
   },
   "outputs": [
    {
     "name": "stdout",
     "output_type": "stream",
     "text": [
      "(172800, 64)\n",
      "(172800, 1)\n",
      "[[0.]\n",
      " [0.]\n",
      " [0.]\n",
      " ...\n",
      " [1.]\n",
      " [1.]\n",
      " [1.]]\n",
      "[[0.         0.         0.         ... 0.80725676 0.         0.60196596]\n",
      " [0.         0.16053879 0.         ... 0.71673781 0.         0.        ]\n",
      " [0.         0.         0.         ... 0.81970817 0.         0.        ]\n",
      " ...\n",
      " [0.19696932 0.         0.         ... 0.         1.67295671 0.        ]\n",
      " [0.         0.         1.05256414 ... 0.         2.28319025 0.        ]\n",
      " [0.50633466 0.         0.         ... 0.         0.97119415 0.35358551]]\n"
     ]
    }
   ],
   "source": [
    "#identification of training Labels\n",
    "features_train=features\n",
    "print(features_train.shape)\n",
    "labels_train=np.expand_dims(labels, axis=1)\n",
    "print(labels_train.shape)\n",
    "print(labels_train)\n",
    "print(features_train)"
   ]
  },
  {
   "cell_type": "code",
   "execution_count": 42,
   "metadata": {
    "colab": {
     "base_uri": "https://localhost:8080/",
     "height": 68
    },
    "id": "zuqyZ1VjaLMJ",
    "outputId": "f5e00603-cdc1-47d9-b305-1e34e60f532c"
   },
   "outputs": [
    {
     "name": "stdout",
     "output_type": "stream",
     "text": [
      "(43200,)\n",
      "(43200, 64)\n",
      "[0. 0. 0. ... 1. 1. 1.]\n"
     ]
    }
   ],
   "source": [
    "# identification of test labels\n",
    "import numpy as np\n",
    "batch_size=16\n",
    "sample_count=43200\n",
    "features_test = np.zeros(shape=(43200, 64))  # Must be equal to the output of the convolutional base\n",
    "labels_test = np.zeros(shape=(43200))\n",
    "i = 0\n",
    "for inputs_batch, labels_batch in validation_generator:\n",
    "   features_batch = model.predict(inputs_batch)\n",
    "   features_test[i * batch_size: (i + 1) * batch_size] = features_batch\n",
    "   labels_test[i * batch_size: (i + 1) * batch_size] = labels_batch\n",
    "   i += 1\n",
    "   if i*batch_size  >= sample_count:\n",
    "     break\n",
    "print(labels_test.shape)\n",
    "print(features_test.shape)\n",
    "print(labels_test)"
   ]
  },
  {
   "cell_type": "code",
   "execution_count": 34,
   "metadata": {
    "colab": {
     "base_uri": "https://localhost:8080/",
     "height": 170
    },
    "id": "3sxB-SqcaPTV",
    "outputId": "0e7e7f5e-25d8-4acf-e720-752fd3d072df"
   },
   "outputs": [
    {
     "name": "stdout",
     "output_type": "stream",
     "text": [
      "(43200, 64)\n",
      "(43200, 1)\n",
      "[[0.22274882 0.         0.         ... 0.         0.         0.        ]\n",
      " [0.03555851 0.         0.         ... 0.         0.05140381 0.        ]\n",
      " [0.04821665 0.         0.         ... 0.         0.01655199 0.        ]\n",
      " ...\n",
      " [0.42892337 0.         0.         ... 0.         0.         0.        ]\n",
      " [0.33951366 0.         0.         ... 0.         0.         0.        ]\n",
      " [0.44695824 0.         0.         ... 0.         0.         0.        ]]\n"
     ]
    }
   ],
   "source": [
    "# #identification of testing Labels\n",
    "print(features_test.shape)\n",
    "labels_test=np.expand_dims(labels_test, axis=1)\n",
    "print(labels_test.shape)\n",
    "print(features_test)"
   ]
  },
  {
   "cell_type": "code",
   "execution_count": 47,
   "metadata": {
    "colab": {
     "base_uri": "https://localhost:8080/",
     "height": 136
    },
    "id": "cXPaTjNEaTDO",
    "outputId": "38295c87-9bc9-4fc0-a4b5-4bbd80e022ed"
   },
   "outputs": [
    {
     "name": "stdout",
     "output_type": "stream",
     "text": [
      "Confusion matrix: \n",
      "[[19897  4103]\n",
      " [12020  7180]]\n",
      "Accuracy: 62.678\n",
      "Precision: 63.636\n",
      "Recall: 37.396\n",
      "F-Measure: 47.108\n"
     ]
    }
   ],
   "source": [
    "# SVM\n",
    "# Feature Scaling\n",
    "from sklearn.preprocessing import StandardScaler\n",
    "sc = StandardScaler()\n",
    "X_train = sc.fit_transform(features_train)\n",
    "X_test = sc.transform(features_test)\n",
    "\n",
    "# Fitting SVM to the Training set\n",
    "from sklearn.svm import SVC\n",
    "classifier = SVC(kernel = 'linear', random_state = 0)\n",
    "classifier.fit(X_train,labels_train.ravel())\n",
    "\n",
    "# Predicting the Test set results\n",
    "y_pred = classifier.predict(X_test)\n",
    "\n",
    "# Making the Confusion Matrix\n",
    "from sklearn.metrics import confusion_matrix\n",
    "cm = confusion_matrix(labels_test, y_pred)\n",
    "print('Confusion matrix: ')\n",
    "print(cm)\n",
    "# calculate Accuracy\n",
    "from sklearn.metrics import accuracy_score\n",
    "print('Accuracy: %.3f' % (accuracy_score(labels_test, y_pred)*100))\n",
    "from sklearn.metrics import precision_score\n",
    "from sklearn.metrics import recall_score\n",
    "from sklearn.metrics import f1_score\n",
    "# calculate precision\n",
    "# Precision = TruePositives / (TruePositives + FalsePositives)\n",
    "precision = precision_score(labels_test, y_pred, average='binary')\n",
    "print('Precision: %.3f' % (precision*100))\n",
    "# calculate recall\n",
    "# Recall = TruePositives / (TruePositives + FalseNegatives)\n",
    "recall = recall_score(labels_test, y_pred, average='binary')\n",
    "print('Recall: %.3f' % (recall*100))\n",
    "# F-Measure = (2 * Precision * Recall) / (Precision + Recall)\n",
    "# calculate score\n",
    "score = f1_score(labels_test, y_pred, average='binary')\n",
    "print('F-Measure: %.3f' % (score*100))"
   ]
  },
  {
   "cell_type": "code",
   "execution_count": 49,
   "metadata": {
    "colab": {
     "base_uri": "https://localhost:8080/",
     "height": 136
    },
    "id": "tK7WfMXhaWy5",
    "outputId": "7a1e7f87-2353-4c21-c73c-6453a7ff3849"
   },
   "outputs": [
    {
     "name": "stdout",
     "output_type": "stream",
     "text": [
      "Confusion matrix: \n",
      "[[19916  4084]\n",
      " [11998  7202]]\n",
      "Accuracy: 62.773\n",
      "Precision: 63.814\n",
      "Recall: 37.510\n",
      "F-Measure: 47.248\n"
     ]
    }
   ],
   "source": [
    "# Kernel SVM\n",
    "# Feature Scaling\n",
    "from sklearn.preprocessing import StandardScaler\n",
    "sc = StandardScaler()\n",
    "X_train = sc.fit_transform(features_train)\n",
    "X_test = sc.transform(features_test)\n",
    "\n",
    "# Fitting KernelSVM to the Training set\n",
    "from sklearn.svm import SVC\n",
    "classifier = SVC(kernel = 'rbf', random_state = 0)\n",
    "classifier.fit(X_train, labels_train.ravel())\n",
    "\n",
    "# Predicting the Test set results\n",
    "y_pred = classifier.predict(X_test)\n",
    "\n",
    "# Making the Confusion Matrix\n",
    "from sklearn.metrics import confusion_matrix\n",
    "cm = confusion_matrix(labels_test, y_pred)\n",
    "print('Confusion matrix: ')\n",
    "print(cm)\n",
    "# calculate Accuracy\n",
    "from sklearn.metrics import accuracy_score\n",
    "print('Accuracy: %.3f' % (accuracy_score(labels_test, y_pred)*100))\n",
    "from sklearn.metrics import precision_score\n",
    "from sklearn.metrics import recall_score\n",
    "from sklearn.metrics import f1_score\n",
    "# calculate precision\n",
    "# Precision = TruePositives / (TruePositives + FalsePositives)\n",
    "precision = precision_score(labels_test, y_pred, average='binary')\n",
    "print('Precision: %.3f' % (precision*100))\n",
    "# calculate recall\n",
    "# Recall = TruePositives / (TruePositives + FalseNegatives)\n",
    "recall = recall_score(labels_test, y_pred, average='binary')\n",
    "print('Recall: %.3f' % (recall*100))\n",
    "# F-Measure = (2 * Precision * Recall) / (Precision + Recall)\n",
    "# calculate score\n",
    "score = f1_score(labels_test, y_pred, average='binary')\n",
    "print('F-Measure: %.3f' % (score*100))"
   ]
  },
  {
   "cell_type": "code",
   "execution_count": 48,
   "metadata": {
    "colab": {
     "base_uri": "https://localhost:8080/",
     "height": 136
    },
    "id": "lRNFNMveaah7",
    "outputId": "f088fe27-7e58-4bab-fe4e-07fc044ae0c4"
   },
   "outputs": [
    {
     "name": "stdout",
     "output_type": "stream",
     "text": [
      "Confusion matrix: \n",
      "[[20230  3770]\n",
      " [12381  6819]]\n",
      "Accuracy: 62.613\n",
      "Precision: 64.397\n",
      "Recall: 35.516\n",
      "F-Measure: 45.782\n"
     ]
    }
   ],
   "source": [
    "# Random Forest\n",
    "# Feature Scaling\n",
    "from sklearn.preprocessing import StandardScaler\n",
    "sc = StandardScaler()\n",
    "X_train = sc.fit_transform(features_train)\n",
    "X_test = sc.transform(features_test)\n",
    "\n",
    "# Fitting KernelSVM to the Training set\n",
    "from sklearn.ensemble import RandomForestClassifier\n",
    "classifier = RandomForestClassifier(n_estimators = 10, criterion = 'entropy', random_state = 0)\n",
    "classifier.fit(X_train, labels_train.ravel())\n",
    "\n",
    "# Predicting the Test set results\n",
    "y_pred = classifier.predict(X_test)\n",
    "\n",
    "# Making the Confusion Matrix\n",
    "from sklearn.metrics import confusion_matrix\n",
    "cm = confusion_matrix(labels_test, y_pred)\n",
    "print('Confusion matrix: ')\n",
    "print(cm)\n",
    "# calculate Accuracy\n",
    "from sklearn.metrics import accuracy_score\n",
    "print('Accuracy: %.3f' % (accuracy_score(labels_test, y_pred)*100))\n",
    "from sklearn.metrics import precision_score\n",
    "from sklearn.metrics import recall_score\n",
    "from sklearn.metrics import f1_score\n",
    "# calculate precision\n",
    "# Precision = TruePositives / (TruePositives + FalsePositives)\n",
    "precision = precision_score(labels_test, y_pred, average='binary')\n",
    "print('Precision: %.3f' % (precision*100))\n",
    "# calculate recall\n",
    "# Recall = TruePositives / (TruePositives + FalseNegatives)\n",
    "recall = recall_score(labels_test, y_pred, average='binary')\n",
    "print('Recall: %.3f' % (recall*100))\n",
    "# F-Measure = (2 * Precision * Recall) / (Precision + Recall)\n",
    "# calculate score\n",
    "score = f1_score(labels_test, y_pred, average='binary')\n",
    "print('F-Measure: %.3f' % (score*100))"
   ]
  },
  {
   "cell_type": "code",
   "execution_count": 50,
   "metadata": {
    "colab": {
     "base_uri": "https://localhost:8080/",
     "height": 136
    },
    "id": "yv2jInXOakFa",
    "outputId": "db39c23e-c34d-4282-a9fb-5bcf37c68f5f"
   },
   "outputs": [
    {
     "name": "stdout",
     "output_type": "stream",
     "text": [
      "Confusion matrix: \n",
      "[[20230  3770]\n",
      " [12381  6819]]\n",
      "Accuracy: 62.613\n",
      "Precision: 64.397\n",
      "Recall: 35.516\n",
      "F-Measure: 45.782\n"
     ]
    }
   ],
   "source": [
    "# Random Forest\n",
    "# Feature Scaling\n",
    "from sklearn.preprocessing import StandardScaler\n",
    "sc = StandardScaler()\n",
    "X_train = sc.fit_transform(features_train)\n",
    "X_test = sc.transform(features_test)\n",
    "\n",
    "# Fitting KernelSVM to the Training set\n",
    "from sklearn.ensemble import RandomForestClassifier\n",
    "classifier = RandomForestClassifier(n_estimators = 10, criterion = 'entropy', random_state = 0)\n",
    "classifier.fit(X_train, labels_train.ravel())\n",
    "\n",
    "# Predicting the Test set results\n",
    "y_pred = classifier.predict(X_test)\n",
    "\n",
    "# Making the Confusion Matrix\n",
    "from sklearn.metrics import confusion_matrix\n",
    "cm = confusion_matrix(labels_test, y_pred)\n",
    "print('Confusion matrix: ')\n",
    "print(cm)\n",
    "# calculate Accuracy\n",
    "from sklearn.metrics import accuracy_score\n",
    "print('Accuracy: %.3f' % (accuracy_score(labels_test, y_pred)*100))\n",
    "from sklearn.metrics import precision_score\n",
    "from sklearn.metrics import recall_score\n",
    "from sklearn.metrics import f1_score\n",
    "# calculate precision\n",
    "# Precision = TruePositives / (TruePositives + FalsePositives)\n",
    "precision = precision_score(labels_test, y_pred, average='binary')\n",
    "print('Precision: %.3f' % (precision*100))\n",
    "# calculate recall\n",
    "# Recall = TruePositives / (TruePositives + FalseNegatives)\n",
    "recall = recall_score(labels_test, y_pred, average='binary')\n",
    "print('Recall: %.3f' % (recall*100))\n",
    "# F-Measure = (2 * Precision * Recall) / (Precision + Recall)\n",
    "# calculate score\n",
    "score = f1_score(labels_test, y_pred, average='binary')\n",
    "print('F-Measure: %.3f' % (score*100))"
   ]
  },
  {
   "cell_type": "code",
   "execution_count": 45,
   "metadata": {
    "colab": {
     "base_uri": "https://localhost:8080/",
     "height": 136
    },
    "id": "bu_p4Ux7apAA",
    "outputId": "e7604cbe-2444-4215-b4da-a387a73f32cf"
   },
   "outputs": [
    {
     "name": "stdout",
     "output_type": "stream",
     "text": [
      "Confusion matrix: \n",
      "[[19419  4581]\n",
      " [11327  7873]]\n",
      "Accuracy: 63.176\n",
      "Precision: 63.217\n",
      "Recall: 41.005\n",
      "F-Measure: 49.744\n"
     ]
    }
   ],
   "source": [
    "# Naive Bayes\n",
    "# Feature Scaling\n",
    "from sklearn.preprocessing import StandardScaler\n",
    "sc = StandardScaler()\n",
    "X_train = sc.fit_transform(features_train)\n",
    "X_test = sc.transform(features_test)\n",
    "\n",
    "# Fitting KernelSVM to the Training set\n",
    "from sklearn.naive_bayes import GaussianNB\n",
    "classifier = GaussianNB()\n",
    "classifier.fit(X_train, labels_train.ravel())\n",
    "\n",
    "# Predicting the Test set results\n",
    "y_pred = classifier.predict(X_test)\n",
    "\n",
    "# Making the Confusion Matrix\n",
    "from sklearn.metrics import confusion_matrix\n",
    "cm = confusion_matrix(labels_test, y_pred)\n",
    "print('Confusion matrix: ')\n",
    "print(cm)\n",
    "# calculate Accuracy\n",
    "from sklearn.metrics import accuracy_score\n",
    "print('Accuracy: %.3f' % (accuracy_score(labels_test, y_pred)*100))\n",
    "from sklearn.metrics import precision_score\n",
    "from sklearn.metrics import recall_score\n",
    "from sklearn.metrics import f1_score\n",
    "# calculate precision\n",
    "# Precision = TruePositives / (TruePositives + FalsePositives)\n",
    "precision = precision_score(labels_test, y_pred, average='binary')\n",
    "print('Precision: %.3f' % (precision*100))\n",
    "# calculate recall\n",
    "# Recall = TruePositives / (TruePositives + FalseNegatives)\n",
    "recall = recall_score(labels_test, y_pred, average='binary')\n",
    "print('Recall: %.3f' % (recall*100))\n",
    "# F-Measure = (2 * Precision * Recall) / (Precision + Recall)\n",
    "# calculate score\n",
    "score = f1_score(labels_test, y_pred, average='binary')\n",
    "print('F-Measure: %.3f' % (score*100))"
   ]
  },
  {
   "cell_type": "code",
   "execution_count": 51,
   "metadata": {
    "colab": {
     "base_uri": "https://localhost:8080/",
     "height": 136
    },
    "id": "YnfeZ4eVavhm",
    "outputId": "2829fe02-479b-4aee-a9e8-b480a44fd5a4"
   },
   "outputs": [
    {
     "name": "stdout",
     "output_type": "stream",
     "text": [
      "Confusion matrix: \n",
      "[[19632  4368]\n",
      " [11708  7492]]\n",
      "Accuracy: 62.787\n",
      "Precision: 63.170\n",
      "Recall: 39.021\n",
      "F-Measure: 48.242\n"
     ]
    }
   ],
   "source": [
    "# Feature Scaling\n",
    "from sklearn.preprocessing import StandardScaler\n",
    "sc = StandardScaler()\n",
    "X_train = sc.fit_transform(features_train)\n",
    "X_test = sc.transform(features_test)\n",
    "\n",
    "# Fitting KernelSVM to the Training set\n",
    "from sklearn.neighbors import KNeighborsClassifier\n",
    "classifier =  KNeighborsClassifier(n_neighbors = 5, metric = 'minkowski', p = 2)\n",
    "classifier.fit(X_train, labels_train.ravel())\n",
    "\n",
    "# Predicting the Test set results\n",
    "y_pred = classifier.predict(X_test)\n",
    "\n",
    "# Making the Confusion Matrix\n",
    "from sklearn.metrics import confusion_matrix\n",
    "cm = confusion_matrix(labels_test, y_pred)\n",
    "print('Confusion matrix: ')\n",
    "print(cm)\n",
    "# calculate Accuracy\n",
    "from sklearn.metrics import accuracy_score\n",
    "print('Accuracy: %.3f' % (accuracy_score(labels_test, y_pred)*100))\n",
    "from sklearn.metrics import precision_score\n",
    "from sklearn.metrics import recall_score\n",
    "from sklearn.metrics import f1_score\n",
    "# calculate precision\n",
    "# Precision = TruePositives / (TruePositives + FalsePositives)\n",
    "precision = precision_score(labels_test, y_pred, average='binary')\n",
    "print('Precision: %.3f' % (precision*100))\n",
    "# calculate recall\n",
    "# Recall = TruePositives / (TruePositives + FalseNegatives)\n",
    "recall = recall_score(labels_test, y_pred, average='binary')\n",
    "print('Recall: %.3f' % (recall*100))\n",
    "# F-Measure = (2 * Precision * Recall) / (Precision + Recall)\n",
    "# calculate score\n",
    "score = f1_score(labels_test, y_pred, average='binary')\n",
    "print('F-Measure: %.3f' % (score*100))"
   ]
  },
  {
   "cell_type": "code",
   "execution_count": 46,
   "metadata": {
    "colab": {
     "base_uri": "https://localhost:8080/",
     "height": 136
    },
    "id": "qsHQZapTazre",
    "outputId": "20415cfc-f5a5-46f0-a640-df64f0626191"
   },
   "outputs": [
    {
     "name": "stdout",
     "output_type": "stream",
     "text": [
      "Confusion matrix: \n",
      "[[19964  4036]\n",
      " [12067  7133]]\n",
      "Accuracy: 62.725\n",
      "Precision: 63.864\n",
      "Recall: 37.151\n",
      "F-Measure: 46.976\n"
     ]
    }
   ],
   "source": [
    "from sklearn.linear_model import LogisticRegression\n",
    "\n",
    "classifier = LogisticRegression(random_state = 0)\n",
    "# Feature Scaling\n",
    "from sklearn.preprocessing import StandardScaler\n",
    "sc = StandardScaler()\n",
    "X_train = sc.fit_transform(features_train)\n",
    "X_test = sc.transform(features_test)\n",
    "\n",
    "from sklearn.linear_model import LogisticRegression\n",
    "classifier = LogisticRegression(random_state = 0)\n",
    "classifier.fit(X_train, labels_train.ravel())\n",
    "\n",
    "# Predicting the Test set results\n",
    "y_pred = classifier.predict(X_test)\n",
    "\n",
    "# Making the Confusion Matrix\n",
    "from sklearn.metrics import confusion_matrix\n",
    "cm = confusion_matrix(labels_test, y_pred)\n",
    "print('Confusion matrix: ')\n",
    "print(cm)\n",
    "# calculate Accuracy\n",
    "from sklearn.metrics import accuracy_score\n",
    "print('Accuracy: %.3f' % (accuracy_score(labels_test, y_pred)*100))\n",
    "from sklearn.metrics import precision_score\n",
    "from sklearn.metrics import recall_score\n",
    "from sklearn.metrics import f1_score\n",
    "# calculate precision\n",
    "# Precision = TruePositives / (TruePositives + FalsePositives)\n",
    "precision = precision_score(labels_test, y_pred, average='binary')\n",
    "print('Precision: %.3f' % (precision*100))\n",
    "# calculate recall\n",
    "# Recall = TruePositives / (TruePositives + FalseNegatives)\n",
    "recall = recall_score(labels_test, y_pred, average='binary')\n",
    "print('Recall: %.3f' % (recall*100))\n",
    "# F-Measure = (2 * Precision * Recall) / (Precision + Recall)\n",
    "# calculate score\n",
    "score = f1_score(labels_test, y_pred, average='binary')\n",
    "print('F-Measure: %.3f' % (score*100))"
   ]
  },
  {
   "cell_type": "code",
   "execution_count": 4,
   "metadata": {
    "colab": {
     "base_uri": "https://localhost:8080/",
     "height": 85
    },
    "id": "f7EDeFata22V",
    "outputId": "d128b41e-4efa-4322-fc24-ec9160e7099e"
   },
   "outputs": [
    {
     "name": "stderr",
     "output_type": "stream",
     "text": [
      "2022-02-23 18:14:09.246556: I tensorflow/compiler/jit/xla_cpu_device.cc:41] Not creating XLA devices, tf_xla_enable_xla_devices not set\n",
      "2022-02-23 18:14:09.248634: I tensorflow/stream_executor/platform/default/dso_loader.cc:49] Successfully opened dynamic library libcuda.so.1\n",
      "2022-02-23 18:14:09.334189: I tensorflow/core/common_runtime/gpu/gpu_device.cc:1720] Found device 0 with properties: \n",
      "pciBusID: 0000:18:00.0 name: Quadro RTX 8000 computeCapability: 7.5\n",
      "coreClock: 1.77GHz coreCount: 72 deviceMemorySize: 47.45GiB deviceMemoryBandwidth: 625.94GiB/s\n",
      "2022-02-23 18:14:09.334237: I tensorflow/stream_executor/platform/default/dso_loader.cc:49] Successfully opened dynamic library libcudart.so.10.1\n",
      "2022-02-23 18:14:09.352434: I tensorflow/stream_executor/platform/default/dso_loader.cc:49] Successfully opened dynamic library libcublas.so.10\n",
      "2022-02-23 18:14:09.352583: I tensorflow/stream_executor/platform/default/dso_loader.cc:49] Successfully opened dynamic library libcublasLt.so.10\n",
      "2022-02-23 18:14:09.365228: I tensorflow/stream_executor/platform/default/dso_loader.cc:49] Successfully opened dynamic library libcufft.so.10\n",
      "2022-02-23 18:14:09.368270: I tensorflow/stream_executor/platform/default/dso_loader.cc:49] Successfully opened dynamic library libcurand.so.10\n",
      "2022-02-23 18:14:09.390049: I tensorflow/stream_executor/platform/default/dso_loader.cc:49] Successfully opened dynamic library libcusolver.so.10\n",
      "2022-02-23 18:14:09.394842: I tensorflow/stream_executor/platform/default/dso_loader.cc:49] Successfully opened dynamic library libcusparse.so.10\n",
      "2022-02-23 18:14:09.432836: I tensorflow/stream_executor/platform/default/dso_loader.cc:49] Successfully opened dynamic library libcudnn.so.7\n",
      "2022-02-23 18:14:09.433849: I tensorflow/core/common_runtime/gpu/gpu_device.cc:1862] Adding visible gpu devices: 0\n",
      "2022-02-23 18:14:09.434837: I tensorflow/core/platform/cpu_feature_guard.cc:142] This TensorFlow binary is optimized with oneAPI Deep Neural Network Library (oneDNN) to use the following CPU instructions in performance-critical operations:  SSE4.1 SSE4.2 AVX AVX2 AVX512F FMA\n",
      "To enable them in other operations, rebuild TensorFlow with the appropriate compiler flags.\n",
      "2022-02-23 18:14:09.439248: I tensorflow/core/common_runtime/gpu/gpu_device.cc:1720] Found device 0 with properties: \n",
      "pciBusID: 0000:18:00.0 name: Quadro RTX 8000 computeCapability: 7.5\n",
      "coreClock: 1.77GHz coreCount: 72 deviceMemorySize: 47.45GiB deviceMemoryBandwidth: 625.94GiB/s\n",
      "2022-02-23 18:14:09.439308: I tensorflow/stream_executor/platform/default/dso_loader.cc:49] Successfully opened dynamic library libcudart.so.10.1\n",
      "2022-02-23 18:14:09.439356: I tensorflow/stream_executor/platform/default/dso_loader.cc:49] Successfully opened dynamic library libcublas.so.10\n",
      "2022-02-23 18:14:09.439382: I tensorflow/stream_executor/platform/default/dso_loader.cc:49] Successfully opened dynamic library libcublasLt.so.10\n",
      "2022-02-23 18:14:09.439407: I tensorflow/stream_executor/platform/default/dso_loader.cc:49] Successfully opened dynamic library libcufft.so.10\n",
      "2022-02-23 18:14:09.439432: I tensorflow/stream_executor/platform/default/dso_loader.cc:49] Successfully opened dynamic library libcurand.so.10\n",
      "2022-02-23 18:14:09.439456: I tensorflow/stream_executor/platform/default/dso_loader.cc:49] Successfully opened dynamic library libcusolver.so.10\n",
      "2022-02-23 18:14:09.439481: I tensorflow/stream_executor/platform/default/dso_loader.cc:49] Successfully opened dynamic library libcusparse.so.10\n",
      "2022-02-23 18:14:09.439506: I tensorflow/stream_executor/platform/default/dso_loader.cc:49] Successfully opened dynamic library libcudnn.so.7\n",
      "2022-02-23 18:14:09.440223: I tensorflow/core/common_runtime/gpu/gpu_device.cc:1862] Adding visible gpu devices: 0\n",
      "2022-02-23 18:14:09.440525: I tensorflow/stream_executor/platform/default/dso_loader.cc:49] Successfully opened dynamic library libcudart.so.10.1\n",
      "2022-02-23 18:14:10.327452: I tensorflow/core/common_runtime/gpu/gpu_device.cc:1261] Device interconnect StreamExecutor with strength 1 edge matrix:\n",
      "2022-02-23 18:14:10.327487: I tensorflow/core/common_runtime/gpu/gpu_device.cc:1267]      0 \n",
      "2022-02-23 18:14:10.327493: I tensorflow/core/common_runtime/gpu/gpu_device.cc:1280] 0:   N \n",
      "2022-02-23 18:14:10.328909: I tensorflow/core/common_runtime/gpu/gpu_device.cc:1406] Created TensorFlow device (/job:localhost/replica:0/task:0/device:GPU:0 with 45258 MB memory) -> physical GPU (device: 0, name: Quadro RTX 8000, pci bus id: 0000:18:00.0, compute capability: 7.5)\n",
      "2022-02-23 18:14:10.329879: I tensorflow/compiler/jit/xla_gpu_device.cc:99] Not creating XLA devices, tf_xla_enable_xla_devices not set\n"
     ]
    },
    {
     "name": "stdout",
     "output_type": "stream",
     "text": [
      "\n",
      "# Evaluate on test data\n",
      "Model Is Loaded\n"
     ]
    }
   ],
   "source": [
    "from tensorflow.keras.models import load_model\n",
    "\n",
    "model = load_model('/home/poornima/Data/GDPS/VGG16/saved-VGG16-SGD-model-89-0.68.h5')\n",
    "#Evaluate the model on the test data using `evaluate`\n",
    "print('\\n# Evaluate on test data')\n",
    "#results = model.evaluate(validation_generator)\n",
    "#print('test loss, test acc:', results)\n",
    "print(\"Model Is Loaded\")"
   ]
  },
  {
   "cell_type": "code",
   "execution_count": null,
   "metadata": {
    "colab": {
     "base_uri": "https://localhost:8080/",
     "height": 83,
     "referenced_widgets": [
      "3bb62a57242e42c5a1d64b5a22be1aa0",
      "05a69fe882d447d094157958ab8e9bc9",
      "6f251c500d4048e2a33b2fdd5b1f9e3b",
      "ae39a7caa10e4b0ca753de0771874d07",
      "46c90d206d3f4d29b64a59db3e6f979f"
     ]
    },
    "id": "JLQ8BYGedcbk",
    "outputId": "c288c170-589c-4cb3-bc75-c56b1d70a5b8"
   },
   "outputs": [],
   "source": [
    "from tensorflow.keras.preprocessing import image\n",
    "from tensorflow.keras.applications.vgg16 import preprocess_input\n",
    "from tensorflow.keras.models import Model\n",
    "import numpy as np\n",
    "from tensorflow.keras.models import load_model\n",
    "import ipywidgets as widgets\n",
    "from IPython.display import display\n",
    "button = widgets.Button(description=\"Click to know category of Image\",  )\n",
    "output = widgets.Output()\n",
    "\n",
    "model = load_model('/content/drive/My Drive/Colab Notebooks/Signature Verification vgg16 model GDPS/model_vgg16_GDPS.h5')\n",
    "img_path = '/content/drive/My Drive/Colab Notebooks/Dataset GDPS/train_dir/forged/cf-001-01.jpg'\n",
    "img = image.load_img(img_path, target_size=(224, 224))\n",
    "x = image.img_to_array(img)\n",
    "x = np.expand_dims(x, axis=0)\n",
    "x = preprocess_input(x)\n",
    "\n",
    "block4_pool_features = model.predict(x)\n",
    "print(block4_pool_features)\n",
    "if(block4_pool_features> 0.5):\n",
    "  a= 'Genuine'\n",
    "elif(block4_pool_features< 0.5):\n",
    "  a='forged'\n",
    "def on_button_clicked(b):\n",
    "  # Display the message within the output widget.\n",
    "  with output:\n",
    "    print(\"Image is  \"  + a)\n",
    "\n",
    "button.on_click(on_button_clicked)\n",
    "display(button, output)"
   ]
  },
  {
   "cell_type": "code",
   "execution_count": 18,
   "metadata": {},
   "outputs": [
    {
     "name": "stdout",
     "output_type": "stream",
     "text": [
      "Total misclassified  Validation images : 14014\n"
     ]
    }
   ],
   "source": [
    "misclassified = df[df['y']!=df['y_pred']]\n",
    "print('Total misclassified  Validation images : %d'%misclassified['y'].count())"
   ]
  },
  {
   "cell_type": "code",
   "execution_count": 22,
   "metadata": {},
   "outputs": [
    {
     "data": {
      "image/png": "[encoded data removed]",
      "text/plain": [
       "<Figure size 432x288 with 2 Axes>"
      ]
     },
     "metadata": {
      "needs_background": "light"
     },
     "output_type": "display_data"
    }
   ],
   "source": [
    "#Prediction of test set\n",
    "from sklearn.metrics import confusion_matrix \n",
    "import matplotlib.pyplot as plt\n",
    "import seaborn as sns\n",
    "\n",
    "conf_matrix = confusion_matrix(df.y,df.y_pred)\n",
    "sns.heatmap(conf_matrix,cmap=\"YlGnBu\",annot=True,fmt='g', xticklabels=['Genuine', 'Forged'], yticklabels=['Genuine', 'Forged'] );\n",
    "plt.xlabel('predicted value')\n",
    "plt.ylabel('true value');"
   ]
  },
  {
   "cell_type": "code",
   "execution_count": 26,
   "metadata": {},
   "outputs": [
    {
     "name": "stderr",
     "output_type": "stream",
     "text": [
      "/home/poornima/anaconda3/envs/keras/lib/python3.9/site-packages/tensorflow/python/keras/engine/sequential.py:425: UserWarning: `model.predict_proba()` is deprecated and will be removed after 2021-01-01. Please use `model.predict()` instead.\n",
      "  warnings.warn('`model.predict_proba()` is deprecated and '\n"
     ]
    },
    {
     "data": {
      "image/png": "[encoded data removed]",
      "text/plain": [
       "<Figure size 432x288 with 1 Axes>"
      ]
     },
     "metadata": {
      "needs_background": "light"
     },
     "output_type": "display_data"
    }
   ],
   "source": [
    "from sklearn.metrics import roc_curve\n",
    "from sklearn.metrics import roc_auc_score\n",
    "\n",
    "y_pred_proba = model.predict_proba(validation_generator)[:,0]\n",
    "fpr, tpr, _ = roc_curve(df.y,  y_pred_proba)\n",
    "auc = roc_auc_score(df.y, y_pred_proba)\n",
    "plt.plot(fpr,tpr,label=\"data 1, auc=\"+str(auc))\n",
    "# title\n",
    "plt.title('ROC curve')\n",
    "# x label\n",
    "plt.xlabel('False Positive Rate')\n",
    "# y label\n",
    "plt.ylabel('True Positive rate')\n",
    "\n",
    "plt.legend(loc=4)\n",
    "plt.show()"
   ]
  },
  {
   "cell_type": "code",
   "execution_count": 21,
   "metadata": {},
   "outputs": [
    {
     "name": "stdout",
     "output_type": "stream",
     "text": [
      "Default GPU Device: /device:GPU:0\n"
     ]
    },
    {
     "name": "stderr",
     "output_type": "stream",
     "text": [
      "2022-02-23 18:28:28.516655: I tensorflow/core/common_runtime/gpu/gpu_device.cc:1720] Found device 0 with properties: \n",
      "pciBusID: 0000:18:00.0 name: Quadro RTX 8000 computeCapability: 7.5\n",
      "coreClock: 1.77GHz coreCount: 72 deviceMemorySize: 47.45GiB deviceMemoryBandwidth: 625.94GiB/s\n",
      "2022-02-23 18:28:28.516746: I tensorflow/stream_executor/platform/default/dso_loader.cc:49] Successfully opened dynamic library libcudart.so.10.1\n",
      "2022-02-23 18:28:28.516808: I tensorflow/stream_executor/platform/default/dso_loader.cc:49] Successfully opened dynamic library libcublas.so.10\n",
      "2022-02-23 18:28:28.516834: I tensorflow/stream_executor/platform/default/dso_loader.cc:49] Successfully opened dynamic library libcublasLt.so.10\n",
      "2022-02-23 18:28:28.516859: I tensorflow/stream_executor/platform/default/dso_loader.cc:49] Successfully opened dynamic library libcufft.so.10\n",
      "2022-02-23 18:28:28.516884: I tensorflow/stream_executor/platform/default/dso_loader.cc:49] Successfully opened dynamic library libcurand.so.10\n",
      "2022-02-23 18:28:28.516910: I tensorflow/stream_executor/platform/default/dso_loader.cc:49] Successfully opened dynamic library libcusolver.so.10\n",
      "2022-02-23 18:28:28.516934: I tensorflow/stream_executor/platform/default/dso_loader.cc:49] Successfully opened dynamic library libcusparse.so.10\n",
      "2022-02-23 18:28:28.516959: I tensorflow/stream_executor/platform/default/dso_loader.cc:49] Successfully opened dynamic library libcudnn.so.7\n",
      "2022-02-23 18:28:28.517715: I tensorflow/core/common_runtime/gpu/gpu_device.cc:1862] Adding visible gpu devices: 0\n",
      "2022-02-23 18:28:28.517776: I tensorflow/core/common_runtime/gpu/gpu_device.cc:1261] Device interconnect StreamExecutor with strength 1 edge matrix:\n",
      "2022-02-23 18:28:28.517790: I tensorflow/core/common_runtime/gpu/gpu_device.cc:1267]      0 \n",
      "2022-02-23 18:28:28.517802: I tensorflow/core/common_runtime/gpu/gpu_device.cc:1280] 0:   N \n",
      "2022-02-23 18:28:28.518596: I tensorflow/core/common_runtime/gpu/gpu_device.cc:1406] Created TensorFlow device (/device:GPU:0 with 45258 MB memory) -> physical GPU (device: 0, name: Quadro RTX 8000, pci bus id: 0000:18:00.0, compute capability: 7.5)\n",
      "2022-02-23 18:28:28.518633: I tensorflow/compiler/jit/xla_gpu_device.cc:99] Not creating XLA devices, tf_xla_enable_xla_devices not set\n",
      "2022-02-23 18:28:28.519666: I tensorflow/core/common_runtime/gpu/gpu_device.cc:1720] Found device 0 with properties: \n",
      "pciBusID: 0000:18:00.0 name: Quadro RTX 8000 computeCapability: 7.5\n",
      "coreClock: 1.77GHz coreCount: 72 deviceMemorySize: 47.45GiB deviceMemoryBandwidth: 625.94GiB/s\n",
      "2022-02-23 18:28:28.519711: I tensorflow/stream_executor/platform/default/dso_loader.cc:49] Successfully opened dynamic library libcudart.so.10.1\n",
      "2022-02-23 18:28:28.519753: I tensorflow/stream_executor/platform/default/dso_loader.cc:49] Successfully opened dynamic library libcublas.so.10\n",
      "2022-02-23 18:28:28.519778: I tensorflow/stream_executor/platform/default/dso_loader.cc:49] Successfully opened dynamic library libcublasLt.so.10\n",
      "2022-02-23 18:28:28.519803: I tensorflow/stream_executor/platform/default/dso_loader.cc:49] Successfully opened dynamic library libcufft.so.10\n",
      "2022-02-23 18:28:28.519827: I tensorflow/stream_executor/platform/default/dso_loader.cc:49] Successfully opened dynamic library libcurand.so.10\n",
      "2022-02-23 18:28:28.519852: I tensorflow/stream_executor/platform/default/dso_loader.cc:49] Successfully opened dynamic library libcusolver.so.10\n",
      "2022-02-23 18:28:28.519876: I tensorflow/stream_executor/platform/default/dso_loader.cc:49] Successfully opened dynamic library libcusparse.so.10\n",
      "2022-02-23 18:28:28.519901: I tensorflow/stream_executor/platform/default/dso_loader.cc:49] Successfully opened dynamic library libcudnn.so.7\n",
      "2022-02-23 18:28:28.520589: I tensorflow/core/common_runtime/gpu/gpu_device.cc:1862] Adding visible gpu devices: 0\n",
      "2022-02-23 18:28:28.520630: I tensorflow/core/common_runtime/gpu/gpu_device.cc:1261] Device interconnect StreamExecutor with strength 1 edge matrix:\n",
      "2022-02-23 18:28:28.520643: I tensorflow/core/common_runtime/gpu/gpu_device.cc:1267]      0 \n",
      "2022-02-23 18:28:28.520653: I tensorflow/core/common_runtime/gpu/gpu_device.cc:1280] 0:   N \n",
      "2022-02-23 18:28:28.521409: I tensorflow/core/common_runtime/gpu/gpu_device.cc:1406] Created TensorFlow device (/device:GPU:0 with 45258 MB memory) -> physical GPU (device: 0, name: Quadro RTX 8000, pci bus id: 0000:18:00.0, compute capability: 7.5)\n",
      "2022-02-23 18:28:28.521445: I tensorflow/compiler/jit/xla_gpu_device.cc:99] Not creating XLA devices, tf_xla_enable_xla_devices not set\n"
     ]
    }
   ],
   "source": [
    "import tensorflow as tf\n",
    "if tf.test.gpu_device_name():\n",
    "    print('Default GPU Device: {}'.format(tf.test.gpu_device_name()))\n",
    "else:\n",
    "    print(\"Please install GPU version of TF\")"
   ]
  },
  {
   "cell_type": "code",
   "execution_count": null,
   "metadata": {},
   "outputs": [],
   "source": []
  }
 ],
 "metadata": {
  "accelerator": "GPU",
  "colab": {
   "collapsed_sections": [],
   "name": "Signature Verification  GDPS dataset.ipynb",
   "provenance": []
  },
  "kernelspec": {
   "display_name": "Python 3 (ipykernel)",
   "language": "python",
   "name": "python3"
  },
  "language_info": {
   "codemirror_mode": {
    "name": "ipython",
    "version": 3
   },
   "file_extension": ".py",
   "mimetype": "text/x-python",
   "name": "python",
   "nbconvert_exporter": "python",
   "pygments_lexer": "ipython3",
   "version": "3.9.7"
  },
  "widgets": {
   "application/vnd.jupyter.widget-state+json": {
    "05a69fe882d447d094157958ab8e9bc9": {
     "model_module": "@jupyter-widgets/base",
     "model_module_version": "1.2.0",
     "model_name": "LayoutModel",
     "state": {
      "_model_module": "@jupyter-widgets/base",
      "_model_module_version": "1.2.0",
      "_model_name": "LayoutModel",
      "_view_count": null,
      "_view_module": "@jupyter-widgets/base",
      "_view_module_version": "1.2.0",
      "_view_name": "LayoutView",
      "align_content": null,
      "align_items": null,
      "align_self": null,
      "border": null,
      "bottom": null,
      "display": null,
      "flex": null,
      "flex_flow": null,
      "grid_area": null,
      "grid_auto_columns": null,
      "grid_auto_flow": null,
      "grid_auto_rows": null,
      "grid_column": null,
      "grid_gap": null,
      "grid_row": null,
      "grid_template_areas": null,
      "grid_template_columns": null,
      "grid_template_rows": null,
      "height": null,
      "justify_content": null,
      "justify_items": null,
      "left": null,
      "margin": null,
      "max_height": null,
      "max_width": null,
      "min_height": null,
      "min_width": null,
      "object_fit": null,
      "object_position": null,
      "order": null,
      "overflow": null,
      "overflow_x": null,
      "overflow_y": null,
      "padding": null,
      "right": null,
      "top": null,
      "visibility": null,
      "width": null
     }
    },
    "153a6e590daf47bf92200b4baeb536fc": {
     "model_module": "@jupyter-widgets/controls",
     "model_module_version": "1.5.0",
     "model_name": "ButtonStyleModel",
     "state": {
      "_model_module": "@jupyter-widgets/controls",
      "_model_module_version": "1.5.0",
      "_model_name": "ButtonStyleModel",
      "_view_count": null,
      "_view_module": "@jupyter-widgets/base",
      "_view_module_version": "1.2.0",
      "_view_name": "StyleView",
      "button_color": null,
      "font_weight": ""
     }
    },
    "3bb62a57242e42c5a1d64b5a22be1aa0": {
     "model_module": "@jupyter-widgets/controls",
     "model_module_version": "1.5.0",
     "model_name": "ButtonModel",
     "state": {
      "_dom_classes": [],
      "_model_module": "@jupyter-widgets/controls",
      "_model_module_version": "1.5.0",
      "_model_name": "ButtonModel",
      "_view_count": null,
      "_view_module": "@jupyter-widgets/controls",
      "_view_module_version": "1.5.0",
      "_view_name": "ButtonView",
      "button_style": "",
      "description": "Click to know category of Image",
      "disabled": false,
      "icon": "",
      "layout": "IPY_MODEL_05a69fe882d447d094157958ab8e9bc9",
      "style": "IPY_MODEL_6f251c500d4048e2a33b2fdd5b1f9e3b",
      "tooltip": ""
     }
    },
    "46c90d206d3f4d29b64a59db3e6f979f": {
     "model_module": "@jupyter-widgets/base",
     "model_module_version": "1.2.0",
     "model_name": "LayoutModel",
     "state": {
      "_model_module": "@jupyter-widgets/base",
      "_model_module_version": "1.2.0",
      "_model_name": "LayoutModel",
      "_view_count": null,
      "_view_module": "@jupyter-widgets/base",
      "_view_module_version": "1.2.0",
      "_view_name": "LayoutView",
      "align_content": null,
      "align_items": null,
      "align_self": null,
      "border": null,
      "bottom": null,
      "display": null,
      "flex": null,
      "flex_flow": null,
      "grid_area": null,
      "grid_auto_columns": null,
      "grid_auto_flow": null,
      "grid_auto_rows": null,
      "grid_column": null,
      "grid_gap": null,
      "grid_row": null,
      "grid_template_areas": null,
      "grid_template_columns": null,
      "grid_template_rows": null,
      "height": null,
      "justify_content": null,
      "justify_items": null,
      "left": null,
      "margin": null,
      "max_height": null,
      "max_width": null,
      "min_height": null,
      "min_width": null,
      "object_fit": null,
      "object_position": null,
      "order": null,
      "overflow": null,
      "overflow_x": null,
      "overflow_y": null,
      "padding": null,
      "right": null,
      "top": null,
      "visibility": null,
      "width": null
     }
    },
    "642c7e2437e84b21b937880c574192ea": {
     "model_module": "@jupyter-widgets/base",
     "model_module_version": "1.2.0",
     "model_name": "LayoutModel",
     "state": {
      "_model_module": "@jupyter-widgets/base",
      "_model_module_version": "1.2.0",
      "_model_name": "LayoutModel",
      "_view_count": null,
      "_view_module": "@jupyter-widgets/base",
      "_view_module_version": "1.2.0",
      "_view_name": "LayoutView",
      "align_content": null,
      "align_items": null,
      "align_self": null,
      "border": null,
      "bottom": null,
      "display": null,
      "flex": null,
      "flex_flow": null,
      "grid_area": null,
      "grid_auto_columns": null,
      "grid_auto_flow": null,
      "grid_auto_rows": null,
      "grid_column": null,
      "grid_gap": null,
      "grid_row": null,
      "grid_template_areas": null,
      "grid_template_columns": null,
      "grid_template_rows": null,
      "height": null,
      "justify_content": null,
      "justify_items": null,
      "left": null,
      "margin": null,
      "max_height": null,
      "max_width": null,
      "min_height": null,
      "min_width": null,
      "object_fit": null,
      "object_position": null,
      "order": null,
      "overflow": null,
      "overflow_x": null,
      "overflow_y": null,
      "padding": null,
      "right": null,
      "top": null,
      "visibility": null,
      "width": null
     }
    },
    "6f251c500d4048e2a33b2fdd5b1f9e3b": {
     "model_module": "@jupyter-widgets/controls",
     "model_module_version": "1.5.0",
     "model_name": "ButtonStyleModel",
     "state": {
      "_model_module": "@jupyter-widgets/controls",
      "_model_module_version": "1.5.0",
      "_model_name": "ButtonStyleModel",
      "_view_count": null,
      "_view_module": "@jupyter-widgets/base",
      "_view_module_version": "1.2.0",
      "_view_name": "StyleView",
      "button_color": null,
      "font_weight": ""
     }
    },
    "a52c0dab35c8411f8a1e83686d210415": {
     "model_module": "@jupyter-widgets/base",
     "model_module_version": "1.2.0",
     "model_name": "LayoutModel",
     "state": {
      "_model_module": "@jupyter-widgets/base",
      "_model_module_version": "1.2.0",
      "_model_name": "LayoutModel",
      "_view_count": null,
      "_view_module": "@jupyter-widgets/base",
      "_view_module_version": "1.2.0",
      "_view_name": "LayoutView",
      "align_content": null,
      "align_items": null,
      "align_self": null,
      "border": null,
      "bottom": null,
      "display": null,
      "flex": null,
      "flex_flow": null,
      "grid_area": null,
      "grid_auto_columns": null,
      "grid_auto_flow": null,
      "grid_auto_rows": null,
      "grid_column": null,
      "grid_gap": null,
      "grid_row": null,
      "grid_template_areas": null,
      "grid_template_columns": null,
      "grid_template_rows": null,
      "height": null,
      "justify_content": null,
      "justify_items": null,
      "left": null,
      "margin": null,
      "max_height": null,
      "max_width": null,
      "min_height": null,
      "min_width": null,
      "object_fit": null,
      "object_position": null,
      "order": null,
      "overflow": null,
      "overflow_x": null,
      "overflow_y": null,
      "padding": null,
      "right": null,
      "top": null,
      "visibility": null,
      "width": null
     }
    },
    "ae39a7caa10e4b0ca753de0771874d07": {
     "model_module": "@jupyter-widgets/output",
     "model_module_version": "1.0.0",
     "model_name": "OutputModel",
     "state": {
      "_dom_classes": [],
      "_model_module": "@jupyter-widgets/output",
      "_model_module_version": "1.0.0",
      "_model_name": "OutputModel",
      "_view_count": null,
      "_view_module": "@jupyter-widgets/output",
      "_view_module_version": "1.0.0",
      "_view_name": "OutputView",
      "layout": "IPY_MODEL_46c90d206d3f4d29b64a59db3e6f979f",
      "msg_id": "",
      "outputs": [
       {
        "metadata": {
         "tags": []
        },
        "output_type": "stream",
        "stream": "stdout",
        "text": "Image is  forged\n"
       }
      ]
     }
    },
    "bed5f74780ae4f8d87800bd1e244be5e": {
     "model_module": "@jupyter-widgets/output",
     "model_module_version": "1.0.0",
     "model_name": "OutputModel",
     "state": {
      "_dom_classes": [],
      "_model_module": "@jupyter-widgets/output",
      "_model_module_version": "1.0.0",
      "_model_name": "OutputModel",
      "_view_count": null,
      "_view_module": "@jupyter-widgets/output",
      "_view_module_version": "1.0.0",
      "_view_name": "OutputView",
      "layout": "IPY_MODEL_642c7e2437e84b21b937880c574192ea",
      "msg_id": "",
      "outputs": [
       {
        "metadata": {
         "tags": []
        },
        "output_type": "stream",
        "stream": "stdout",
        "text": "Button clicked.\n"
       }
      ]
     }
    },
    "d51a8019e74344f088a8f7ef974eb613": {
     "model_module": "@jupyter-widgets/controls",
     "model_module_version": "1.5.0",
     "model_name": "ButtonModel",
     "state": {
      "_dom_classes": [],
      "_model_module": "@jupyter-widgets/controls",
      "_model_module_version": "1.5.0",
      "_model_name": "ButtonModel",
      "_view_count": null,
      "_view_module": "@jupyter-widgets/controls",
      "_view_module_version": "1.5.0",
      "_view_name": "ButtonView",
      "button_style": "",
      "description": "Click Me!",
      "disabled": false,
      "icon": "",
      "layout": "IPY_MODEL_a52c0dab35c8411f8a1e83686d210415",
      "style": "IPY_MODEL_153a6e590daf47bf92200b4baeb536fc",
      "tooltip": ""
     }
    }
   }
  }
 },
 "nbformat": 4,
 "nbformat_minor": 1
}
