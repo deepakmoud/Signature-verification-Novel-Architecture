{
 "cells": [
  {
   "cell_type": "code",
   "execution_count": 6,
   "id": "129beae9",
   "metadata": {},
   "outputs": [
    {
     "name": "stdout",
     "output_type": "stream",
     "text": [
      "file /home/poornima/Data/GDPS DATASET/val_dir/forged/cf-1580-17.jpg is not a valid image file \n",
      "file /home/poornima/Data/GDPS DATASET/train_dir/genuine/c-1765-17.jpg is not a valid image file \n",
      "file /home/poornima/Data/GDPS DATASET/train_dir/genuine/c-2899-15.jpg is not a valid image file \n",
      "file /home/poornima/Data/GDPS DATASET/train_dir/genuine/c-741-02.jpg is not a valid image file \n",
      "file /home/poornima/Data/GDPS DATASET/train_dir/genuine/c-3663-20.jpg is not a valid image file \n",
      "file /home/poornima/Data/GDPS DATASET/train_dir/forged/cf-3120-21.jpg is not a valid image file \n",
      "file /home/poornima/Data/GDPS DATASET/train_dir/forged/cf-3665-20.jpg is not a valid image file \n",
      "file /home/poornima/Data/GDPS DATASET/train_dir/forged/cf-553-26.jpg is not a valid image file \n",
      "file /home/poornima/Data/GDPS DATASET/train_dir/forged/cf-2555-05.jpg is not a valid image file \n",
      "['/home/poornima/Data/GDPS DATASET/val_dir/forged/cf-1580-17.jpg', '/home/poornima/Data/GDPS DATASET/train_dir/genuine/c-1765-17.jpg', '/home/poornima/Data/GDPS DATASET/train_dir/genuine/c-2899-15.jpg', '/home/poornima/Data/GDPS DATASET/train_dir/genuine/c-741-02.jpg', '/home/poornima/Data/GDPS DATASET/train_dir/genuine/c-3663-20.jpg', '/home/poornima/Data/GDPS DATASET/train_dir/forged/cf-3120-21.jpg', '/home/poornima/Data/GDPS DATASET/train_dir/forged/cf-3665-20.jpg', '/home/poornima/Data/GDPS DATASET/train_dir/forged/cf-553-26.jpg', '/home/poornima/Data/GDPS DATASET/train_dir/forged/cf-2555-05.jpg']\n"
     ]
    }
   ],
   "source": [
    "import os\n",
    "\n",
    "import cv2\n",
    "bad_list=[]\n",
    "dir='/home/poornima/Data/GDPS DATASET'\n",
    "subdir_list=os.listdir(dir) # create a list of the sub directories in the directory ie train or test\n",
    "for d in subdir_list:  # iterate through the sub directories train and test\n",
    "    dpath=os.path.join (dir, d) # create path to sub directory\n",
    "    if d in ['train_dir', 'val_dir']:\n",
    "        class_list=os.listdir(dpath) # list of classes ie dog or cat\n",
    "       # print (class_list)\n",
    "        for klass in class_list: # iterate through the two classes\n",
    "            class_path=os.path.join(dpath, klass) # path to class directory\n",
    "            #print(class_path)\n",
    "            file_list=os.listdir(class_path) # create list of files in class directory\n",
    "            for f in file_list: # iterate through the files\n",
    "                fpath=os.path.join (class_path,f)\n",
    "                index=f.rfind('.') # find index of period infilename\n",
    "                ext=f[index+1:] # get the files extension\n",
    "                if ext  not in ['jpg']:\n",
    "                    print(f'file {fpath}  has an invalid extension {ext}')\n",
    "                    bad_list.append(fpath)                    \n",
    "                else:\n",
    "                    try:\n",
    "                        img=cv2.imread(fpath)\n",
    "                        size=img.shape\n",
    "                    except:\n",
    "                        print(f'file {fpath} is not a valid image file ')\n",
    "                        bad_list.append(fpath)\n",
    "                       \n",
    "print (bad_list)"
   ]
  },
  {
   "cell_type": "code",
   "execution_count": null,
   "id": "bb4e82cc",
   "metadata": {},
   "outputs": [],
   "source": []
  }
 ],
 "metadata": {
  "kernelspec": {
   "display_name": "Python 3 (ipykernel)",
   "language": "python",
   "name": "python3"
  },
  "language_info": {
   "codemirror_mode": {
    "name": "ipython",
    "version": 3
   },
   "file_extension": ".py",
   "mimetype": "text/x-python",
   "name": "python",
   "nbconvert_exporter": "python",
   "pygments_lexer": "ipython3",
   "version": "3.9.7"
  }
 },
 "nbformat": 4,
 "nbformat_minor": 5
}
